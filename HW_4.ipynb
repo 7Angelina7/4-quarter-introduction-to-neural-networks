{
 "cells": [
  {
   "cell_type": "code",
   "execution_count": 1,
   "metadata": {
    "id": "SD_aX-qVkWoo"
   },
   "outputs": [
    {
     "name": "stderr",
     "output_type": "stream",
     "text": [
      "C:\\Users\\User\\anaconda3\\lib\\site-packages\\scipy\\__init__.py:146: UserWarning: A NumPy version >=1.16.5 and <1.23.0 is required for this version of SciPy (detected version 1.25.0\n",
      "  warnings.warn(f\"A NumPy version >={np_minversion} and <{np_maxversion}\"\n"
     ]
    }
   ],
   "source": [
    "import numpy as np\n",
    "import pandas as pd\n",
    "\n",
    "\n",
    "from __future__ import print_function\n",
    "import keras \n",
    "import tensorflow as tf\n",
    "from keras.datasets import cifar10\n",
    "from keras.preprocessing.image import ImageDataGenerator\n",
    "from keras.models import Sequential\n",
    "from keras.layers import Dense, Dropout, Activation, Flatten\n",
    "from keras.layers import Conv2D, MaxPooling2D\n",
    "\n",
    "import os\n",
    "\n",
    "import matplotlib.pyplot as plt"
   ]
  },
  {
   "cell_type": "code",
   "execution_count": 2,
   "metadata": {
    "id": "yubuevA2vazD"
   },
   "outputs": [],
   "source": [
    "tf.random.set_seed(42)"
   ]
  },
  {
   "cell_type": "code",
   "execution_count": 3,
   "metadata": {
    "id": "Y0kSetPZmaXb"
   },
   "outputs": [],
   "source": [
    "classes = ['самолет', 'автомобиль', 'птица', 'кот', 'олень', 'собака', 'лягушка', 'лошадь', 'корабль', 'грузовик']"
   ]
  },
  {
   "cell_type": "code",
   "execution_count": 4,
   "metadata": {
    "id": "G6KS4VUppmlz"
   },
   "outputs": [],
   "source": [
    "results = pd.DataFrame() # сводная таблица результатов\n",
    "step = [] # шаг\n",
    "desc = [] # описание\n",
    "train_acc = [] # результат на трейне\n",
    "test_acc = [] # результат на тесте"
   ]
  },
  {
   "cell_type": "code",
   "execution_count": 5,
   "metadata": {
    "id": "jhIMAj62lAXR"
   },
   "outputs": [],
   "source": [
    "# установка параметров нейросети\n",
    "batch_size = 32\n",
    "num_classes = 10\n",
    "epochs = 1 \n",
    "data_augmentation = True\n",
    "num_predictions = 20"
   ]
  },
  {
   "cell_type": "code",
   "execution_count": 6,
   "metadata": {
    "colab": {
     "base_uri": "https://localhost:8080/"
    },
    "id": "NNekpUaQmF7N",
    "outputId": "6068ad8c-aa01-4b99-a475-b456c66a35ed"
   },
   "outputs": [
    {
     "name": "stdout",
     "output_type": "stream",
     "text": [
      "x_train shape: (50000, 32, 32, 3)\n",
      "50000 тренировочные примеры\n",
      "10000 тестовые примеры\n"
     ]
    }
   ],
   "source": [
    "# разделение тренировочной и тестовой выборки\n",
    "(x_train, y_train), (x_test, y_test) = cifar10.load_data()\n",
    "\n",
    "print('x_train shape:', x_train.shape)\n",
    "print(x_train.shape[0], 'тренировочные примеры')\n",
    "print(x_test.shape[0], 'тестовые примеры')\n",
    "\n",
    "# преобразование матрицы чисел 0-9 в бинарную матрицу чисел 0-1\n",
    "y_train = keras.utils.to_categorical(y_train, num_classes)\n",
    "y_test = keras.utils.to_categorical(y_test, num_classes)\n",
    "\n",
    "x_train = x_train.astype('float32')\n",
    "x_test = x_test.astype('float32')\n",
    "x_train /= 255\n",
    "x_test /= 255"
   ]
  },
  {
   "cell_type": "code",
   "execution_count": 7,
   "metadata": {
    "colab": {
     "base_uri": "https://localhost:8080/",
     "height": 281
    },
    "id": "w8MXtDFSmaaR",
    "outputId": "dc27722f-7a28-4fe1-f868-e97a1f747744"
   },
   "outputs": [
    {
     "data": {
      "image/png": "[encoded data removed]",
      "text/plain": [
       "<Figure size 432x288 with 1 Axes>"
      ]
     },
     "metadata": {
      "needs_background": "light"
     },
     "output_type": "display_data"
    }
   ],
   "source": [
    "N = 1\n",
    "\n",
    "plt.imshow(x_test[N])\n",
    "plt.title(classes[np.argmax(y_test[N,:])])\n",
    "plt.show()"
   ]
  },
  {
   "cell_type": "markdown",
   "metadata": {
    "id": "ll63T77TzT3O"
   },
   "source": [
    "####  Попробуйте улучшить точность распознавания образов cifar 10 сверточной нейронной сетью, рассмотренной на уроке. Приложите анализ с описанием того, что улучшает работу нейронной сети, а что ухудшает."
   ]
  },
  {
   "cell_type": "code",
   "execution_count": 8,
   "metadata": {
    "colab": {
     "base_uri": "https://localhost:8080/"
    },
    "id": "Kb6bEXcwmaHm",
    "outputId": "d60b2a18-4ab8-469a-cb4b-a43804e74d41"
   },
   "outputs": [
    {
     "name": "stdout",
     "output_type": "stream",
     "text": [
      "Model: \"sequential\"\n",
      "_________________________________________________________________\n",
      " Layer (type)                Output Shape              Param #   \n",
      "=================================================================\n",
      " conv2d (Conv2D)             (None, 32, 32, 32)        896       \n",
      "                                                                 \n",
      " activation (Activation)     (None, 32, 32, 32)        0         \n",
      "                                                                 \n",
      " conv2d_1 (Conv2D)           (None, 30, 30, 32)        9248      \n",
      "                                                                 \n",
      " activation_1 (Activation)   (None, 30, 30, 32)        0         \n",
      "                                                                 \n",
      " max_pooling2d (MaxPooling2D  (None, 15, 15, 32)       0         \n",
      " )                                                               \n",
      "                                                                 \n",
      " dropout (Dropout)           (None, 15, 15, 32)        0         \n",
      "                                                                 \n",
      " conv2d_2 (Conv2D)           (None, 15, 15, 64)        18496     \n",
      "                                                                 \n",
      " activation_2 (Activation)   (None, 15, 15, 64)        0         \n",
      "                                                                 \n",
      " conv2d_3 (Conv2D)           (None, 13, 13, 64)        36928     \n",
      "                                                                 \n",
      " activation_3 (Activation)   (None, 13, 13, 64)        0         \n",
      "                                                                 \n",
      " max_pooling2d_1 (MaxPooling  (None, 6, 6, 64)         0         \n",
      " 2D)                                                             \n",
      "                                                                 \n",
      " dropout_1 (Dropout)         (None, 6, 6, 64)          0         \n",
      "                                                                 \n",
      " flatten (Flatten)           (None, 2304)              0         \n",
      "                                                                 \n",
      " dense (Dense)               (None, 512)               1180160   \n",
      "                                                                 \n",
      " activation_4 (Activation)   (None, 512)               0         \n",
      "                                                                 \n",
      " dropout_2 (Dropout)         (None, 512)               0         \n",
      "                                                                 \n",
      " dense_1 (Dense)             (None, 10)                5130      \n",
      "                                                                 \n",
      " activation_5 (Activation)   (None, 10)                0         \n",
      "                                                                 \n",
      "=================================================================\n",
      "Total params: 1,250,858\n",
      "Trainable params: 1,250,858\n",
      "Non-trainable params: 0\n",
      "_________________________________________________________________\n",
      "Использование data augmentation в реальном времени\n"
     ]
    },
    {
     "name": "stderr",
     "output_type": "stream",
     "text": [
      "C:\\Users\\User\\anaconda3\\lib\\site-packages\\keras\\optimizers\\legacy\\rmsprop.py:143: UserWarning: The `lr` argument is deprecated, use `learning_rate` instead.\n",
      "  super().__init__(name, **kwargs)\n",
      "C:\\Users\\User\\AppData\\Local\\Temp/ipykernel_7768/3175910428.py:71: UserWarning: `Model.fit_generator` is deprecated and will be removed in a future version. Please use `Model.fit`, which supports generators.\n",
      "  model_0.fit_generator(datagen.flow(x_train, y_train,\n"
     ]
    },
    {
     "name": "stdout",
     "output_type": "stream",
     "text": [
      "1563/1563 [==============================] - 178s 113ms/step - loss: 1.8606 - accuracy: 0.3128 - val_loss: 1.5522 - val_accuracy: 0.4294\n"
     ]
    }
   ],
   "source": [
    "# конфигурирование слоев нейросети\n",
    "model_0 = Sequential()\n",
    "\n",
    "# слои нейросети отвественные за свертку и max-pooling\n",
    "model_0.add(Conv2D(32, (3, 3), padding='same',\n",
    "                 input_shape=x_train.shape[1:]))\n",
    "model_0.add(Activation('relu'))\n",
    "model_0.add(Conv2D(32, (3, 3)))\n",
    "model_0.add(Activation('relu'))\n",
    "model_0.add(MaxPooling2D(pool_size=(2, 2)))\n",
    "model_0.add(Dropout(0.25))\n",
    "\n",
    "model_0.add(Conv2D(64, (3, 3), padding='same'))\n",
    "model_0.add(Activation('relu'))\n",
    "model_0.add(Conv2D(64, (3, 3)))\n",
    "model_0.add(Activation('relu'))\n",
    "model_0.add(MaxPooling2D(pool_size=(2, 2)))\n",
    "model_0.add(Dropout(0.25))\n",
    "\n",
    "# полносвязные слои нейронной сети\n",
    "model_0.add(Flatten())\n",
    "model_0.add(Dense(512))\n",
    "model_0.add(Activation('relu'))\n",
    "model_0.add(Dropout(0.5))\n",
    "model_0.add(Dense(num_classes))\n",
    "model_0.add(Activation('softmax'))\n",
    "\n",
    "model_0.summary()\n",
    "\n",
    "# инициализация RMSprop optimizer\n",
    "opt = keras.optimizers.RMSprop(lr=0.0001, decay=1e-6)\n",
    "\n",
    "# компиляция модели\n",
    "model_0.compile(loss='categorical_crossentropy',\n",
    "              optimizer=opt,\n",
    "              metrics=['accuracy'])\n",
    "\n",
    "if not data_augmentation:\n",
    "    print('Не используется data augmentation')\n",
    "    model_0.fit(x_train, y_train,\n",
    "              batch_size=batch_size,\n",
    "              epochs=epochs,\n",
    "              validation_data=(x_test, y_test),\n",
    "              shuffle=True)\n",
    "else:\n",
    "    print('Использование data augmentation в реальном времени')\n",
    "    # Препроцессинг и data augmentation в реальном времени:\n",
    "    datagen = ImageDataGenerator(\n",
    "        featurewise_center=False,\n",
    "        samplewise_center=False,\n",
    "        featurewise_std_normalization=False,\n",
    "        samplewise_std_normalization=False,\n",
    "        zca_whitening=False, \n",
    "        zca_epsilon=1e-06, \n",
    "        rotation_range=0, \n",
    "        width_shift_range=0.1,\n",
    "        height_shift_range=0.1,\n",
    "        shear_range=0., \n",
    "        zoom_range=0., \n",
    "        channel_shift_range=0.,\n",
    "        fill_mode='nearest',\n",
    "        cval=0.,\n",
    "        horizontal_flip=True,\n",
    "        vertical_flip=False,\n",
    "        rescale=None,\n",
    "        preprocessing_function=None,\n",
    "        data_format=None,\n",
    "        validation_split=0.0)\n",
    "\n",
    "    # запуск data augmentation через fit_generator\n",
    "    model_0.fit_generator(datagen.flow(x_train, y_train,\n",
    "                                     batch_size=batch_size),\n",
    "                        epochs=epochs,\n",
    "                        validation_data=(x_test, y_test),\n",
    "                        workers=4)"
   ]
  },
  {
   "cell_type": "code",
   "execution_count": 9,
   "metadata": {
    "colab": {
     "base_uri": "https://localhost:8080/"
    },
    "id": "wYRdLqzxmaR3",
    "outputId": "438bf686-1974-4f00-80f4-9d61af2894e0"
   },
   "outputs": [
    {
     "name": "stdout",
     "output_type": "stream",
     "text": [
      "1563/1563 - 39s - loss: 1.5568 - accuracy: 0.4313 - 39s/epoch - 25ms/step\n",
      "313/313 - 8s - loss: 1.5522 - accuracy: 0.4294 - 8s/epoch - 26ms/step\n",
      "train_loss: 1.5568214654922485, train_accuracy: 0.4313400089740753\n",
      "test_loss: 1.5522143840789795, test_accuracy: 0.4293999969959259\n"
     ]
    }
   ],
   "source": [
    "train_loss, train_m = model_0.evaluate(x_train, y_train, verbose=2)\n",
    "test_loss, test_m = model_0.evaluate(x_test, y_test, verbose=2)\n",
    "print(f'train_loss: {train_loss}, train_accuracy: {train_m}')\n",
    "print(f'test_loss: {test_loss}, test_accuracy: {test_m}')\n",
    "\n",
    "step.append(0)\n",
    "desc.append('Базовая модель')\n",
    "train_acc.append(round(train_m, 2))\n",
    "test_acc.append(round(test_m, 2))"
   ]
  },
  {
   "cell_type": "code",
   "execution_count": 10,
   "metadata": {
    "colab": {
     "base_uri": "https://localhost:8080/",
     "height": 1000
    },
    "id": "pIS3hByS2rmy",
    "outputId": "8d2e6a04-e2e6-49bc-843e-4c15c8a1ef84"
   },
   "outputs": [
    {
     "name": "stdout",
     "output_type": "stream",
     "text": [
      "You must install pydot (`pip install pydot`) and install graphviz (see instructions at https://graphviz.gitlab.io/download/) for plot_model to work.\n"
     ]
    }
   ],
   "source": [
    "tf.keras.utils.plot_model(model_0)"
   ]
  },
  {
   "cell_type": "code",
   "execution_count": 11,
   "metadata": {
    "colab": {
     "base_uri": "https://localhost:8080/",
     "height": 338
    },
    "id": "XFSYgR4mmaUj",
    "outputId": "29c3970e-5465-46ea-9d36-e2f85ccddea9"
   },
   "outputs": [
    {
     "name": "stdout",
     "output_type": "stream",
     "text": [
      "1/1 [==============================] - 0s 250ms/step\n"
     ]
    },
    {
     "data": {
      "image/png": "[encoded data removed]",
      "text/plain": [
       "<Figure size 432x288 with 1 Axes>"
      ]
     },
     "metadata": {
      "needs_background": "light"
     },
     "output_type": "display_data"
    }
   ],
   "source": [
    "N = 1\n",
    "y_p = model_0.predict(x_test[N:N+1])\n",
    "y_t = np.argmax(y_test[N:N+1], axis = 1 )\n",
    "y_i = np.argmax(y_p, axis = 1 )\n",
    "plt.imshow(x_test[N])\n",
    "plt.title(f'это : {classes[y_t[0]]} - опознан как : {classes[y_i[0]]}')\n",
    "plt.show()"
   ]
  },
  {
   "cell_type": "markdown",
   "metadata": {
    "id": "xvQ5AwroscUb"
   },
   "source": [
    "####  Оценим изменение точности при увеличении ширины сети (больше фильтров)"
   ]
  },
  {
   "cell_type": "code",
   "execution_count": 12,
   "metadata": {
    "colab": {
     "base_uri": "https://localhost:8080/"
    },
    "id": "Zavc912Mmacr",
    "outputId": "7c35b3b6-5647-4d61-b03d-c0d090d6c8d2"
   },
   "outputs": [
    {
     "name": "stdout",
     "output_type": "stream",
     "text": [
      "Model: \"sequential_1\"\n",
      "_________________________________________________________________\n",
      " Layer (type)                Output Shape              Param #   \n",
      "=================================================================\n",
      " conv2d_4 (Conv2D)           (None, 32, 32, 32)        896       \n",
      "                                                                 \n",
      " activation_6 (Activation)   (None, 32, 32, 32)        0         \n",
      "                                                                 \n",
      " conv2d_5 (Conv2D)           (None, 30, 30, 32)        9248      \n",
      "                                                                 \n",
      " activation_7 (Activation)   (None, 30, 30, 32)        0         \n",
      "                                                                 \n",
      " max_pooling2d_2 (MaxPooling  (None, 15, 15, 32)       0         \n",
      " 2D)                                                             \n",
      "                                                                 \n",
      " dropout_3 (Dropout)         (None, 15, 15, 32)        0         \n",
      "                                                                 \n",
      " conv2d_6 (Conv2D)           (None, 15, 15, 128)       36992     \n",
      "                                                                 \n",
      " activation_8 (Activation)   (None, 15, 15, 128)       0         \n",
      "                                                                 \n",
      " conv2d_7 (Conv2D)           (None, 13, 13, 256)       295168    \n",
      "                                                                 \n",
      " activation_9 (Activation)   (None, 13, 13, 256)       0         \n",
      "                                                                 \n",
      " max_pooling2d_3 (MaxPooling  (None, 6, 6, 256)        0         \n",
      " 2D)                                                             \n",
      "                                                                 \n",
      " dropout_4 (Dropout)         (None, 6, 6, 256)         0         \n",
      "                                                                 \n",
      " flatten_1 (Flatten)         (None, 9216)              0         \n",
      "                                                                 \n",
      " dense_2 (Dense)             (None, 512)               4719104   \n",
      "                                                                 \n",
      " activation_10 (Activation)  (None, 512)               0         \n",
      "                                                                 \n",
      " dropout_5 (Dropout)         (None, 512)               0         \n",
      "                                                                 \n",
      " dense_3 (Dense)             (None, 10)                5130      \n",
      "                                                                 \n",
      " activation_11 (Activation)  (None, 10)                0         \n",
      "                                                                 \n",
      "=================================================================\n",
      "Total params: 5,066,538\n",
      "Trainable params: 5,066,538\n",
      "Non-trainable params: 0\n",
      "_________________________________________________________________\n",
      "Использование data augmentation в реальном времени\n"
     ]
    },
    {
     "name": "stderr",
     "output_type": "stream",
     "text": [
      "C:\\Users\\User\\AppData\\Local\\Temp/ipykernel_7768/2845483113.py:71: UserWarning: `Model.fit_generator` is deprecated and will be removed in a future version. Please use `Model.fit`, which supports generators.\n",
      "  model_1.fit_generator(datagen.flow(x_train, y_train,\n"
     ]
    },
    {
     "name": "stdout",
     "output_type": "stream",
     "text": [
      "1563/1563 [==============================] - 442s 281ms/step - loss: 1.7685 - accuracy: 0.3481 - val_loss: 1.5077 - val_accuracy: 0.4650\n"
     ]
    }
   ],
   "source": [
    "# конфигурирование слоев нейросети\n",
    "model_1 = Sequential()\n",
    "\n",
    "# слои нейросети отвественные за свертку и max-pooling\n",
    "model_1.add(Conv2D(32, (3, 3), padding='same',\n",
    "                 input_shape=x_train.shape[1:]))\n",
    "model_1.add(Activation('relu'))\n",
    "model_1.add(Conv2D(32, (3, 3)))\n",
    "model_1.add(Activation('relu'))\n",
    "model_1.add(MaxPooling2D(pool_size=(2, 2)))\n",
    "model_1.add(Dropout(0.25))\n",
    "\n",
    "model_1.add(Conv2D(128, (3, 3), padding='same'))\n",
    "model_1.add(Activation('relu'))\n",
    "model_1.add(Conv2D(256, (3, 3)))\n",
    "model_1.add(Activation('relu'))\n",
    "model_1.add(MaxPooling2D(pool_size=(2, 2)))\n",
    "model_1.add(Dropout(0.25))\n",
    "\n",
    "# полносвязные слои нейронной сети\n",
    "model_1.add(Flatten())\n",
    "model_1.add(Dense(512))\n",
    "model_1.add(Activation('relu'))\n",
    "model_1.add(Dropout(0.5))\n",
    "model_1.add(Dense(num_classes))\n",
    "model_1.add(Activation('softmax'))\n",
    "\n",
    "model_1.summary()\n",
    "\n",
    "# инициализация RMSprop optimizer\n",
    "opt = keras.optimizers.RMSprop(lr=0.0001, decay=1e-6)\n",
    "\n",
    "# компиляция модели\n",
    "model_1.compile(loss='categorical_crossentropy',\n",
    "              optimizer=opt,\n",
    "              metrics=['accuracy'])\n",
    "\n",
    "if not data_augmentation:\n",
    "    print('Не используется data augmentation')\n",
    "    model_1.fit(x_train, y_train,\n",
    "              batch_size=batch_size,\n",
    "              epochs=epochs,\n",
    "              validation_data=(x_test, y_test),\n",
    "              shuffle=True)\n",
    "else:\n",
    "    print('Использование data augmentation в реальном времени')\n",
    "    # Препроцессинг и data augmentation в реальном времени:\n",
    "    datagen = ImageDataGenerator(\n",
    "        featurewise_center=False,\n",
    "        samplewise_center=False,\n",
    "        featurewise_std_normalization=False,\n",
    "        samplewise_std_normalization=False,\n",
    "        zca_whitening=False, \n",
    "        zca_epsilon=1e-06, \n",
    "        rotation_range=0, \n",
    "        width_shift_range=0.1,\n",
    "        height_shift_range=0.1,\n",
    "        shear_range=0., \n",
    "        zoom_range=0., \n",
    "        channel_shift_range=0.,\n",
    "        fill_mode='nearest',\n",
    "        cval=0.,\n",
    "        horizontal_flip=True,\n",
    "        vertical_flip=False,\n",
    "        rescale=None,\n",
    "        preprocessing_function=None,\n",
    "        data_format=None,\n",
    "        validation_split=0.0)\n",
    "\n",
    "    # запуск data augmentation через fit_generator\n",
    "    model_1.fit_generator(datagen.flow(x_train, y_train,\n",
    "                                     batch_size=batch_size),\n",
    "                        epochs=epochs,\n",
    "                        validation_data=(x_test, y_test),\n",
    "                        workers=4)\n"
   ]
  },
  {
   "cell_type": "code",
   "execution_count": 13,
   "metadata": {
    "colab": {
     "base_uri": "https://localhost:8080/"
    },
    "id": "F9Nvw2u6mafF",
    "outputId": "b160a6a5-4ff4-4e05-d0e8-763fcdc06b78"
   },
   "outputs": [
    {
     "name": "stdout",
     "output_type": "stream",
     "text": [
      "1563/1563 - 71s - loss: 1.5098 - accuracy: 0.4638 - 71s/epoch - 45ms/step\n",
      "313/313 - 14s - loss: 1.5077 - accuracy: 0.4650 - 14s/epoch - 46ms/step\n",
      "train_loss: 1.50975501537323, train_accuracy: 0.4638400077819824\n",
      "test_loss: 1.5077465772628784, test_accuracy: 0.4650000035762787\n"
     ]
    }
   ],
   "source": [
    "train_loss, train_m = model_1.evaluate(x_train, y_train, verbose=2)\n",
    "test_loss, test_m = model_1.evaluate(x_test, y_test, verbose=2)\n",
    "print(f'train_loss: {train_loss}, train_accuracy: {train_m}')\n",
    "print(f'test_loss: {test_loss}, test_accuracy: {test_m}')\n",
    "\n",
    "step.append(1)\n",
    "desc.append('Больше каналов (увеличение ширины)')\n",
    "train_acc.append(round(train_m, 2))\n",
    "test_acc.append(round(test_m, 2))"
   ]
  },
  {
   "cell_type": "code",
   "execution_count": 14,
   "metadata": {
    "colab": {
     "base_uri": "https://localhost:8080/",
     "height": 1000
    },
    "id": "wecjMCdA1hLo",
    "outputId": "df0a2833-3e54-484c-b14b-28e7395eacda"
   },
   "outputs": [
    {
     "name": "stdout",
     "output_type": "stream",
     "text": [
      "You must install pydot (`pip install pydot`) and install graphviz (see instructions at https://graphviz.gitlab.io/download/) for plot_model to work.\n"
     ]
    }
   ],
   "source": [
    "tf.keras.utils.plot_model(model_1)"
   ]
  },
  {
   "cell_type": "code",
   "execution_count": 15,
   "metadata": {
    "colab": {
     "base_uri": "https://localhost:8080/",
     "height": 338
    },
    "id": "KnuQEjR8mahr",
    "outputId": "9a50580e-41a1-491f-f894-090d6c2651ad"
   },
   "outputs": [
    {
     "name": "stdout",
     "output_type": "stream",
     "text": [
      "1/1 [==============================] - 0s 95ms/step\n"
     ]
    },
    {
     "data": {
      "image/png": "[encoded data removed]",
      "text/plain": [
       "<Figure size 432x288 with 1 Axes>"
      ]
     },
     "metadata": {
      "needs_background": "light"
     },
     "output_type": "display_data"
    }
   ],
   "source": [
    "N = 1\n",
    "y_p = model_1.predict(x_test[N:N+1])\n",
    "y_t = np.argmax(y_test[N:N+1], axis = 1 )\n",
    "y_i = np.argmax(y_p, axis = 1 )\n",
    "plt.imshow(x_test[N])\n",
    "plt.title(f'это : {classes[y_t[0]]} - опознан как : {classes[y_i[0]]}')\n",
    "plt.show()"
   ]
  },
  {
   "cell_type": "markdown",
   "metadata": {
    "id": "nw-NepkRmKWf"
   },
   "source": [
    "#### Оценить рост точности при увеличении глубины сети (больше слоев)"
   ]
  },
  {
   "cell_type": "code",
   "execution_count": 16,
   "metadata": {
    "colab": {
     "base_uri": "https://localhost:8080/"
    },
    "id": "66mnYAXbuW1w",
    "outputId": "af7fbcbf-9f7f-41dc-ff14-22ab35314979"
   },
   "outputs": [
    {
     "name": "stdout",
     "output_type": "stream",
     "text": [
      "Model: \"sequential_2\"\n",
      "_________________________________________________________________\n",
      " Layer (type)                Output Shape              Param #   \n",
      "=================================================================\n",
      " conv2d_8 (Conv2D)           (None, 32, 32, 32)        896       \n",
      "                                                                 \n",
      " activation_12 (Activation)  (None, 32, 32, 32)        0         \n",
      "                                                                 \n",
      " conv2d_9 (Conv2D)           (None, 30, 30, 32)        9248      \n",
      "                                                                 \n",
      " activation_13 (Activation)  (None, 30, 30, 32)        0         \n",
      "                                                                 \n",
      " max_pooling2d_4 (MaxPooling  (None, 15, 15, 32)       0         \n",
      " 2D)                                                             \n",
      "                                                                 \n",
      " dropout_6 (Dropout)         (None, 15, 15, 32)        0         \n",
      "                                                                 \n",
      " conv2d_10 (Conv2D)          (None, 15, 15, 128)       36992     \n",
      "                                                                 \n",
      " activation_14 (Activation)  (None, 15, 15, 128)       0         \n",
      "                                                                 \n",
      " conv2d_11 (Conv2D)          (None, 13, 13, 256)       295168    \n",
      "                                                                 \n",
      " activation_15 (Activation)  (None, 13, 13, 256)       0         \n",
      "                                                                 \n",
      " max_pooling2d_5 (MaxPooling  (None, 6, 6, 256)        0         \n",
      " 2D)                                                             \n",
      "                                                                 \n",
      " dropout_7 (Dropout)         (None, 6, 6, 256)         0         \n",
      "                                                                 \n",
      " flatten_2 (Flatten)         (None, 9216)              0         \n",
      "                                                                 \n",
      " dense_4 (Dense)             (None, 512)               4719104   \n",
      "                                                                 \n",
      " activation_16 (Activation)  (None, 512)               0         \n",
      "                                                                 \n",
      " dropout_8 (Dropout)         (None, 512)               0         \n",
      "                                                                 \n",
      " dense_5 (Dense)             (None, 10)                5130      \n",
      "                                                                 \n",
      " activation_17 (Activation)  (None, 10)                0         \n",
      "                                                                 \n",
      "=================================================================\n",
      "Total params: 5,066,538\n",
      "Trainable params: 5,066,538\n",
      "Non-trainable params: 0\n",
      "_________________________________________________________________\n",
      "Использование data augmentation в реальном времени\n"
     ]
    },
    {
     "name": "stderr",
     "output_type": "stream",
     "text": [
      "C:\\Users\\User\\AppData\\Local\\Temp/ipykernel_7768/1322475058.py:72: UserWarning: `Model.fit_generator` is deprecated and will be removed in a future version. Please use `Model.fit`, which supports generators.\n",
      "  model_2.fit_generator(datagen.flow(x_train, y_train,\n"
     ]
    },
    {
     "name": "stdout",
     "output_type": "stream",
     "text": [
      "1563/1563 [==============================] - 317s 202ms/step - loss: 1.7757 - accuracy: 0.3505 - val_loss: 1.4422 - val_accuracy: 0.4820\n"
     ]
    }
   ],
   "source": [
    "# конфигурирование слоев нейросети\n",
    "model_2 = Sequential()\n",
    "\n",
    "# слои нейросети отвественные за свертку и max-pooling\n",
    "model_2.add(Conv2D(32, (3, 3), padding='same',\n",
    "                 input_shape=x_train.shape[1:]))\n",
    "model_2.add(Activation('relu'))\n",
    "model_2.add(Conv2D(32, (3, 3)))\n",
    "model_2.add(Activation('relu'))\n",
    "model_2.add(MaxPooling2D(pool_size=(2, 2)))\n",
    "model_2.add(Dropout(0.25))\n",
    "\n",
    "model_2.add(Conv2D(128, (3, 3), padding='same'))\n",
    "model_2.add(Activation('relu'))\n",
    "model_2.add(Conv2D(256, (3, 3)))\n",
    "model_2.add(Activation('relu'))\n",
    "model_2.add(MaxPooling2D(pool_size=(2, 2)))\n",
    "model_2.add(Dropout(0.25))\n",
    "\n",
    "# полносвязные слои нейронной сети\n",
    "model_2.add(Flatten())\n",
    "model_2.add(Dense(512))\n",
    "model_2.add(Activation('relu'))\n",
    "model_2.add(Dropout(0.5))\n",
    "model_2.add(Dense(num_classes))\n",
    "model_2.add(Activation('softmax'))\n",
    "\n",
    "model_2.summary()\n",
    "\n",
    "# инициализация RMSprop optimizer\n",
    "opt = keras.optimizers.RMSprop(lr=0.0001, decay=1e-6)\n",
    "\n",
    "# компиляция модели\n",
    "model_2.compile(loss='categorical_crossentropy',\n",
    "              optimizer=opt,\n",
    "              metrics=['accuracy'])\n",
    "\n",
    "if not data_augmentation:\n",
    "    print('Не используется data augmentation')\n",
    "    model_2.fit(x_train, y_train,\n",
    "              batch_size=batch_size,\n",
    "              epochs=epochs,\n",
    "              validation_data=(x_test, y_test),\n",
    "              shuffle=True)\n",
    "else:\n",
    "    print('Использование data augmentation в реальном времени')\n",
    "    # Препроцессинг и data augmentation в реальном времени:\n",
    "    datagen = ImageDataGenerator(\n",
    "        featurewise_center=False,\n",
    "        samplewise_center=False,\n",
    "        featurewise_std_normalization=False,\n",
    "        samplewise_std_normalization=False,\n",
    "        zca_whitening=False, \n",
    "        zca_epsilon=1e-06, \n",
    "        rotation_range=0, \n",
    "        width_shift_range=0.1,\n",
    "        height_shift_range=0.1,\n",
    "        shear_range=0., \n",
    "        zoom_range=0., \n",
    "        channel_shift_range=0.,\n",
    "        fill_mode='nearest',\n",
    "        cval=0.,\n",
    "        horizontal_flip=True,\n",
    "        vertical_flip=False,\n",
    "        rescale=None,\n",
    "        preprocessing_function=None,\n",
    "        data_format=None,\n",
    "        validation_split=0.0)\n",
    "\n",
    "\n",
    "    # запуск data augmentation через fit_generator\n",
    "    model_2.fit_generator(datagen.flow(x_train, y_train,\n",
    "                                     batch_size=batch_size),\n",
    "                        epochs=epochs,\n",
    "                        validation_data=(x_test, y_test),\n",
    "                        workers=4)"
   ]
  },
  {
   "cell_type": "code",
   "execution_count": 17,
   "metadata": {
    "colab": {
     "base_uri": "https://localhost:8080/"
    },
    "id": "LSrp_eCFucrb",
    "outputId": "51aada30-0d6e-49da-a631-fa94f69dccb0"
   },
   "outputs": [
    {
     "name": "stdout",
     "output_type": "stream",
     "text": [
      "1563/1563 - 72s - loss: 1.4471 - accuracy: 0.4833 - 72s/epoch - 46ms/step\n",
      "313/313 - 14s - loss: 1.4422 - accuracy: 0.4820 - 14s/epoch - 46ms/step\n",
      "train_loss: 1.4470771551132202, train_accuracy: 0.48330000042915344\n",
      "test_loss: 1.4421530961990356, test_accuracy: 0.4819999933242798\n"
     ]
    }
   ],
   "source": [
    "train_loss, train_m = model_2.evaluate(x_train, y_train, verbose=2)\n",
    "test_loss, test_m = model_2.evaluate(x_test, y_test, verbose=2)\n",
    "print(f'train_loss: {train_loss}, train_accuracy: {train_m}')\n",
    "print(f'test_loss: {test_loss}, test_accuracy: {test_m}')\n",
    "\n",
    "step.append(2)\n",
    "desc.append('Больше слоёв (увеличение глубины)')\n",
    "train_acc.append(round(train_m, 2))\n",
    "test_acc.append(round(test_m, 2))"
   ]
  },
  {
   "cell_type": "code",
   "execution_count": 18,
   "metadata": {
    "colab": {
     "base_uri": "https://localhost:8080/",
     "height": 1000
    },
    "id": "rew1asey2BUB",
    "outputId": "0ea16dd4-09e4-4593-d11f-3372ee66eab3"
   },
   "outputs": [
    {
     "name": "stdout",
     "output_type": "stream",
     "text": [
      "You must install pydot (`pip install pydot`) and install graphviz (see instructions at https://graphviz.gitlab.io/download/) for plot_model to work.\n"
     ]
    }
   ],
   "source": [
    "tf.keras.utils.plot_model(model_2)"
   ]
  },
  {
   "cell_type": "code",
   "execution_count": 19,
   "metadata": {
    "colab": {
     "base_uri": "https://localhost:8080/",
     "height": 299
    },
    "id": "2fVttwtOufiN",
    "outputId": "1f3d14fc-1b5c-4345-b613-83864b7e32de"
   },
   "outputs": [
    {
     "name": "stdout",
     "output_type": "stream",
     "text": [
      "1/1 [==============================] - 0s 94ms/step\n"
     ]
    },
    {
     "data": {
      "image/png": "[encoded data removed]",
      "text/plain": [
       "<Figure size 432x288 with 1 Axes>"
      ]
     },
     "metadata": {
      "needs_background": "light"
     },
     "output_type": "display_data"
    }
   ],
   "source": [
    "N = 1\n",
    "y_p = model_2.predict(x_test[N:N+1])\n",
    "y_t = np.argmax(y_test[N:N+1], axis = 1 )\n",
    "y_i = np.argmax(y_p, axis = 1 )\n",
    "plt.imshow(x_test[N])\n",
    "plt.title(f'это : {classes[y_t[0]]} - опознан как : {classes[y_i[0]]}')\n",
    "plt.show()"
   ]
  },
  {
   "cell_type": "code",
   "execution_count": 20,
   "metadata": {
    "colab": {
     "base_uri": "https://localhost:8080/",
     "height": 299
    },
    "id": "4dp2y7gyvHGq",
    "outputId": "892e0237-c21e-4573-986a-e4fd33bb48f2"
   },
   "outputs": [
    {
     "name": "stdout",
     "output_type": "stream",
     "text": [
      "1/1 [==============================] - 0s 22ms/step\n"
     ]
    },
    {
     "data": {
      "image/png": "[encoded data removed]",
      "text/plain": [
       "<Figure size 432x288 with 1 Axes>"
      ]
     },
     "metadata": {
      "needs_background": "light"
     },
     "output_type": "display_data"
    }
   ],
   "source": [
    "N = 200\n",
    "y_p = model_2.predict(x_test[N:N+1])\n",
    "y_t = np.argmax(y_test[N:N+1], axis = 1 )\n",
    "y_i = np.argmax(y_p, axis = 1 )\n",
    "plt.imshow(x_test[N])\n",
    "plt.title(f'это : {classes[y_t[0]]} - опознан как : {classes[y_i[0]]}')\n",
    "plt.show()"
   ]
  },
  {
   "cell_type": "markdown",
   "metadata": {
    "id": "gaq6MbeNvoIY"
   },
   "source": [
    "#### Полносвязная сеть для этой выборки"
   ]
  },
  {
   "cell_type": "code",
   "execution_count": 21,
   "metadata": {
    "colab": {
     "base_uri": "https://localhost:8080/"
    },
    "id": "v6B4abGYvR7m",
    "outputId": "ccd6058d-2929-4ad4-c8c9-e27521c7ca45"
   },
   "outputs": [
    {
     "name": "stdout",
     "output_type": "stream",
     "text": [
      "Model: \"sequential_3\"\n",
      "_________________________________________________________________\n",
      " Layer (type)                Output Shape              Param #   \n",
      "=================================================================\n",
      " flatten_3 (Flatten)         (None, 3072)              0         \n",
      "                                                                 \n",
      " dense_6 (Dense)             (None, 512)               1573376   \n",
      "                                                                 \n",
      " activation_18 (Activation)  (None, 512)               0         \n",
      "                                                                 \n",
      " dropout_9 (Dropout)         (None, 512)               0         \n",
      "                                                                 \n",
      " dense_7 (Dense)             (None, 10)                5130      \n",
      "                                                                 \n",
      " activation_19 (Activation)  (None, 10)                0         \n",
      "                                                                 \n",
      "=================================================================\n",
      "Total params: 1,578,506\n",
      "Trainable params: 1,578,506\n",
      "Non-trainable params: 0\n",
      "_________________________________________________________________\n",
      "Использование data augmentation в реальном времени\n"
     ]
    },
    {
     "name": "stderr",
     "output_type": "stream",
     "text": [
      "C:\\Users\\User\\AppData\\Local\\Temp/ipykernel_7768/114647218.py:55: UserWarning: `Model.fit_generator` is deprecated and will be removed in a future version. Please use `Model.fit`, which supports generators.\n",
      "  model_3.fit_generator(datagen.flow(x_train, y_train,\n"
     ]
    },
    {
     "name": "stdout",
     "output_type": "stream",
     "text": [
      "1563/1563 [==============================] - 37s 24ms/step - loss: 2.0157 - accuracy: 0.2698 - val_loss: 1.8034 - val_accuracy: 0.3700\n"
     ]
    }
   ],
   "source": [
    "# конфигурирование слоев нейросети\n",
    "model_3 = Sequential()\n",
    "\n",
    "# полносвязные слои нейронной сети\n",
    "model_3.add(Flatten(input_shape=x_train.shape[1:]))\n",
    "model_3.add(Dense(512))\n",
    "model_3.add(Activation('relu'))\n",
    "model_3.add(Dropout(0.5))\n",
    "model_3.add(Dense(num_classes))\n",
    "model_3.add(Activation('softmax'))\n",
    "\n",
    "model_3.summary()\n",
    "\n",
    "# инициализация RMSprop optimizer\n",
    "opt = keras.optimizers.RMSprop(lr=0.0001, decay=1e-6)\n",
    "\n",
    "# компиляция модели\n",
    "model_3.compile(loss='categorical_crossentropy',\n",
    "              optimizer=opt,\n",
    "              metrics=['accuracy'])\n",
    "\n",
    "if not data_augmentation:\n",
    "    print('Не используется data augmentation')\n",
    "    model_3.fit(x_train, y_train,\n",
    "              batch_size=batch_size,\n",
    "              epochs=epochs,\n",
    "              validation_data=(x_test, y_test),\n",
    "              shuffle=True)\n",
    "else:\n",
    "    print('Использование data augmentation в реальном времени')\n",
    "    # Препроцессинг и data augmentation в реальном времени:\n",
    "    datagen = ImageDataGenerator(\n",
    "        featurewise_center=False,\n",
    "        samplewise_center=False,\n",
    "        featurewise_std_normalization=False,\n",
    "        samplewise_std_normalization=False,\n",
    "        zca_whitening=False, \n",
    "        zca_epsilon=1e-06, \n",
    "        rotation_range=0, \n",
    "        width_shift_range=0.1,\n",
    "        height_shift_range=0.1,\n",
    "        shear_range=0., \n",
    "        zoom_range=0., \n",
    "        channel_shift_range=0.,\n",
    "        fill_mode='nearest',\n",
    "        cval=0.,\n",
    "        horizontal_flip=True,\n",
    "        vertical_flip=False,\n",
    "        rescale=None,\n",
    "        preprocessing_function=None,\n",
    "        data_format=None,\n",
    "        validation_split=0.0)\n",
    "\n",
    "    # запуск data augmentation через fit_generator\n",
    "    model_3.fit_generator(datagen.flow(x_train, y_train,\n",
    "                                     batch_size=batch_size),\n",
    "                        epochs=epochs,\n",
    "                        validation_data=(x_test, y_test),\n",
    "                        workers=4)"
   ]
  },
  {
   "cell_type": "code",
   "execution_count": 22,
   "metadata": {
    "colab": {
     "base_uri": "https://localhost:8080/"
    },
    "id": "NpPpxW4Bv-C6",
    "outputId": "1970b31e-4e04-4d0c-cda1-f16094c613b9"
   },
   "outputs": [
    {
     "name": "stdout",
     "output_type": "stream",
     "text": [
      "1563/1563 - 5s - loss: 1.8079 - accuracy: 0.3677 - 5s/epoch - 3ms/step\n",
      "313/313 - 1s - loss: 1.8034 - accuracy: 0.3700 - 982ms/epoch - 3ms/step\n",
      "train_loss: 1.8078712224960327, train_accuracy: 0.36768001317977905\n",
      "test_loss: 1.8034319877624512, test_accuracy: 0.3700000047683716\n"
     ]
    }
   ],
   "source": [
    "train_loss, train_m = model_3.evaluate(x_train, y_train, verbose=2)\n",
    "test_loss, test_m = model_3.evaluate(x_test, y_test, verbose=2)\n",
    "print(f'train_loss: {train_loss}, train_accuracy: {train_m}')\n",
    "print(f'test_loss: {test_loss}, test_accuracy: {test_m}')\n",
    "\n",
    "step.append(3)\n",
    "desc.append('Полносвязная сеть')\n",
    "train_acc.append(round(train_m, 2))\n",
    "test_acc.append(round(test_m, 2))"
   ]
  },
  {
   "cell_type": "code",
   "execution_count": 23,
   "metadata": {
    "colab": {
     "base_uri": "https://localhost:8080/",
     "height": 661
    },
    "id": "bIjl93lz2Jgq",
    "outputId": "d79c7f2c-e1d2-414d-fe16-01e578b67056"
   },
   "outputs": [
    {
     "name": "stdout",
     "output_type": "stream",
     "text": [
      "You must install pydot (`pip install pydot`) and install graphviz (see instructions at https://graphviz.gitlab.io/download/) for plot_model to work.\n"
     ]
    }
   ],
   "source": [
    "tf.keras.utils.plot_model(model_3)"
   ]
  },
  {
   "cell_type": "code",
   "execution_count": 24,
   "metadata": {
    "colab": {
     "base_uri": "https://localhost:8080/",
     "height": 299
    },
    "id": "dL2amxYcv-Fc",
    "outputId": "1996304e-8ca3-4452-d84c-e7ed0650cd79"
   },
   "outputs": [
    {
     "name": "stdout",
     "output_type": "stream",
     "text": [
      "1/1 [==============================] - 0s 92ms/step\n"
     ]
    },
    {
     "data": {
      "image/png": "[encoded data removed]",
      "text/plain": [
       "<Figure size 432x288 with 1 Axes>"
      ]
     },
     "metadata": {
      "needs_background": "light"
     },
     "output_type": "display_data"
    }
   ],
   "source": [
    "N = 200\n",
    "y_p = model_3.predict(x_test[N:N+1])\n",
    "y_t = np.argmax(y_test[N:N+1], axis = 1 )\n",
    "y_i = np.argmax(y_p, axis = 1 )\n",
    "plt.imshow(x_test[N])\n",
    "plt.title(f'это : {classes[y_t[0]]} - опознан как : {classes[y_i[0]]}')\n",
    "plt.show()"
   ]
  },
  {
   "cell_type": "code",
   "execution_count": 25,
   "metadata": {
    "colab": {
     "base_uri": "https://localhost:8080/",
     "height": 299
    },
    "id": "a9e-bB38wZZE",
    "outputId": "c2ee9104-a0ec-4757-cbb4-f3bb13d761d8"
   },
   "outputs": [
    {
     "name": "stdout",
     "output_type": "stream",
     "text": [
      "1/1 [==============================] - 0s 23ms/step\n"
     ]
    },
    {
     "data": {
      "image/png": "[encoded data removed]",
      "text/plain": [
       "<Figure size 432x288 with 1 Axes>"
      ]
     },
     "metadata": {
      "needs_background": "light"
     },
     "output_type": "display_data"
    }
   ],
   "source": [
    "N = 1\n",
    "y_p = model_3.predict(x_test[N:N+1])\n",
    "y_t = np.argmax(y_test[N:N+1], axis = 1 )\n",
    "y_i = np.argmax(y_p, axis = 1 )\n",
    "plt.imshow(x_test[N])\n",
    "plt.title(f'это : {classes[y_t[0]]} - опознан как : {classes[y_i[0]]}')\n",
    "plt.show()"
   ]
  },
  {
   "cell_type": "code",
   "execution_count": 26,
   "metadata": {
    "id": "4nlDaa8rwdyj"
   },
   "outputs": [],
   "source": [
    "results['step'] = step\n",
    "results['desc'] = desc\n",
    "results['train_acc'] = train_acc\n",
    "results['test_acc'] = test_acc"
   ]
  },
  {
   "cell_type": "code",
   "execution_count": 27,
   "metadata": {
    "colab": {
     "base_uri": "https://localhost:8080/",
     "height": 193
    },
    "id": "4H_1E0KFwf8E",
    "outputId": "e2c036cb-9c8c-46f9-d0c2-5cbc90f846bb"
   },
   "outputs": [
    {
     "data": {
      "text/html": [
       "<div>\n",
       "<style scoped>\n",
       "    .dataframe tbody tr th:only-of-type {\n",
       "        vertical-align: middle;\n",
       "    }\n",
       "\n",
       "    .dataframe tbody tr th {\n",
       "        vertical-align: top;\n",
       "    }\n",
       "\n",
       "    .dataframe thead th {\n",
       "        text-align: right;\n",
       "    }\n",
       "</style>\n",
       "<table border=\"1\" class=\"dataframe\">\n",
       "  <thead>\n",
       "    <tr style=\"text-align: right;\">\n",
       "      <th></th>\n",
       "      <th>step</th>\n",
       "      <th>desc</th>\n",
       "      <th>train_acc</th>\n",
       "      <th>test_acc</th>\n",
       "    </tr>\n",
       "  </thead>\n",
       "  <tbody>\n",
       "    <tr>\n",
       "      <th>0</th>\n",
       "      <td>0</td>\n",
       "      <td>Базовая модель</td>\n",
       "      <td>0.43</td>\n",
       "      <td>0.43</td>\n",
       "    </tr>\n",
       "    <tr>\n",
       "      <th>1</th>\n",
       "      <td>1</td>\n",
       "      <td>Больше каналов (увеличение ширины)</td>\n",
       "      <td>0.46</td>\n",
       "      <td>0.47</td>\n",
       "    </tr>\n",
       "    <tr>\n",
       "      <th>2</th>\n",
       "      <td>2</td>\n",
       "      <td>Больше слоёв (увеличение глубины)</td>\n",
       "      <td>0.48</td>\n",
       "      <td>0.48</td>\n",
       "    </tr>\n",
       "    <tr>\n",
       "      <th>3</th>\n",
       "      <td>3</td>\n",
       "      <td>Полносвязная сеть</td>\n",
       "      <td>0.37</td>\n",
       "      <td>0.37</td>\n",
       "    </tr>\n",
       "  </tbody>\n",
       "</table>\n",
       "</div>"
      ],
      "text/plain": [
       "   step                                desc  train_acc  test_acc\n",
       "0     0                      Базовая модель       0.43      0.43\n",
       "1     1  Больше каналов (увеличение ширины)       0.46      0.47\n",
       "2     2   Больше слоёв (увеличение глубины)       0.48      0.48\n",
       "3     3                   Полносвязная сеть       0.37      0.37"
      ]
     },
     "execution_count": 27,
     "metadata": {},
     "output_type": "execute_result"
    }
   ],
   "source": [
    "results"
   ]
  },
  {
   "cell_type": "markdown",
   "metadata": {
    "id": "HeZhkhzyyebu"
   },
   "source": [
    "### Выводы:<br>\n",
    "* увеличение количества каналов, т.е. увеличение итогового количества признаков, увеличивает значение метрики;\n",
    "* увеличение глубины сети увеличивает метрику качества, немногим больше, чем с увеличением количества каналов;\n",
    "* полносвязная сеть без сверточных слоев показывает качество ниже, чем базовая модель со сверточными слоями."
   ]
  },
  {
   "cell_type": "markdown",
   "metadata": {
    "id": "PVZaKL-KziTX"
   },
   "source": [
    "#### 2. Опишите в анализе, какие изменения необходимо было бы внести в получившуюся нейронную сеть, если бы ей нужно было работать не с cifar10, а с MNIST, CIFAR100 и IMAGENET."
   ]
  },
  {
   "cell_type": "markdown",
   "metadata": {
    "id": "AJIwhuQl3VFz"
   },
   "source": [
    "Набор данных CIFAR-10 состоит из 60000 цветных изображений 32x32 в 10 классах, по 6000 изображений в каждом классе. Есть 50000 обучающих изображений и 10000 тестовых изображений.  \n",
    "\n",
    "Набор данных MNIST аналогичен cifar10 по количеству классов. Их там тоже 10. Но размер изображений 28х28.  \n",
    "\n",
    "Изменится batch_size = 28.  \n",
    "\n",
    "Набор данных CIFAR-100 аналогичен CIFAR-10, за исключением того, что он содержит 100 классов, содержащих по 600 изображений в каждом. В каждом классе есть 500 обучающих изображений и 100 тестовых изображений. 100 классов в CIFAR-100 сгруппированы в 20 суперклассов. Каждое изображение имеет метку «точно» (класс, к которому оно принадлежит) и метку «грубо» (надкласс, к которому оно принадлежит).  \n",
    "\n",
    "Изменится num_classes = 100.  \n",
    "\n",
    "База данных Imagenet — проект по созданию и сопровождению массивной базы данных аннотированных изображений. Аннотация изображений происходит путем краудсорсинга сообществом. Из-за этого достигается большое количество размеченных данных. Особенность данного набора данных — про каждую картинку известно несколько фактов вида \"в этом прямоугольнике есть автомобиль\", что в совокупности с индексом по типам объектов, которые есть на изображениях, позволяет обучить алгоритм для распознавания объектов какой-то конкретной категории. \n",
    "\n",
    "Данная нейронная сеть окажется слишком простой и неподходящей для работы с данным датасетом.\n",
    "\n",
    "\n",
    "\n"
   ]
  },
  {
   "cell_type": "code",
   "execution_count": null,
   "metadata": {
    "id": "kBcME7bDyboT"
   },
   "outputs": [],
   "source": []
  }
 ],
 "metadata": {
  "accelerator": "GPU",
  "colab": {
   "provenance": []
  },
  "gpuClass": "standard",
  "kernelspec": {
   "display_name": "Python 3 (ipykernel)",
   "language": "python",
   "name": "python3"
  },
  "language_info": {
   "codemirror_mode": {
    "name": "ipython",
    "version": 3
   },
   "file_extension": ".py",
   "mimetype": "text/x-python",
   "name": "python",
   "nbconvert_exporter": "python",
   "pygments_lexer": "ipython3",
   "version": "3.9.7"
  }
 },
 "nbformat": 4,
 "nbformat_minor": 1
}
