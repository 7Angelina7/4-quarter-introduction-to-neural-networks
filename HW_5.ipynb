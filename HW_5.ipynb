{
 "cells": [
  {
   "cell_type": "markdown",
   "id": "4630f650-96b7-4d4f-97c2-17997db04070",
   "metadata": {
    "id": "4630f650-96b7-4d4f-97c2-17997db04070"
   },
   "source": [
    "1) Попробуйте изменить параметры нейронной сети, работающей с датасетом imdb, либо нейронной сети, работающей airline-passengers (она прилагается вместе с датасетом к уроку в виде отдельного скрипта) так, чтобы улучшить её точность. Приложите анализ.\n",
    "\n",
    "2) Попробуйте изменить параметры нейронной сети, генерирующей текст таким образом, чтобы добиться генерации как можно более осмысленного текста. Пришлите лучший текст из получившихся и опишите предпринятые для его получения действия. Можно использовать текст другого произведения.\n",
    "\n",
    "3) Попробуйте реализовать нейронную сеть архитектуры LSTM на numpy.\n",
    "\n",
    "4) Предложите свои варианты решения проблемы исчезающего градиента в RNN."
   ]
  },
  {
   "cell_type": "code",
   "execution_count": 2,
   "id": "7a920301-ca20-4b65-989b-63f3405a7519",
   "metadata": {
    "id": "7a920301-ca20-4b65-989b-63f3405a7519"
   },
   "outputs": [
    {
     "name": "stderr",
     "output_type": "stream",
     "text": [
      "C:\\Users\\User\\anaconda3\\lib\\site-packages\\scipy\\__init__.py:146: UserWarning: A NumPy version >=1.16.5 and <1.23.0 is required for this version of SciPy (detected version 1.25.0\n",
      "  warnings.warn(f\"A NumPy version >={np_minversion} and <{np_maxversion}\"\n"
     ]
    }
   ],
   "source": [
    "import numpy as np\n",
    "import pandas as pd\n",
    "import tensorflow as tf\n",
    "import matplotlib.pyplot as plt\n",
    "from pandas import read_csv\n",
    "import math\n",
    "from keras.models import Sequential\n",
    "from keras.layers import Dense, Activation\n",
    "from keras.layers import LSTM, GRU\n",
    "from sklearn.preprocessing import MinMaxScaler\n",
    "from sklearn.preprocessing import StandardScaler\n",
    "from sklearn.metrics import mean_squared_error\n",
    "from tensorflow.keras.preprocessing import timeseries_dataset_from_array\n",
    "from tensorflow.keras.layers import Conv1D, Flatten\n",
    "from tensorflow.keras.callbacks import EarlyStopping"
   ]
  },
  {
   "cell_type": "code",
   "execution_count": 3,
   "id": "9b20cb93-9709-495e-88e5-afdf9424465d",
   "metadata": {
    "id": "9b20cb93-9709-495e-88e5-afdf9424465d"
   },
   "outputs": [],
   "source": [
    "def create_dataset(dataset, look_back=1):\n",
    "    dataX, dataY = [], []\n",
    "    for i in range(len(dataset)-look_back-1):\n",
    "        a = dataset[i:(i+look_back), 0]\n",
    "        dataX.append(a)\n",
    "        dataY.append(dataset[i + look_back, 0])\n",
    "    return np.array(dataX), np.array(dataY)"
   ]
  },
  {
   "cell_type": "code",
   "execution_count": 4,
   "id": "a0b5ac3f-1ebd-4a0e-b21e-385e511edba2",
   "metadata": {
    "id": "a0b5ac3f-1ebd-4a0e-b21e-385e511edba2"
   },
   "outputs": [],
   "source": [
    "np.random.seed(7)"
   ]
  },
  {
   "cell_type": "code",
   "execution_count": 7,
   "id": "b8dcd451-4c80-4fef-8b9d-2ab03f36f8f2",
   "metadata": {
    "colab": {
     "base_uri": "https://localhost:8080/",
     "height": 363
    },
    "executionInfo": {
     "elapsed": 28,
     "status": "ok",
     "timestamp": 1673505986411,
     "user": {
      "displayName": "Alexandr Gusev (alvlagus)",
      "userId": "15492356679823501478"
     },
     "user_tz": -180
    },
    "id": "b8dcd451-4c80-4fef-8b9d-2ab03f36f8f2",
    "outputId": "d4bc0b76-5cb2-4827-a878-e58a6038474b"
   },
   "outputs": [
    {
     "data": {
      "text/html": [
       "<div>\n",
       "<style scoped>\n",
       "    .dataframe tbody tr th:only-of-type {\n",
       "        vertical-align: middle;\n",
       "    }\n",
       "\n",
       "    .dataframe tbody tr th {\n",
       "        vertical-align: top;\n",
       "    }\n",
       "\n",
       "    .dataframe thead th {\n",
       "        text-align: right;\n",
       "    }\n",
       "</style>\n",
       "<table border=\"1\" class=\"dataframe\">\n",
       "  <thead>\n",
       "    <tr style=\"text-align: right;\">\n",
       "      <th></th>\n",
       "      <th>Passengers</th>\n",
       "    </tr>\n",
       "  </thead>\n",
       "  <tbody>\n",
       "    <tr>\n",
       "      <th>0</th>\n",
       "      <td>112</td>\n",
       "    </tr>\n",
       "    <tr>\n",
       "      <th>1</th>\n",
       "      <td>118</td>\n",
       "    </tr>\n",
       "    <tr>\n",
       "      <th>2</th>\n",
       "      <td>132</td>\n",
       "    </tr>\n",
       "    <tr>\n",
       "      <th>3</th>\n",
       "      <td>129</td>\n",
       "    </tr>\n",
       "    <tr>\n",
       "      <th>4</th>\n",
       "      <td>121</td>\n",
       "    </tr>\n",
       "    <tr>\n",
       "      <th>5</th>\n",
       "      <td>135</td>\n",
       "    </tr>\n",
       "    <tr>\n",
       "      <th>6</th>\n",
       "      <td>148</td>\n",
       "    </tr>\n",
       "    <tr>\n",
       "      <th>7</th>\n",
       "      <td>148</td>\n",
       "    </tr>\n",
       "    <tr>\n",
       "      <th>8</th>\n",
       "      <td>136</td>\n",
       "    </tr>\n",
       "    <tr>\n",
       "      <th>9</th>\n",
       "      <td>119</td>\n",
       "    </tr>\n",
       "  </tbody>\n",
       "</table>\n",
       "</div>"
      ],
      "text/plain": [
       "   Passengers\n",
       "0         112\n",
       "1         118\n",
       "2         132\n",
       "3         129\n",
       "4         121\n",
       "5         135\n",
       "6         148\n",
       "7         148\n",
       "8         136\n",
       "9         119"
      ]
     },
     "execution_count": 7,
     "metadata": {},
     "output_type": "execute_result"
    }
   ],
   "source": [
    "dataframe = pd.read_csv('C:/Ангелина/Data Sience/4 четверть/Нейронные сети/5/airline-passengers.csv', usecols=[1])\n",
    "dataframe.head(10)"
   ]
  },
  {
   "cell_type": "code",
   "execution_count": 8,
   "id": "16bdb9a1-b882-4e58-ae42-c6656a96d483",
   "metadata": {
    "colab": {
     "base_uri": "https://localhost:8080/"
    },
    "executionInfo": {
     "elapsed": 25,
     "status": "ok",
     "timestamp": 1673505986412,
     "user": {
      "displayName": "Alexandr Gusev (alvlagus)",
      "userId": "15492356679823501478"
     },
     "user_tz": -180
    },
    "id": "16bdb9a1-b882-4e58-ae42-c6656a96d483",
    "outputId": "a566b15b-c6f0-4abf-d6e0-0e238483bcf8"
   },
   "outputs": [
    {
     "data": {
      "text/plain": [
       "array([[0.01544401],\n",
       "       [0.02702703],\n",
       "       [0.05405405],\n",
       "       [0.04826255],\n",
       "       [0.03281853],\n",
       "       [0.05984557],\n",
       "       [0.08494207],\n",
       "       [0.08494207],\n",
       "       [0.06177607],\n",
       "       [0.02895753]], dtype=float32)"
      ]
     },
     "execution_count": 8,
     "metadata": {},
     "output_type": "execute_result"
    }
   ],
   "source": [
    "dataset = dataframe.values\n",
    "dataset = dataset.astype('float32')\n",
    "scaler = MinMaxScaler(feature_range=(0, 1))\n",
    "dataset = scaler.fit_transform(dataset)\n",
    "dataset[:10]"
   ]
  },
  {
   "cell_type": "code",
   "execution_count": 9,
   "id": "9488e0b9-9398-4c18-8c70-0b439818f240",
   "metadata": {
    "id": "9488e0b9-9398-4c18-8c70-0b439818f240"
   },
   "outputs": [],
   "source": [
    "train_size = int(len(dataset) * 0.67)\n",
    "test_size = len(dataset) - train_size\n",
    "train, test = dataset[0:train_size,:], dataset[train_size:len(dataset),:]"
   ]
  },
  {
   "cell_type": "code",
   "execution_count": 10,
   "id": "a2f8e44b-f697-4f64-a99f-ff6da3ac90a6",
   "metadata": {
    "id": "a2f8e44b-f697-4f64-a99f-ff6da3ac90a6"
   },
   "outputs": [],
   "source": [
    "look_back = 3\n",
    "trainX, trainY = create_dataset(train, look_back)\n",
    "testX, testY = create_dataset(test, look_back)\n",
    "trainX = np.reshape(trainX, (trainX.shape[0], trainX.shape[1], 1))\n",
    "testX = np.reshape(testX, (testX.shape[0], testX.shape[1], 1))"
   ]
  },
  {
   "cell_type": "code",
   "execution_count": 11,
   "id": "bd572f34-3e49-4ed9-bbf4-1be97f4f1a95",
   "metadata": {
    "colab": {
     "base_uri": "https://localhost:8080/"
    },
    "executionInfo": {
     "elapsed": 33639,
     "status": "ok",
     "timestamp": 1673506020040,
     "user": {
      "displayName": "Alexandr Gusev (alvlagus)",
      "userId": "15492356679823501478"
     },
     "user_tz": -180
    },
    "id": "bd572f34-3e49-4ed9-bbf4-1be97f4f1a95",
    "outputId": "aa8eb0ef-337b-46c5-963b-5d4ab9726923"
   },
   "outputs": [
    {
     "name": "stdout",
     "output_type": "stream",
     "text": [
      "92/92 - 2s - loss: 0.0097 - 2s/epoch - 21ms/step\n",
      "92/92 - 0s - loss: 0.0198 - 157ms/epoch - 2ms/step\n",
      "92/92 - 0s - loss: 0.0134 - 153ms/epoch - 2ms/step\n",
      "92/92 - 0s - loss: 0.0107 - 171ms/epoch - 2ms/step\n",
      "92/92 - 0s - loss: 0.0088 - 173ms/epoch - 2ms/step\n",
      "92/92 - 0s - loss: 0.0075 - 194ms/epoch - 2ms/step\n",
      "92/92 - 0s - loss: 0.0065 - 184ms/epoch - 2ms/step\n",
      "92/92 - 0s - loss: 0.0059 - 198ms/epoch - 2ms/step\n",
      "92/92 - 0s - loss: 0.0056 - 195ms/epoch - 2ms/step\n",
      "92/92 - 0s - loss: 0.0053 - 178ms/epoch - 2ms/step\n",
      "92/92 - 0s - loss: 0.0052 - 178ms/epoch - 2ms/step\n",
      "92/92 - 0s - loss: 0.0051 - 167ms/epoch - 2ms/step\n",
      "92/92 - 0s - loss: 0.0050 - 164ms/epoch - 2ms/step\n",
      "92/92 - 0s - loss: 0.0049 - 150ms/epoch - 2ms/step\n",
      "92/92 - 0s - loss: 0.0048 - 169ms/epoch - 2ms/step\n",
      "92/92 - 0s - loss: 0.0048 - 156ms/epoch - 2ms/step\n",
      "92/92 - 0s - loss: 0.0047 - 153ms/epoch - 2ms/step\n",
      "92/92 - 0s - loss: 0.0047 - 156ms/epoch - 2ms/step\n",
      "92/92 - 0s - loss: 0.0046 - 149ms/epoch - 2ms/step\n",
      "92/92 - 0s - loss: 0.0046 - 145ms/epoch - 2ms/step\n",
      "92/92 - 0s - loss: 0.0045 - 157ms/epoch - 2ms/step\n",
      "92/92 - 0s - loss: 0.0045 - 163ms/epoch - 2ms/step\n",
      "92/92 - 0s - loss: 0.0045 - 157ms/epoch - 2ms/step\n",
      "92/92 - 0s - loss: 0.0044 - 159ms/epoch - 2ms/step\n",
      "92/92 - 0s - loss: 0.0044 - 157ms/epoch - 2ms/step\n",
      "92/92 - 0s - loss: 0.0043 - 144ms/epoch - 2ms/step\n",
      "92/92 - 0s - loss: 0.0043 - 160ms/epoch - 2ms/step\n",
      "92/92 - 0s - loss: 0.0043 - 157ms/epoch - 2ms/step\n",
      "92/92 - 0s - loss: 0.0042 - 145ms/epoch - 2ms/step\n",
      "92/92 - 0s - loss: 0.0042 - 143ms/epoch - 2ms/step\n",
      "92/92 - 0s - loss: 0.0042 - 144ms/epoch - 2ms/step\n",
      "92/92 - 0s - loss: 0.0041 - 158ms/epoch - 2ms/step\n",
      "92/92 - 0s - loss: 0.0041 - 158ms/epoch - 2ms/step\n",
      "92/92 - 0s - loss: 0.0041 - 157ms/epoch - 2ms/step\n",
      "92/92 - 0s - loss: 0.0040 - 157ms/epoch - 2ms/step\n",
      "92/92 - 0s - loss: 0.0040 - 157ms/epoch - 2ms/step\n",
      "92/92 - 0s - loss: 0.0040 - 162ms/epoch - 2ms/step\n",
      "92/92 - 0s - loss: 0.0039 - 157ms/epoch - 2ms/step\n",
      "92/92 - 0s - loss: 0.0039 - 143ms/epoch - 2ms/step\n",
      "92/92 - 0s - loss: 0.0039 - 156ms/epoch - 2ms/step\n",
      "92/92 - 0s - loss: 0.0038 - 200ms/epoch - 2ms/step\n",
      "92/92 - 0s - loss: 0.0038 - 195ms/epoch - 2ms/step\n",
      "92/92 - 0s - loss: 0.0038 - 172ms/epoch - 2ms/step\n",
      "92/92 - 0s - loss: 0.0037 - 203ms/epoch - 2ms/step\n",
      "92/92 - 0s - loss: 0.0037 - 200ms/epoch - 2ms/step\n",
      "92/92 - 0s - loss: 0.0037 - 179ms/epoch - 2ms/step\n",
      "92/92 - 0s - loss: 0.0036 - 156ms/epoch - 2ms/step\n",
      "92/92 - 0s - loss: 0.0036 - 164ms/epoch - 2ms/step\n",
      "92/92 - 0s - loss: 0.0036 - 172ms/epoch - 2ms/step\n",
      "92/92 - 0s - loss: 0.0035 - 155ms/epoch - 2ms/step\n",
      "92/92 - 0s - loss: 0.0035 - 157ms/epoch - 2ms/step\n",
      "92/92 - 0s - loss: 0.0035 - 156ms/epoch - 2ms/step\n",
      "92/92 - 0s - loss: 0.0035 - 148ms/epoch - 2ms/step\n",
      "92/92 - 0s - loss: 0.0034 - 157ms/epoch - 2ms/step\n",
      "92/92 - 0s - loss: 0.0034 - 157ms/epoch - 2ms/step\n",
      "92/92 - 0s - loss: 0.0034 - 157ms/epoch - 2ms/step\n",
      "92/92 - 0s - loss: 0.0033 - 157ms/epoch - 2ms/step\n",
      "92/92 - 0s - loss: 0.0033 - 151ms/epoch - 2ms/step\n",
      "92/92 - 0s - loss: 0.0033 - 156ms/epoch - 2ms/step\n",
      "92/92 - 0s - loss: 0.0033 - 157ms/epoch - 2ms/step\n",
      "92/92 - 0s - loss: 0.0032 - 148ms/epoch - 2ms/step\n",
      "92/92 - 0s - loss: 0.0032 - 157ms/epoch - 2ms/step\n",
      "92/92 - 0s - loss: 0.0032 - 150ms/epoch - 2ms/step\n",
      "92/92 - 0s - loss: 0.0032 - 157ms/epoch - 2ms/step\n",
      "92/92 - 0s - loss: 0.0031 - 187ms/epoch - 2ms/step\n",
      "92/92 - 0s - loss: 0.0031 - 198ms/epoch - 2ms/step\n",
      "92/92 - 0s - loss: 0.0031 - 159ms/epoch - 2ms/step\n",
      "92/92 - 0s - loss: 0.0031 - 152ms/epoch - 2ms/step\n",
      "92/92 - 0s - loss: 0.0030 - 156ms/epoch - 2ms/step\n",
      "92/92 - 0s - loss: 0.0030 - 157ms/epoch - 2ms/step\n",
      "92/92 - 0s - loss: 0.0030 - 157ms/epoch - 2ms/step\n",
      "92/92 - 0s - loss: 0.0030 - 159ms/epoch - 2ms/step\n",
      "92/92 - 0s - loss: 0.0029 - 199ms/epoch - 2ms/step\n",
      "92/92 - 0s - loss: 0.0029 - 193ms/epoch - 2ms/step\n",
      "92/92 - 0s - loss: 0.0029 - 180ms/epoch - 2ms/step\n",
      "92/92 - 0s - loss: 0.0029 - 158ms/epoch - 2ms/step\n",
      "92/92 - 0s - loss: 0.0028 - 151ms/epoch - 2ms/step\n",
      "92/92 - 0s - loss: 0.0028 - 156ms/epoch - 2ms/step\n",
      "92/92 - 0s - loss: 0.0028 - 155ms/epoch - 2ms/step\n",
      "92/92 - 0s - loss: 0.0028 - 152ms/epoch - 2ms/step\n",
      "92/92 - 0s - loss: 0.0027 - 157ms/epoch - 2ms/step\n",
      "92/92 - 0s - loss: 0.0027 - 160ms/epoch - 2ms/step\n",
      "92/92 - 0s - loss: 0.0027 - 157ms/epoch - 2ms/step\n",
      "92/92 - 0s - loss: 0.0027 - 172ms/epoch - 2ms/step\n",
      "92/92 - 0s - loss: 0.0026 - 179ms/epoch - 2ms/step\n",
      "92/92 - 0s - loss: 0.0026 - 167ms/epoch - 2ms/step\n",
      "92/92 - 0s - loss: 0.0026 - 156ms/epoch - 2ms/step\n",
      "92/92 - 0s - loss: 0.0026 - 152ms/epoch - 2ms/step\n",
      "92/92 - 0s - loss: 0.0025 - 161ms/epoch - 2ms/step\n",
      "92/92 - 0s - loss: 0.0025 - 158ms/epoch - 2ms/step\n",
      "92/92 - 0s - loss: 0.0025 - 156ms/epoch - 2ms/step\n",
      "92/92 - 0s - loss: 0.0025 - 163ms/epoch - 2ms/step\n",
      "92/92 - 0s - loss: 0.0025 - 157ms/epoch - 2ms/step\n",
      "92/92 - 0s - loss: 0.0024 - 156ms/epoch - 2ms/step\n",
      "92/92 - 0s - loss: 0.0024 - 153ms/epoch - 2ms/step\n",
      "92/92 - 0s - loss: 0.0024 - 160ms/epoch - 2ms/step\n",
      "92/92 - 0s - loss: 0.0024 - 159ms/epoch - 2ms/step\n",
      "92/92 - 0s - loss: 0.0024 - 154ms/epoch - 2ms/step\n",
      "92/92 - 0s - loss: 0.0023 - 172ms/epoch - 2ms/step\n",
      "92/92 - 0s - loss: 0.0023 - 158ms/epoch - 2ms/step\n"
     ]
    }
   ],
   "source": [
    "batch_size = 1\n",
    "model = Sequential()\n",
    "model.add(LSTM(4, batch_input_shape=(batch_size, look_back, 1), stateful=True))\n",
    "model.add(Dense(1))\n",
    "model.compile(loss='mean_squared_error', optimizer='adam')\n",
    "for i in range(100):\n",
    "\tmodel.fit(trainX, trainY, epochs=1, batch_size=batch_size, verbose=2, shuffle=False)\n",
    "\tmodel.reset_states()"
   ]
  },
  {
   "cell_type": "code",
   "execution_count": 12,
   "id": "55ddcb6f-12db-4991-bf25-1a93cb0280bb",
   "metadata": {
    "colab": {
     "base_uri": "https://localhost:8080/"
    },
    "executionInfo": {
     "elapsed": 833,
     "status": "ok",
     "timestamp": 1673506020868,
     "user": {
      "displayName": "Alexandr Gusev (alvlagus)",
      "userId": "15492356679823501478"
     },
     "user_tz": -180
    },
    "id": "55ddcb6f-12db-4991-bf25-1a93cb0280bb",
    "outputId": "914bdd4b-6900-4ba5-dae5-5e091f2a6269"
   },
   "outputs": [
    {
     "name": "stdout",
     "output_type": "stream",
     "text": [
      "92/92 [==============================] - 1s 2ms/step\n",
      "44/44 [==============================] - 0s 1ms/step\n"
     ]
    }
   ],
   "source": [
    "trainPredict = model.predict(trainX, batch_size=batch_size)\n",
    "model.reset_states()\n",
    "testPredict = model.predict(testX, batch_size=batch_size)"
   ]
  },
  {
   "cell_type": "code",
   "execution_count": 13,
   "id": "67558c47-c84a-458b-b85a-45a6ff516fdd",
   "metadata": {
    "id": "67558c47-c84a-458b-b85a-45a6ff516fdd"
   },
   "outputs": [],
   "source": [
    "trainPredict = scaler.inverse_transform(trainPredict)\n",
    "trainY = scaler.inverse_transform([trainY])\n",
    "testPredict = scaler.inverse_transform(testPredict)\n",
    "testY = scaler.inverse_transform([testY])"
   ]
  },
  {
   "cell_type": "code",
   "execution_count": 14,
   "id": "ef17e3c3-af4e-4909-86e5-193096ceb0fa",
   "metadata": {
    "colab": {
     "base_uri": "https://localhost:8080/"
    },
    "executionInfo": {
     "elapsed": 10,
     "status": "ok",
     "timestamp": 1673506020869,
     "user": {
      "displayName": "Alexandr Gusev (alvlagus)",
      "userId": "15492356679823501478"
     },
     "user_tz": -180
    },
    "id": "ef17e3c3-af4e-4909-86e5-193096ceb0fa",
    "outputId": "0878d502-4061-4ddc-9e12-c368c6be05fe"
   },
   "outputs": [
    {
     "name": "stdout",
     "output_type": "stream",
     "text": [
      "Train Score: 25.78 RMSE\n",
      "Test Score: 59.39 RMSE\n"
     ]
    }
   ],
   "source": [
    "trainScore = math.sqrt(mean_squared_error(trainY[0], trainPredict[:,0]))\n",
    "print('Train Score: %.2f RMSE' % (trainScore))\n",
    "testScore = math.sqrt(mean_squared_error(testY[0], testPredict[:,0]))\n",
    "print('Test Score: %.2f RMSE' % (testScore))"
   ]
  },
  {
   "cell_type": "code",
   "execution_count": 15,
   "id": "6dae404a-7d5e-4600-8720-fabf0277f541",
   "metadata": {
    "id": "6dae404a-7d5e-4600-8720-fabf0277f541"
   },
   "outputs": [],
   "source": [
    "trainPredictPlot = np.empty_like(dataset)\n",
    "trainPredictPlot[:, :] = np.nan\n",
    "trainPredictPlot[look_back:len(trainPredict)+look_back, :] = trainPredict"
   ]
  },
  {
   "cell_type": "code",
   "execution_count": 16,
   "id": "0ec2fff4-6447-4ac4-ae29-3c8776b1ead2",
   "metadata": {
    "id": "0ec2fff4-6447-4ac4-ae29-3c8776b1ead2"
   },
   "outputs": [],
   "source": [
    "testPredictPlot = np.empty_like(dataset)\n",
    "testPredictPlot[:, :] = np.nan\n",
    "testPredictPlot[len(trainPredict)+(look_back*2)+1:len(dataset)-1, :] = testPredict"
   ]
  },
  {
   "cell_type": "code",
   "execution_count": 17,
   "id": "4cbe83f0-73d4-49e3-8760-c646b8ca816d",
   "metadata": {
    "colab": {
     "base_uri": "https://localhost:8080/",
     "height": 265
    },
    "executionInfo": {
     "elapsed": 749,
     "status": "ok",
     "timestamp": 1673506021613,
     "user": {
      "displayName": "Alexandr Gusev (alvlagus)",
      "userId": "15492356679823501478"
     },
     "user_tz": -180
    },
    "id": "4cbe83f0-73d4-49e3-8760-c646b8ca816d",
    "outputId": "801b040f-51b9-46f8-f23a-15571a15a694"
   },
   "outputs": [
    {
     "data": {
      "image/png": "[encoded data removed]",
      "text/plain": [
       "<Figure size 432x288 with 1 Axes>"
      ]
     },
     "metadata": {
      "needs_background": "light"
     },
     "output_type": "display_data"
    }
   ],
   "source": [
    "plt.plot(scaler.inverse_transform(dataset))\n",
    "plt.plot(trainPredictPlot)\n",
    "plt.plot(testPredictPlot)\n",
    "plt.show()"
   ]
  },
  {
   "cell_type": "code",
   "execution_count": 18,
   "id": "690a30d8-eee6-430a-86c7-96aa1e4333fd",
   "metadata": {
    "id": "690a30d8-eee6-430a-86c7-96aa1e4333fd"
   },
   "outputs": [],
   "source": [
    "results = pd.DataFrame() # сводная таблица результатов\n",
    "model = [] # шаг\n",
    "train = [] # результат на трейне\n",
    "test = [] # результат на тесте"
   ]
  },
  {
   "cell_type": "code",
   "execution_count": 19,
   "id": "cdb688d2-9222-4ac1-b704-5854f25e4104",
   "metadata": {
    "id": "cdb688d2-9222-4ac1-b704-5854f25e4104"
   },
   "outputs": [],
   "source": [
    "model.append('Baseline')\n",
    "train.append(round(trainScore, 2))\n",
    "test.append(round(testScore,2))"
   ]
  },
  {
   "cell_type": "markdown",
   "id": "e518072f-42f6-4ba7-8a64-ad186a6a6108",
   "metadata": {
    "id": "e518072f-42f6-4ba7-8a64-ad186a6a6108"
   },
   "source": [
    "#### 1. Попробуйте изменить параметры нейронной сети, работающей с датасетом imdb, либо нейронной сети, работающей airline-passengers (она прилагается вместе с датасетом к уроку в виде отдельного скрипта) так, чтобы улучшить её точность. Приложите анализ."
   ]
  },
  {
   "cell_type": "code",
   "execution_count": 20,
   "id": "3185106f-9a61-4ed6-aeb8-eb49a8bf5c49",
   "metadata": {
    "colab": {
     "base_uri": "https://localhost:8080/",
     "height": 206
    },
    "executionInfo": {
     "elapsed": 54,
     "status": "ok",
     "timestamp": 1673506021615,
     "user": {
      "displayName": "Alexandr Gusev (alvlagus)",
      "userId": "15492356679823501478"
     },
     "user_tz": -180
    },
    "id": "3185106f-9a61-4ed6-aeb8-eb49a8bf5c49",
    "outputId": "1458c1f1-d421-4230-b401-7171b6cb5cd3"
   },
   "outputs": [
    {
     "data": {
      "text/html": [
       "<div>\n",
       "<style scoped>\n",
       "    .dataframe tbody tr th:only-of-type {\n",
       "        vertical-align: middle;\n",
       "    }\n",
       "\n",
       "    .dataframe tbody tr th {\n",
       "        vertical-align: top;\n",
       "    }\n",
       "\n",
       "    .dataframe thead th {\n",
       "        text-align: right;\n",
       "    }\n",
       "</style>\n",
       "<table border=\"1\" class=\"dataframe\">\n",
       "  <thead>\n",
       "    <tr style=\"text-align: right;\">\n",
       "      <th></th>\n",
       "      <th>Month</th>\n",
       "      <th>Passengers</th>\n",
       "    </tr>\n",
       "  </thead>\n",
       "  <tbody>\n",
       "    <tr>\n",
       "      <th>0</th>\n",
       "      <td>1949-01</td>\n",
       "      <td>112</td>\n",
       "    </tr>\n",
       "    <tr>\n",
       "      <th>1</th>\n",
       "      <td>1949-02</td>\n",
       "      <td>118</td>\n",
       "    </tr>\n",
       "    <tr>\n",
       "      <th>2</th>\n",
       "      <td>1949-03</td>\n",
       "      <td>132</td>\n",
       "    </tr>\n",
       "    <tr>\n",
       "      <th>3</th>\n",
       "      <td>1949-04</td>\n",
       "      <td>129</td>\n",
       "    </tr>\n",
       "    <tr>\n",
       "      <th>4</th>\n",
       "      <td>1949-05</td>\n",
       "      <td>121</td>\n",
       "    </tr>\n",
       "  </tbody>\n",
       "</table>\n",
       "</div>"
      ],
      "text/plain": [
       "     Month  Passengers\n",
       "0  1949-01         112\n",
       "1  1949-02         118\n",
       "2  1949-03         132\n",
       "3  1949-04         129\n",
       "4  1949-05         121"
      ]
     },
     "execution_count": 20,
     "metadata": {},
     "output_type": "execute_result"
    }
   ],
   "source": [
    "df = pd.read_csv(\"C:/Ангелина/Data Sience/4 четверть/Нейронные сети/5/airline-passengers.csv\")\n",
    "df.head()"
   ]
  },
  {
   "cell_type": "code",
   "execution_count": 21,
   "id": "62994a2e-f3a4-4dc1-a332-3e94a982556b",
   "metadata": {
    "colab": {
     "base_uri": "https://localhost:8080/"
    },
    "executionInfo": {
     "elapsed": 53,
     "status": "ok",
     "timestamp": 1673506021616,
     "user": {
      "displayName": "Alexandr Gusev (alvlagus)",
      "userId": "15492356679823501478"
     },
     "user_tz": -180
    },
    "id": "62994a2e-f3a4-4dc1-a332-3e94a982556b",
    "outputId": "4f6dc272-8098-4eff-888f-61273483f0ca"
   },
   "outputs": [
    {
     "data": {
      "text/plain": [
       "(144, 2)"
      ]
     },
     "execution_count": 21,
     "metadata": {},
     "output_type": "execute_result"
    }
   ],
   "source": [
    "df.shape"
   ]
  },
  {
   "cell_type": "code",
   "execution_count": 22,
   "id": "b0dab179-579f-435d-8254-4851a3c236e3",
   "metadata": {
    "colab": {
     "base_uri": "https://localhost:8080/"
    },
    "executionInfo": {
     "elapsed": 46,
     "status": "ok",
     "timestamp": 1673506021616,
     "user": {
      "displayName": "Alexandr Gusev (alvlagus)",
      "userId": "15492356679823501478"
     },
     "user_tz": -180
    },
    "id": "b0dab179-579f-435d-8254-4851a3c236e3",
    "outputId": "cfd0c07a-1fd1-414b-81a5-aaa89d83514f"
   },
   "outputs": [
    {
     "name": "stdout",
     "output_type": "stream",
     "text": [
      "<class 'pandas.core.frame.DataFrame'>\n",
      "RangeIndex: 144 entries, 0 to 143\n",
      "Data columns (total 2 columns):\n",
      " #   Column      Non-Null Count  Dtype \n",
      "---  ------      --------------  ----- \n",
      " 0   Month       144 non-null    object\n",
      " 1   Passengers  144 non-null    int64 \n",
      "dtypes: int64(1), object(1)\n",
      "memory usage: 2.4+ KB\n"
     ]
    }
   ],
   "source": [
    "df.info()"
   ]
  },
  {
   "cell_type": "code",
   "execution_count": 23,
   "id": "00d1a310-e914-4e39-971c-45abc2ff7485",
   "metadata": {
    "colab": {
     "base_uri": "https://localhost:8080/"
    },
    "executionInfo": {
     "elapsed": 43,
     "status": "ok",
     "timestamp": 1673506021617,
     "user": {
      "displayName": "Alexandr Gusev (alvlagus)",
      "userId": "15492356679823501478"
     },
     "user_tz": -180
    },
    "id": "00d1a310-e914-4e39-971c-45abc2ff7485",
    "outputId": "154be5ee-0bfc-4920-f97b-ee13e1913970"
   },
   "outputs": [
    {
     "data": {
      "text/plain": [
       "1949-01    1\n",
       "1949-02    1\n",
       "1956-09    1\n",
       "1956-10    1\n",
       "1956-11    1\n",
       "          ..\n",
       "1953-01    1\n",
       "1953-02    1\n",
       "1953-03    1\n",
       "1953-04    1\n",
       "1960-12    1\n",
       "Name: Month, Length: 144, dtype: int64"
      ]
     },
     "execution_count": 23,
     "metadata": {},
     "output_type": "execute_result"
    }
   ],
   "source": [
    "df['Month'].value_counts()"
   ]
  },
  {
   "cell_type": "code",
   "execution_count": 24,
   "id": "37646007-b5ee-4862-ac3e-f93780836ab4",
   "metadata": {
    "colab": {
     "base_uri": "https://localhost:8080/",
     "height": 206
    },
    "executionInfo": {
     "elapsed": 40,
     "status": "ok",
     "timestamp": 1673506021617,
     "user": {
      "displayName": "Alexandr Gusev (alvlagus)",
      "userId": "15492356679823501478"
     },
     "user_tz": -180
    },
    "id": "37646007-b5ee-4862-ac3e-f93780836ab4",
    "outputId": "ec800d26-af5f-48f4-8484-2ce752f131b2"
   },
   "outputs": [
    {
     "data": {
      "text/html": [
       "<div>\n",
       "<style scoped>\n",
       "    .dataframe tbody tr th:only-of-type {\n",
       "        vertical-align: middle;\n",
       "    }\n",
       "\n",
       "    .dataframe tbody tr th {\n",
       "        vertical-align: top;\n",
       "    }\n",
       "\n",
       "    .dataframe thead th {\n",
       "        text-align: right;\n",
       "    }\n",
       "</style>\n",
       "<table border=\"1\" class=\"dataframe\">\n",
       "  <thead>\n",
       "    <tr style=\"text-align: right;\">\n",
       "      <th></th>\n",
       "      <th>Month</th>\n",
       "      <th>Passengers</th>\n",
       "    </tr>\n",
       "  </thead>\n",
       "  <tbody>\n",
       "    <tr>\n",
       "      <th>0</th>\n",
       "      <td>1949-01-01</td>\n",
       "      <td>112</td>\n",
       "    </tr>\n",
       "    <tr>\n",
       "      <th>1</th>\n",
       "      <td>1949-02-01</td>\n",
       "      <td>118</td>\n",
       "    </tr>\n",
       "    <tr>\n",
       "      <th>2</th>\n",
       "      <td>1949-03-01</td>\n",
       "      <td>132</td>\n",
       "    </tr>\n",
       "    <tr>\n",
       "      <th>3</th>\n",
       "      <td>1949-04-01</td>\n",
       "      <td>129</td>\n",
       "    </tr>\n",
       "    <tr>\n",
       "      <th>4</th>\n",
       "      <td>1949-05-01</td>\n",
       "      <td>121</td>\n",
       "    </tr>\n",
       "  </tbody>\n",
       "</table>\n",
       "</div>"
      ],
      "text/plain": [
       "       Month  Passengers\n",
       "0 1949-01-01         112\n",
       "1 1949-02-01         118\n",
       "2 1949-03-01         132\n",
       "3 1949-04-01         129\n",
       "4 1949-05-01         121"
      ]
     },
     "execution_count": 24,
     "metadata": {},
     "output_type": "execute_result"
    }
   ],
   "source": [
    "df['Month'] = pd.to_datetime(df['Month'], format='%Y-%m')\n",
    "df.head()"
   ]
  },
  {
   "cell_type": "code",
   "execution_count": 25,
   "id": "86ce3544-099f-4646-984e-0aad01a253a7",
   "metadata": {
    "id": "86ce3544-099f-4646-984e-0aad01a253a7"
   },
   "outputs": [],
   "source": [
    "def parse_date(df, date_feature_name):\n",
    "    date_list = df[date_feature_name]\n",
    "    years = []\n",
    "    months = []\n",
    "    for el in date_list:\n",
    "        years.append(el.year)\n",
    "        months.append(el.month)\n",
    "    df['year'] = years\n",
    "    df['month'] = months\n",
    "    \n",
    "    return df"
   ]
  },
  {
   "cell_type": "code",
   "execution_count": 26,
   "id": "787b9805-9083-4ad0-b7d6-f9172ab4dd52",
   "metadata": {
    "id": "787b9805-9083-4ad0-b7d6-f9172ab4dd52"
   },
   "outputs": [],
   "source": [
    "df = parse_date(df, 'Month')"
   ]
  },
  {
   "cell_type": "code",
   "execution_count": 27,
   "id": "aabf37a2-c40a-4f30-85bc-d0798cedbe95",
   "metadata": {
    "colab": {
     "base_uri": "https://localhost:8080/",
     "height": 206
    },
    "executionInfo": {
     "elapsed": 40,
     "status": "ok",
     "timestamp": 1673506021619,
     "user": {
      "displayName": "Alexandr Gusev (alvlagus)",
      "userId": "15492356679823501478"
     },
     "user_tz": -180
    },
    "id": "aabf37a2-c40a-4f30-85bc-d0798cedbe95",
    "outputId": "30928ed1-c170-4fdc-eec3-c6256efe2202"
   },
   "outputs": [
    {
     "data": {
      "text/html": [
       "<div>\n",
       "<style scoped>\n",
       "    .dataframe tbody tr th:only-of-type {\n",
       "        vertical-align: middle;\n",
       "    }\n",
       "\n",
       "    .dataframe tbody tr th {\n",
       "        vertical-align: top;\n",
       "    }\n",
       "\n",
       "    .dataframe thead th {\n",
       "        text-align: right;\n",
       "    }\n",
       "</style>\n",
       "<table border=\"1\" class=\"dataframe\">\n",
       "  <thead>\n",
       "    <tr style=\"text-align: right;\">\n",
       "      <th></th>\n",
       "      <th>Passengers</th>\n",
       "      <th>year</th>\n",
       "      <th>month</th>\n",
       "    </tr>\n",
       "  </thead>\n",
       "  <tbody>\n",
       "    <tr>\n",
       "      <th>0</th>\n",
       "      <td>112</td>\n",
       "      <td>1949</td>\n",
       "      <td>1</td>\n",
       "    </tr>\n",
       "    <tr>\n",
       "      <th>1</th>\n",
       "      <td>118</td>\n",
       "      <td>1949</td>\n",
       "      <td>2</td>\n",
       "    </tr>\n",
       "    <tr>\n",
       "      <th>2</th>\n",
       "      <td>132</td>\n",
       "      <td>1949</td>\n",
       "      <td>3</td>\n",
       "    </tr>\n",
       "    <tr>\n",
       "      <th>3</th>\n",
       "      <td>129</td>\n",
       "      <td>1949</td>\n",
       "      <td>4</td>\n",
       "    </tr>\n",
       "    <tr>\n",
       "      <th>4</th>\n",
       "      <td>121</td>\n",
       "      <td>1949</td>\n",
       "      <td>5</td>\n",
       "    </tr>\n",
       "  </tbody>\n",
       "</table>\n",
       "</div>"
      ],
      "text/plain": [
       "   Passengers  year  month\n",
       "0         112  1949      1\n",
       "1         118  1949      2\n",
       "2         132  1949      3\n",
       "3         129  1949      4\n",
       "4         121  1949      5"
      ]
     },
     "execution_count": 27,
     "metadata": {},
     "output_type": "execute_result"
    }
   ],
   "source": [
    "df = df.iloc[:, 1:]\n",
    "df.head()"
   ]
  },
  {
   "cell_type": "markdown",
   "id": "602dec37-a89c-434d-87c7-2248fbca2eaa",
   "metadata": {
    "id": "602dec37-a89c-434d-87c7-2248fbca2eaa"
   },
   "source": [
    "Выборка на обучение и тест."
   ]
  },
  {
   "cell_type": "code",
   "execution_count": 28,
   "id": "68dfb666-ad29-4d10-b377-60cd1f922f04",
   "metadata": {
    "colab": {
     "base_uri": "https://localhost:8080/"
    },
    "executionInfo": {
     "elapsed": 40,
     "status": "ok",
     "timestamp": 1673506021620,
     "user": {
      "displayName": "Alexandr Gusev (alvlagus)",
      "userId": "15492356679823501478"
     },
     "user_tz": -180
    },
    "id": "68dfb666-ad29-4d10-b377-60cd1f922f04",
    "outputId": "236122f6-032d-4056-bba4-8f4478083b3d"
   },
   "outputs": [
    {
     "data": {
      "text/plain": [
       "((100, 3), (39, 3))"
      ]
     },
     "execution_count": 28,
     "metadata": {},
     "output_type": "execute_result"
    }
   ],
   "source": [
    "train_size = 100\n",
    "\n",
    "feat = ['Passengers', 'year', 'month']\n",
    "\n",
    "bias = 5\n",
    "\n",
    "train_data = df.iloc[:train_size][feat]\n",
    "val_data = df.iloc[train_size + bias:][feat]\n",
    "\n",
    "train_data.shape, val_data.shape"
   ]
  },
  {
   "cell_type": "code",
   "execution_count": 29,
   "id": "9b833043-1671-470e-8fa2-04d8d2cead5a",
   "metadata": {
    "id": "9b833043-1671-470e-8fa2-04d8d2cead5a"
   },
   "outputs": [],
   "source": [
    "features = train_data.columns[1:]\n",
    "target = train_data.columns[0]"
   ]
  },
  {
   "cell_type": "code",
   "execution_count": 30,
   "id": "6e996263-2b5d-440b-8728-be34113b6410",
   "metadata": {
    "colab": {
     "base_uri": "https://localhost:8080/",
     "height": 206
    },
    "executionInfo": {
     "elapsed": 35,
     "status": "ok",
     "timestamp": 1673506021622,
     "user": {
      "displayName": "Alexandr Gusev (alvlagus)",
      "userId": "15492356679823501478"
     },
     "user_tz": -180
    },
    "id": "6e996263-2b5d-440b-8728-be34113b6410",
    "outputId": "0462311b-6a40-4491-ed42-a92da741a762"
   },
   "outputs": [
    {
     "data": {
      "text/html": [
       "<div>\n",
       "<style scoped>\n",
       "    .dataframe tbody tr th:only-of-type {\n",
       "        vertical-align: middle;\n",
       "    }\n",
       "\n",
       "    .dataframe tbody tr th {\n",
       "        vertical-align: top;\n",
       "    }\n",
       "\n",
       "    .dataframe thead th {\n",
       "        text-align: right;\n",
       "    }\n",
       "</style>\n",
       "<table border=\"1\" class=\"dataframe\">\n",
       "  <thead>\n",
       "    <tr style=\"text-align: right;\">\n",
       "      <th></th>\n",
       "      <th>Passengers</th>\n",
       "      <th>year</th>\n",
       "      <th>month</th>\n",
       "    </tr>\n",
       "  </thead>\n",
       "  <tbody>\n",
       "    <tr>\n",
       "      <th>0</th>\n",
       "      <td>112</td>\n",
       "      <td>-1.525724</td>\n",
       "      <td>-1.534863</td>\n",
       "    </tr>\n",
       "    <tr>\n",
       "      <th>1</th>\n",
       "      <td>118</td>\n",
       "      <td>-1.525724</td>\n",
       "      <td>-1.247435</td>\n",
       "    </tr>\n",
       "    <tr>\n",
       "      <th>2</th>\n",
       "      <td>132</td>\n",
       "      <td>-1.525724</td>\n",
       "      <td>-0.960008</td>\n",
       "    </tr>\n",
       "    <tr>\n",
       "      <th>3</th>\n",
       "      <td>129</td>\n",
       "      <td>-1.525724</td>\n",
       "      <td>-0.672580</td>\n",
       "    </tr>\n",
       "    <tr>\n",
       "      <th>4</th>\n",
       "      <td>121</td>\n",
       "      <td>-1.525724</td>\n",
       "      <td>-0.385153</td>\n",
       "    </tr>\n",
       "  </tbody>\n",
       "</table>\n",
       "</div>"
      ],
      "text/plain": [
       "   Passengers      year     month\n",
       "0         112 -1.525724 -1.534863\n",
       "1         118 -1.525724 -1.247435\n",
       "2         132 -1.525724 -0.960008\n",
       "3         129 -1.525724 -0.672580\n",
       "4         121 -1.525724 -0.385153"
      ]
     },
     "execution_count": 30,
     "metadata": {},
     "output_type": "execute_result"
    }
   ],
   "source": [
    "scaler = StandardScaler()\n",
    "\n",
    "train_data[features] = scaler.fit_transform(train_data[features])\n",
    "val_data[features] = scaler.transform(val_data[features])\n",
    "\n",
    "train_data.head()"
   ]
  },
  {
   "cell_type": "markdown",
   "id": "8af7fd55-893f-4462-9fe8-5986aa8a85dc",
   "metadata": {
    "id": "8af7fd55-893f-4462-9fe8-5986aa8a85dc"
   },
   "source": [
    "Генерация выборки"
   ]
  },
  {
   "cell_type": "code",
   "execution_count": 31,
   "id": "00a25a4f-e758-4420-bee8-506753c4891f",
   "metadata": {
    "id": "00a25a4f-e758-4420-bee8-506753c4891f"
   },
   "outputs": [],
   "source": [
    "x_len = 3\n",
    "\n",
    "future = 1\n",
    "\n",
    "learning_rate = 0.001\n",
    "batch_size = 8\n",
    "epochs = 10"
   ]
  },
  {
   "cell_type": "code",
   "execution_count": 32,
   "id": "1ca7f8bc-3512-47cb-94ab-38b28f0777b2",
   "metadata": {
    "colab": {
     "base_uri": "https://localhost:8080/"
    },
    "executionInfo": {
     "elapsed": 34,
     "status": "ok",
     "timestamp": 1673506021623,
     "user": {
      "displayName": "Alexandr Gusev (alvlagus)",
      "userId": "15492356679823501478"
     },
     "user_tz": -180
    },
    "id": "1ca7f8bc-3512-47cb-94ab-38b28f0777b2",
    "outputId": "0a8fd1f0-84e1-4e2e-901a-f9a17453fde6"
   },
   "outputs": [
    {
     "name": "stdout",
     "output_type": "stream",
     "text": [
      "4 104\n",
      "35 109\n"
     ]
    }
   ],
   "source": [
    "start = x_len + future\n",
    "end = start + train_size\n",
    "\n",
    "print(start, end)\n",
    "\n",
    "X_train = train_data[features].values\n",
    "y_train = df.iloc[start:end][target].values\n",
    "\n",
    "\n",
    "x_end = len(val_data) - x_len - future\n",
    "label_start = len(train_data) + bias + x_len + future\n",
    "print(x_end, label_start)\n",
    "\n",
    "X_val = val_data.iloc[:x_end][features].values\n",
    "y_val = df.iloc[label_start:][target].values"
   ]
  },
  {
   "cell_type": "code",
   "execution_count": 33,
   "id": "a08bb8f0-aa1d-4e6d-b28f-90e41957cb0b",
   "metadata": {
    "colab": {
     "base_uri": "https://localhost:8080/"
    },
    "executionInfo": {
     "elapsed": 30,
     "status": "ok",
     "timestamp": 1673506021624,
     "user": {
      "displayName": "Alexandr Gusev (alvlagus)",
      "userId": "15492356679823501478"
     },
     "user_tz": -180
    },
    "id": "a08bb8f0-aa1d-4e6d-b28f-90e41957cb0b",
    "outputId": "8c301258-705a-444e-dc46-b9fe3071f7de"
   },
   "outputs": [
    {
     "data": {
      "text/plain": [
       "((100, 2), (100,), (35, 2), (35,))"
      ]
     },
     "execution_count": 33,
     "metadata": {},
     "output_type": "execute_result"
    }
   ],
   "source": [
    "X_train.shape, y_train.shape, X_val.shape, y_val.shape"
   ]
  },
  {
   "cell_type": "code",
   "execution_count": 34,
   "id": "e942e197-5d35-4566-adb2-a7a07faf6815",
   "metadata": {
    "colab": {
     "base_uri": "https://localhost:8080/",
     "height": 350
    },
    "executionInfo": {
     "elapsed": 433,
     "status": "ok",
     "timestamp": 1673506022030,
     "user": {
      "displayName": "Alexandr Gusev (alvlagus)",
      "userId": "15492356679823501478"
     },
     "user_tz": -180
    },
    "id": "e942e197-5d35-4566-adb2-a7a07faf6815",
    "outputId": "16d8e93c-fa6a-49c2-bc19-e78345f96440"
   },
   "outputs": [
    {
     "data": {
      "image/png": "[encoded data removed]",
      "text/plain": [
       "<Figure size 720x360 with 1 Axes>"
      ]
     },
     "metadata": {
      "needs_background": "light"
     },
     "output_type": "display_data"
    }
   ],
   "source": [
    "plt.figure(figsize=(10, 5))\n",
    "plt.plot(df.index[x_len:y_train.shape[0]+x_len],y_train[:])\n",
    "plt.plot(df.index[y_train.shape[0]+x_len+bias+future:],y_val[:])\n",
    "plt.grid('on')\n",
    "plt.xlabel('months')\n",
    "plt.ylabel('passengers')\n",
    "plt.title('airline passengers by months')\n",
    "plt.show()"
   ]
  },
  {
   "cell_type": "code",
   "execution_count": 35,
   "id": "fcf8f0b3-f6c0-42d5-b1c4-655c8569455e",
   "metadata": {
    "id": "fcf8f0b3-f6c0-42d5-b1c4-655c8569455e"
   },
   "outputs": [],
   "source": [
    "dataset_train = timeseries_dataset_from_array(\n",
    "    X_train,\n",
    "    y_train,\n",
    "    sequence_length=x_len,\n",
    "    sampling_rate=1,\n",
    "    batch_size=batch_size,\n",
    ")\n",
    "\n",
    "dataset_val = timeseries_dataset_from_array(\n",
    "    X_val,\n",
    "    y_val,\n",
    "    sequence_length=x_len,\n",
    "    sampling_rate=1,\n",
    "    batch_size=batch_size,\n",
    ")"
   ]
  },
  {
   "cell_type": "code",
   "execution_count": 36,
   "id": "210530e2-9129-4351-80d9-ba801ec3f96e",
   "metadata": {
    "colab": {
     "base_uri": "https://localhost:8080/"
    },
    "executionInfo": {
     "elapsed": 47,
     "status": "ok",
     "timestamp": 1673506022032,
     "user": {
      "displayName": "Alexandr Gusev (alvlagus)",
      "userId": "15492356679823501478"
     },
     "user_tz": -180
    },
    "id": "210530e2-9129-4351-80d9-ba801ec3f96e",
    "outputId": "a2438d95-1736-401a-dfed-052e0b67a5d7"
   },
   "outputs": [
    {
     "name": "stdout",
     "output_type": "stream",
     "text": [
      "Input shape: (8, 3, 2)\n",
      "tf.Tensor(\n",
      "[[-1.52572369 -1.24743549]\n",
      " [-1.52572369 -0.96000796]\n",
      " [-1.52572369 -0.67258043]], shape=(3, 2), dtype=float64)\n",
      "Target shape: (8,)\n",
      "tf.Tensor(135, shape=(), dtype=int64)\n"
     ]
    }
   ],
   "source": [
    "for batch in dataset_train.take(1):\n",
    "    inputs, targets = batch\n",
    "    print(\"Input shape:\", inputs.shape)\n",
    "    print(inputs[1])\n",
    "    print(\"Target shape:\", targets.shape)\n",
    "    print(targets[1])"
   ]
  },
  {
   "cell_type": "markdown",
   "id": "13baed14-1c4f-42dd-95e0-53138c03384d",
   "metadata": {
    "id": "13baed14-1c4f-42dd-95e0-53138c03384d"
   },
   "source": [
    "**LSTM**"
   ]
  },
  {
   "cell_type": "code",
   "execution_count": 37,
   "id": "de1c5ada-48f9-4755-82c1-e3d844dc5c54",
   "metadata": {
    "colab": {
     "base_uri": "https://localhost:8080/"
    },
    "executionInfo": {
     "elapsed": 39,
     "status": "ok",
     "timestamp": 1673506022033,
     "user": {
      "displayName": "Alexandr Gusev (alvlagus)",
      "userId": "15492356679823501478"
     },
     "user_tz": -180
    },
    "id": "de1c5ada-48f9-4755-82c1-e3d844dc5c54",
    "outputId": "52a629f9-8bdd-442f-aef9-7b2a7e801c06"
   },
   "outputs": [
    {
     "name": "stdout",
     "output_type": "stream",
     "text": [
      "Model: \"sequential_1\"\n",
      "_________________________________________________________________\n",
      " Layer (type)                Output Shape              Param #   \n",
      "=================================================================\n",
      " lstm_1 (LSTM)               (None, 3, 32)             4480      \n",
      "                                                                 \n",
      " conv1d (Conv1D)             (None, 3, 32)             1056      \n",
      "                                                                 \n",
      " flatten (Flatten)           (None, 96)                0         \n",
      "                                                                 \n",
      " dense_1 (Dense)             (None, 1)                 97        \n",
      "                                                                 \n",
      "=================================================================\n",
      "Total params: 5,633\n",
      "Trainable params: 5,633\n",
      "Non-trainable params: 0\n",
      "_________________________________________________________________\n"
     ]
    }
   ],
   "source": [
    "model_1 = Sequential()\n",
    "\n",
    "model_1.add(LSTM(32, input_shape=(inputs.shape[1], inputs.shape[2]),\n",
    "               return_sequences=True))\n",
    "model_1.add(Conv1D(32, 1, activation='linear'))\n",
    "model_1.add(Flatten())\n",
    "model_1.add(Dense(1, activation='linear'))\n",
    "\n",
    "model_1.compile(loss='mse', optimizer='adam', metrics=[tf.keras.metrics.RootMeanSquaredError()])\n",
    "model_1.summary()"
   ]
  },
  {
   "cell_type": "code",
   "execution_count": 38,
   "id": "0aa25ab1-33cd-4f19-a402-0a1152d3df35",
   "metadata": {
    "colab": {
     "base_uri": "https://localhost:8080/"
    },
    "executionInfo": {
     "elapsed": 4172,
     "status": "ok",
     "timestamp": 1673506026181,
     "user": {
      "displayName": "Alexandr Gusev (alvlagus)",
      "userId": "15492356679823501478"
     },
     "user_tz": -180
    },
    "id": "0aa25ab1-33cd-4f19-a402-0a1152d3df35",
    "outputId": "0fbda64e-01c4-419f-9aee-604de53ee035"
   },
   "outputs": [
    {
     "name": "stdout",
     "output_type": "stream",
     "text": [
      "Epoch 1/10\n",
      "13/13 [==============================] - 3s 47ms/step - loss: 56686.6562 - root_mean_squared_error: 238.0896 - val_loss: 193107.3281 - val_root_mean_squared_error: 439.4398\n",
      "Epoch 2/10\n",
      "13/13 [==============================] - 0s 9ms/step - loss: 56593.1328 - root_mean_squared_error: 237.8931 - val_loss: 192836.9219 - val_root_mean_squared_error: 439.1320\n",
      "Epoch 3/10\n",
      "13/13 [==============================] - 0s 9ms/step - loss: 56490.9453 - root_mean_squared_error: 237.6782 - val_loss: 192481.1406 - val_root_mean_squared_error: 438.7267\n",
      "Epoch 4/10\n",
      "13/13 [==============================] - 0s 9ms/step - loss: 56346.0312 - root_mean_squared_error: 237.3732 - val_loss: 191962.3594 - val_root_mean_squared_error: 438.1351\n",
      "Epoch 5/10\n",
      "13/13 [==============================] - 0s 9ms/step - loss: 56125.0938 - root_mean_squared_error: 236.9073 - val_loss: 191148.3281 - val_root_mean_squared_error: 437.2051\n",
      "Epoch 6/10\n",
      "13/13 [==============================] - 0s 9ms/step - loss: 55774.4375 - root_mean_squared_error: 236.1661 - val_loss: 189813.1562 - val_root_mean_squared_error: 435.6755\n",
      "Epoch 7/10\n",
      "13/13 [==============================] - 0s 8ms/step - loss: 55199.3359 - root_mean_squared_error: 234.9454 - val_loss: 187564.9688 - val_root_mean_squared_error: 433.0877\n",
      "Epoch 8/10\n",
      "13/13 [==============================] - 0s 9ms/step - loss: 54237.1562 - root_mean_squared_error: 232.8887 - val_loss: 183782.7188 - val_root_mean_squared_error: 428.6989\n",
      "Epoch 9/10\n",
      "13/13 [==============================] - 0s 10ms/step - loss: 52639.8164 - root_mean_squared_error: 229.4337 - val_loss: 177678.7500 - val_root_mean_squared_error: 421.5196\n",
      "Epoch 10/10\n",
      "13/13 [==============================] - 0s 9ms/step - loss: 50095.0625 - root_mean_squared_error: 223.8193 - val_loss: 168572.2031 - val_root_mean_squared_error: 410.5754\n"
     ]
    }
   ],
   "source": [
    "history_1 = model_1.fit(dataset_train,\n",
    "                    epochs=epochs,\n",
    "                    validation_data=dataset_val,\n",
    "                    )"
   ]
  },
  {
   "cell_type": "code",
   "execution_count": 39,
   "id": "8bcfa5fb-54cc-4105-934f-451bb31a4610",
   "metadata": {
    "colab": {
     "base_uri": "https://localhost:8080/",
     "height": 269
    },
    "executionInfo": {
     "elapsed": 17,
     "status": "ok",
     "timestamp": 1673506026182,
     "user": {
      "displayName": "Alexandr Gusev (alvlagus)",
      "userId": "15492356679823501478"
     },
     "user_tz": -180
    },
    "id": "8bcfa5fb-54cc-4105-934f-451bb31a4610",
    "outputId": "42cfec41-270a-4e35-a4e1-4a8579a3338d"
   },
   "outputs": [
    {
     "data": {
      "image/png": "[encoded data removed]",
      "text/plain": [
       "<Figure size 432x288 with 1 Axes>"
      ]
     },
     "metadata": {
      "needs_background": "light"
     },
     "output_type": "display_data"
    }
   ],
   "source": [
    "plt.plot(history_1.history['root_mean_squared_error'][:], \n",
    "         label='RMSE на обучающем наборе')\n",
    "plt.plot(history_1.history['val_root_mean_squared_error'][:], \n",
    "         label='RMSE на проверочном наборе')\n",
    "\n",
    "plt.ylabel('Средняя ошибка')\n",
    "plt.legend()\n",
    "plt.show()"
   ]
  },
  {
   "cell_type": "code",
   "execution_count": 40,
   "id": "004393c5-4c29-430e-b5ce-aa36817e2ca7",
   "metadata": {
    "id": "004393c5-4c29-430e-b5ce-aa36817e2ca7"
   },
   "outputs": [],
   "source": [
    "hist_train_1 = history_1.history['root_mean_squared_error']\n",
    "hist_val_1 = history_1.history['val_root_mean_squared_error']"
   ]
  },
  {
   "cell_type": "code",
   "execution_count": 41,
   "id": "326fa80a-d2e2-444f-b1dd-30f81421a4c7",
   "metadata": {
    "id": "326fa80a-d2e2-444f-b1dd-30f81421a4c7"
   },
   "outputs": [],
   "source": [
    "num_iteration = 10"
   ]
  },
  {
   "cell_type": "code",
   "execution_count": 42,
   "id": "1d7bc32d-620c-4ad3-9d42-04b5724745d2",
   "metadata": {
    "colab": {
     "base_uri": "https://localhost:8080/",
     "height": 1000
    },
    "executionInfo": {
     "elapsed": 17255,
     "status": "ok",
     "timestamp": 1673506043424,
     "user": {
      "displayName": "Alexandr Gusev (alvlagus)",
      "userId": "15492356679823501478"
     },
     "user_tz": -180
    },
    "id": "1d7bc32d-620c-4ad3-9d42-04b5724745d2",
    "outputId": "fbed0b40-793d-4c11-e25b-ef6f02bdde21"
   },
   "outputs": [
    {
     "name": "stdout",
     "output_type": "stream",
     "text": [
      "Epoch 1/10\n",
      "13/13 [==============================] - 0s 9ms/step - loss: 46319.1484 - root_mean_squared_error: 215.2188 - val_loss: 156247.7812 - val_root_mean_squared_error: 395.2819\n",
      "Epoch 2/10\n",
      "13/13 [==============================] - 0s 9ms/step - loss: 41209.2812 - root_mean_squared_error: 203.0007 - val_loss: 141174.3125 - val_root_mean_squared_error: 375.7317\n",
      "Epoch 3/10\n",
      "13/13 [==============================] - 0s 8ms/step - loss: 34968.1055 - root_mean_squared_error: 186.9976 - val_loss: 124416.3594 - val_root_mean_squared_error: 352.7270\n",
      "Epoch 4/10\n",
      "13/13 [==============================] - 0s 8ms/step - loss: 28113.9863 - root_mean_squared_error: 167.6723 - val_loss: 107222.7969 - val_root_mean_squared_error: 327.4489\n",
      "Epoch 5/10\n",
      "13/13 [==============================] - 0s 9ms/step - loss: 21343.2754 - root_mean_squared_error: 146.0934 - val_loss: 90646.3047 - val_root_mean_squared_error: 301.0753\n",
      "Epoch 6/10\n",
      "13/13 [==============================] - 0s 9ms/step - loss: 15312.8486 - root_mean_squared_error: 123.7451 - val_loss: 75471.0234 - val_root_mean_squared_error: 274.7199\n",
      "Epoch 7/10\n",
      "13/13 [==============================] - 0s 8ms/step - loss: 10461.7168 - root_mean_squared_error: 102.2825 - val_loss: 62238.1211 - val_root_mean_squared_error: 249.4757\n",
      "Epoch 8/10\n",
      "13/13 [==============================] - 0s 9ms/step - loss: 6936.6982 - root_mean_squared_error: 83.2868 - val_loss: 51236.8125 - val_root_mean_squared_error: 226.3555\n",
      "Epoch 9/10\n",
      "13/13 [==============================] - 0s 8ms/step - loss: 4626.3569 - root_mean_squared_error: 68.0173 - val_loss: 42495.8516 - val_root_mean_squared_error: 206.1452\n",
      "Epoch 10/10\n",
      "13/13 [==============================] - 0s 10ms/step - loss: 3259.5732 - root_mean_squared_error: 57.0927 - val_loss: 35819.4688 - val_root_mean_squared_error: 189.2603\n",
      "Epoch 1/10\n",
      "13/13 [==============================] - 0s 9ms/step - loss: 2518.6765 - root_mean_squared_error: 50.1864 - val_loss: 30867.6074 - val_root_mean_squared_error: 175.6918\n",
      "Epoch 2/10\n",
      "13/13 [==============================] - 0s 9ms/step - loss: 2129.6240 - root_mean_squared_error: 46.1479 - val_loss: 27249.9902 - val_root_mean_squared_error: 165.0757\n",
      "Epoch 3/10\n",
      "13/13 [==============================] - 0s 9ms/step - loss: 1906.3291 - root_mean_squared_error: 43.6615 - val_loss: 24601.8809 - val_root_mean_squared_error: 156.8499\n",
      "Epoch 4/10\n",
      "13/13 [==============================] - 0s 9ms/step - loss: 1749.5764 - root_mean_squared_error: 41.8279 - val_loss: 22626.4375 - val_root_mean_squared_error: 150.4209\n",
      "Epoch 5/10\n",
      "13/13 [==============================] - 0s 9ms/step - loss: 1620.6874 - root_mean_squared_error: 40.2578 - val_loss: 21106.6016 - val_root_mean_squared_error: 145.2811\n",
      "Epoch 6/10\n",
      "13/13 [==============================] - 0s 10ms/step - loss: 1511.9652 - root_mean_squared_error: 38.8840 - val_loss: 19897.5137 - val_root_mean_squared_error: 141.0585\n",
      "Epoch 7/10\n",
      "13/13 [==============================] - 0s 10ms/step - loss: 1425.6256 - root_mean_squared_error: 37.7575 - val_loss: 18909.8965 - val_root_mean_squared_error: 137.5133\n",
      "Epoch 8/10\n",
      "13/13 [==============================] - 0s 9ms/step - loss: 1363.0350 - root_mean_squared_error: 36.9193 - val_loss: 18091.6074 - val_root_mean_squared_error: 134.5051\n",
      "Epoch 9/10\n",
      "13/13 [==============================] - 0s 9ms/step - loss: 1321.6467 - root_mean_squared_error: 36.3545 - val_loss: 17411.7578 - val_root_mean_squared_error: 131.9536\n",
      "Epoch 10/10\n",
      "13/13 [==============================] - 0s 8ms/step - loss: 1296.1072 - root_mean_squared_error: 36.0015 - val_loss: 16849.3887 - val_root_mean_squared_error: 129.8052\n",
      "Epoch 1/10\n",
      "13/13 [==============================] - 0s 9ms/step - loss: 1280.5381 - root_mean_squared_error: 35.7846 - val_loss: 16387.0840 - val_root_mean_squared_error: 128.0120\n",
      "Epoch 2/10\n",
      "13/13 [==============================] - 0s 9ms/step - loss: 1270.1689 - root_mean_squared_error: 35.6394 - val_loss: 16008.2656 - val_root_mean_squared_error: 126.5238\n",
      "Epoch 3/10\n",
      "13/13 [==============================] - 0s 9ms/step - loss: 1261.8594 - root_mean_squared_error: 35.5227 - val_loss: 15696.8711 - val_root_mean_squared_error: 125.2872\n",
      "Epoch 4/10\n",
      "13/13 [==============================] - 0s 9ms/step - loss: 1253.8728 - root_mean_squared_error: 35.4101 - val_loss: 15437.9287 - val_root_mean_squared_error: 124.2495\n",
      "Epoch 5/10\n",
      "13/13 [==============================] - 0s 9ms/step - loss: 1245.4137 - root_mean_squared_error: 35.2904 - val_loss: 15218.3057 - val_root_mean_squared_error: 123.3625\n",
      "Epoch 6/10\n",
      "13/13 [==============================] - 0s 9ms/step - loss: 1236.2145 - root_mean_squared_error: 35.1598 - val_loss: 15027.1094 - val_root_mean_squared_error: 122.5851\n",
      "Epoch 7/10\n",
      "13/13 [==============================] - 0s 9ms/step - loss: 1226.2517 - root_mean_squared_error: 35.0179 - val_loss: 14855.7500 - val_root_mean_squared_error: 121.8842\n",
      "Epoch 8/10\n",
      "13/13 [==============================] - 0s 9ms/step - loss: 1215.5811 - root_mean_squared_error: 34.8652 - val_loss: 14697.7412 - val_root_mean_squared_error: 121.2342\n",
      "Epoch 9/10\n",
      "13/13 [==============================] - 0s 8ms/step - loss: 1204.2505 - root_mean_squared_error: 34.7023 - val_loss: 14548.2490 - val_root_mean_squared_error: 120.6161\n",
      "Epoch 10/10\n",
      "13/13 [==============================] - 0s 11ms/step - loss: 1192.2576 - root_mean_squared_error: 34.5291 - val_loss: 14403.6592 - val_root_mean_squared_error: 120.0152\n",
      "Epoch 1/10\n",
      "13/13 [==============================] - 0s 9ms/step - loss: 1179.5275 - root_mean_squared_error: 34.3442 - val_loss: 14261.1562 - val_root_mean_squared_error: 119.4201\n",
      "Epoch 2/10\n",
      "13/13 [==============================] - 0s 9ms/step - loss: 1165.9248 - root_mean_squared_error: 34.1456 - val_loss: 14118.2588 - val_root_mean_squared_error: 118.8203\n",
      "Epoch 3/10\n",
      "13/13 [==============================] - 0s 8ms/step - loss: 1151.3564 - root_mean_squared_error: 33.9316 - val_loss: 13972.5117 - val_root_mean_squared_error: 118.2054\n",
      "Epoch 4/10\n",
      "13/13 [==============================] - 0s 9ms/step - loss: 1136.1260 - root_mean_squared_error: 33.7065 - val_loss: 13821.2344 - val_root_mean_squared_error: 117.5637\n",
      "Epoch 5/10\n",
      "13/13 [==============================] - 0s 10ms/step - loss: 1121.3899 - root_mean_squared_error: 33.4872 - val_loss: 13661.8408 - val_root_mean_squared_error: 116.8839\n",
      "Epoch 6/10\n",
      "13/13 [==============================] - 0s 9ms/step - loss: 1108.4662 - root_mean_squared_error: 33.2936 - val_loss: 13494.0391 - val_root_mean_squared_error: 116.1638\n",
      "Epoch 7/10\n",
      "13/13 [==============================] - 0s 8ms/step - loss: 1097.4788 - root_mean_squared_error: 33.1282 - val_loss: 13323.9814 - val_root_mean_squared_error: 115.4296\n",
      "Epoch 8/10\n",
      "13/13 [==============================] - 0s 8ms/step - loss: 1087.6284 - root_mean_squared_error: 32.9792 - val_loss: 13160.9863 - val_root_mean_squared_error: 114.7213\n",
      "Epoch 9/10\n",
      "13/13 [==============================] - 0s 9ms/step - loss: 1078.0636 - root_mean_squared_error: 32.8339 - val_loss: 13009.5439 - val_root_mean_squared_error: 114.0594\n",
      "Epoch 10/10\n",
      "13/13 [==============================] - 0s 9ms/step - loss: 1068.3588 - root_mean_squared_error: 32.6858 - val_loss: 12868.6611 - val_root_mean_squared_error: 113.4401\n",
      "Epoch 1/10\n",
      "13/13 [==============================] - 0s 9ms/step - loss: 1058.4510 - root_mean_squared_error: 32.5338 - val_loss: 12735.2852 - val_root_mean_squared_error: 112.8507\n",
      "Epoch 2/10\n",
      "13/13 [==============================] - 0s 8ms/step - loss: 1048.4116 - root_mean_squared_error: 32.3792 - val_loss: 12606.6865 - val_root_mean_squared_error: 112.2795\n",
      "Epoch 3/10\n",
      "13/13 [==============================] - 0s 9ms/step - loss: 1038.3177 - root_mean_squared_error: 32.2229 - val_loss: 12481.1367 - val_root_mean_squared_error: 111.7190\n",
      "Epoch 4/10\n",
      "13/13 [==============================] - 0s 9ms/step - loss: 1028.2184 - root_mean_squared_error: 32.0658 - val_loss: 12357.7031 - val_root_mean_squared_error: 111.1652\n",
      "Epoch 5/10\n",
      "13/13 [==============================] - 0s 9ms/step - loss: 1018.1396 - root_mean_squared_error: 31.9083 - val_loss: 12235.8809 - val_root_mean_squared_error: 110.6159\n",
      "Epoch 6/10\n",
      "13/13 [==============================] - 0s 8ms/step - loss: 1008.0974 - root_mean_squared_error: 31.7505 - val_loss: 12115.3623 - val_root_mean_squared_error: 110.0698\n",
      "Epoch 7/10\n",
      "13/13 [==============================] - 0s 10ms/step - loss: 998.1029 - root_mean_squared_error: 31.5928 - val_loss: 11995.9199 - val_root_mean_squared_error: 109.5259\n",
      "Epoch 8/10\n",
      "13/13 [==============================] - 0s 8ms/step - loss: 988.1630 - root_mean_squared_error: 31.4351 - val_loss: 11877.3594 - val_root_mean_squared_error: 108.9833\n",
      "Epoch 9/10\n",
      "13/13 [==============================] - 0s 10ms/step - loss: 978.2841 - root_mean_squared_error: 31.2775 - val_loss: 11759.5469 - val_root_mean_squared_error: 108.4414\n",
      "Epoch 10/10\n",
      "13/13 [==============================] - 0s 9ms/step - loss: 968.4683 - root_mean_squared_error: 31.1202 - val_loss: 11642.3613 - val_root_mean_squared_error: 107.8998\n"
     ]
    },
    {
     "data": {
      "image/png": "[encoded data removed]",
      "text/plain": [
       "<Figure size 432x288 with 1 Axes>"
      ]
     },
     "metadata": {
      "needs_background": "light"
     },
     "output_type": "display_data"
    },
    {
     "name": "stdout",
     "output_type": "stream",
     "text": [
      "Epoch 1/10\n",
      "13/13 [==============================] - 0s 10ms/step - loss: 958.7181 - root_mean_squared_error: 30.9632 - val_loss: 11525.7197 - val_root_mean_squared_error: 107.3579\n",
      "Epoch 2/10\n",
      "13/13 [==============================] - 0s 10ms/step - loss: 949.0325 - root_mean_squared_error: 30.8064 - val_loss: 11409.5547 - val_root_mean_squared_error: 106.8155\n",
      "Epoch 3/10\n",
      "13/13 [==============================] - 0s 8ms/step - loss: 939.4105 - root_mean_squared_error: 30.6498 - val_loss: 11293.8096 - val_root_mean_squared_error: 106.2723\n",
      "Epoch 4/10\n",
      "13/13 [==============================] - 0s 9ms/step - loss: 929.8495 - root_mean_squared_error: 30.4934 - val_loss: 11178.4307 - val_root_mean_squared_error: 105.7281\n",
      "Epoch 5/10\n",
      "13/13 [==============================] - 0s 9ms/step - loss: 920.3474 - root_mean_squared_error: 30.3372 - val_loss: 11063.3643 - val_root_mean_squared_error: 105.1825\n",
      "Epoch 6/10\n",
      "13/13 [==============================] - 0s 9ms/step - loss: 910.9008 - root_mean_squared_error: 30.1811 - val_loss: 10948.5654 - val_root_mean_squared_error: 104.6354\n",
      "Epoch 7/10\n",
      "13/13 [==============================] - 0s 8ms/step - loss: 901.5079 - root_mean_squared_error: 30.0251 - val_loss: 10833.9844 - val_root_mean_squared_error: 104.0864\n",
      "Epoch 8/10\n",
      "13/13 [==============================] - 0s 8ms/step - loss: 892.1665 - root_mean_squared_error: 29.8692 - val_loss: 10719.5645 - val_root_mean_squared_error: 103.5353\n",
      "Epoch 9/10\n",
      "13/13 [==============================] - 0s 9ms/step - loss: 882.8778 - root_mean_squared_error: 29.7133 - val_loss: 10605.2695 - val_root_mean_squared_error: 102.9819\n",
      "Epoch 10/10\n",
      "13/13 [==============================] - 0s 8ms/step - loss: 873.6446 - root_mean_squared_error: 29.5575 - val_loss: 10491.0664 - val_root_mean_squared_error: 102.4259\n",
      "Epoch 1/10\n",
      "13/13 [==============================] - 0s 9ms/step - loss: 864.4751 - root_mean_squared_error: 29.4020 - val_loss: 10376.9062 - val_root_mean_squared_error: 101.8671\n",
      "Epoch 2/10\n",
      "13/13 [==============================] - 0s 9ms/step - loss: 855.3796 - root_mean_squared_error: 29.2469 - val_loss: 10262.7832 - val_root_mean_squared_error: 101.3054\n",
      "Epoch 3/10\n",
      "13/13 [==============================] - 0s 9ms/step - loss: 846.3716 - root_mean_squared_error: 29.0925 - val_loss: 10148.6904 - val_root_mean_squared_error: 100.7407\n",
      "Epoch 4/10\n",
      "13/13 [==============================] - 0s 9ms/step - loss: 837.4649 - root_mean_squared_error: 28.9390 - val_loss: 10034.6670 - val_root_mean_squared_error: 100.1732\n",
      "Epoch 5/10\n",
      "13/13 [==============================] - 0s 9ms/step - loss: 828.6718 - root_mean_squared_error: 28.7867 - val_loss: 9920.7549 - val_root_mean_squared_error: 99.6030\n",
      "Epoch 6/10\n",
      "13/13 [==============================] - 0s 8ms/step - loss: 820.0033 - root_mean_squared_error: 28.6357 - val_loss: 9807.0342 - val_root_mean_squared_error: 99.0305\n",
      "Epoch 7/10\n",
      "13/13 [==============================] - 0s 9ms/step - loss: 811.4677 - root_mean_squared_error: 28.4863 - val_loss: 9693.6045 - val_root_mean_squared_error: 98.4561\n",
      "Epoch 8/10\n",
      "13/13 [==============================] - 0s 8ms/step - loss: 803.0713 - root_mean_squared_error: 28.3385 - val_loss: 9580.5439 - val_root_mean_squared_error: 97.8803\n",
      "Epoch 9/10\n",
      "13/13 [==============================] - 0s 10ms/step - loss: 794.8193 - root_mean_squared_error: 28.1925 - val_loss: 9467.9512 - val_root_mean_squared_error: 97.3034\n",
      "Epoch 10/10\n",
      "13/13 [==============================] - 0s 9ms/step - loss: 786.7156 - root_mean_squared_error: 28.0485 - val_loss: 9355.8916 - val_root_mean_squared_error: 96.7259\n",
      "Epoch 1/10\n",
      "13/13 [==============================] - 0s 9ms/step - loss: 778.7637 - root_mean_squared_error: 27.9063 - val_loss: 9244.4219 - val_root_mean_squared_error: 96.1479\n",
      "Epoch 2/10\n",
      "13/13 [==============================] - 0s 9ms/step - loss: 770.9667 - root_mean_squared_error: 27.7663 - val_loss: 9133.5908 - val_root_mean_squared_error: 95.5698\n",
      "Epoch 3/10\n",
      "13/13 [==============================] - 0s 9ms/step - loss: 763.3286 - root_mean_squared_error: 27.6284 - val_loss: 9023.4512 - val_root_mean_squared_error: 94.9918\n",
      "Epoch 4/10\n",
      "13/13 [==============================] - 0s 9ms/step - loss: 755.8552 - root_mean_squared_error: 27.4928 - val_loss: 8914.0586 - val_root_mean_squared_error: 94.4143\n",
      "Epoch 5/10\n",
      "13/13 [==============================] - 0s 9ms/step - loss: 748.5544 - root_mean_squared_error: 27.3597 - val_loss: 8805.4844 - val_root_mean_squared_error: 93.8375\n",
      "Epoch 6/10\n",
      "13/13 [==============================] - 0s 9ms/step - loss: 741.4356 - root_mean_squared_error: 27.2293 - val_loss: 8697.8115 - val_root_mean_squared_error: 93.2621\n",
      "Epoch 7/10\n",
      "13/13 [==============================] - 0s 9ms/step - loss: 734.5099 - root_mean_squared_error: 27.1018 - val_loss: 8591.1455 - val_root_mean_squared_error: 92.6884\n",
      "Epoch 8/10\n",
      "13/13 [==============================] - 0s 9ms/step - loss: 727.7886 - root_mean_squared_error: 26.9776 - val_loss: 8485.6172 - val_root_mean_squared_error: 92.1174\n",
      "Epoch 9/10\n",
      "13/13 [==============================] - 0s 9ms/step - loss: 721.2811 - root_mean_squared_error: 26.8567 - val_loss: 8381.3584 - val_root_mean_squared_error: 91.5498\n",
      "Epoch 10/10\n",
      "13/13 [==============================] - 0s 9ms/step - loss: 714.9956 - root_mean_squared_error: 26.7394 - val_loss: 8278.5156 - val_root_mean_squared_error: 90.9864\n",
      "Epoch 1/10\n",
      "13/13 [==============================] - 0s 9ms/step - loss: 708.9367 - root_mean_squared_error: 26.6259 - val_loss: 8177.2432 - val_root_mean_squared_error: 90.4281\n",
      "Epoch 2/10\n",
      "13/13 [==============================] - 0s 9ms/step - loss: 703.1060 - root_mean_squared_error: 26.5161 - val_loss: 8077.6836 - val_root_mean_squared_error: 89.8759\n",
      "Epoch 3/10\n",
      "13/13 [==============================] - 0s 10ms/step - loss: 697.5021 - root_mean_squared_error: 26.4103 - val_loss: 7979.9688 - val_root_mean_squared_error: 89.3307\n",
      "Epoch 4/10\n",
      "13/13 [==============================] - 0s 9ms/step - loss: 692.1213 - root_mean_squared_error: 26.3082 - val_loss: 7884.2119 - val_root_mean_squared_error: 88.7931\n",
      "Epoch 5/10\n",
      "13/13 [==============================] - 0s 9ms/step - loss: 686.9580 - root_mean_squared_error: 26.2099 - val_loss: 7790.5020 - val_root_mean_squared_error: 88.2638\n",
      "Epoch 6/10\n",
      "13/13 [==============================] - 0s 9ms/step - loss: 682.0052 - root_mean_squared_error: 26.1152 - val_loss: 7698.9072 - val_root_mean_squared_error: 87.7434\n",
      "Epoch 7/10\n",
      "13/13 [==============================] - 0s 9ms/step - loss: 677.2550 - root_mean_squared_error: 26.0241 - val_loss: 7609.4834 - val_root_mean_squared_error: 87.2324\n",
      "Epoch 8/10\n",
      "13/13 [==============================] - 0s 9ms/step - loss: 672.6998 - root_mean_squared_error: 25.9365 - val_loss: 7522.2520 - val_root_mean_squared_error: 86.7309\n",
      "Epoch 9/10\n",
      "13/13 [==============================] - 0s 10ms/step - loss: 668.3314 - root_mean_squared_error: 25.8521 - val_loss: 7437.2310 - val_root_mean_squared_error: 86.2394\n",
      "Epoch 10/10\n",
      "13/13 [==============================] - 0s 9ms/step - loss: 664.1415 - root_mean_squared_error: 25.7709 - val_loss: 7354.4126 - val_root_mean_squared_error: 85.7579\n",
      "Epoch 1/10\n",
      "13/13 [==============================] - 0s 8ms/step - loss: 660.1215 - root_mean_squared_error: 25.6928 - val_loss: 7273.7896 - val_root_mean_squared_error: 85.2865\n",
      "Epoch 2/10\n",
      "13/13 [==============================] - 0s 8ms/step - loss: 656.2640 - root_mean_squared_error: 25.6177 - val_loss: 7195.3320 - val_root_mean_squared_error: 84.8253\n",
      "Epoch 3/10\n",
      "13/13 [==============================] - 0s 8ms/step - loss: 652.5609 - root_mean_squared_error: 25.5453 - val_loss: 7119.0078 - val_root_mean_squared_error: 84.3742\n",
      "Epoch 4/10\n",
      "13/13 [==============================] - 0s 8ms/step - loss: 649.0042 - root_mean_squared_error: 25.4756 - val_loss: 7044.7686 - val_root_mean_squared_error: 83.9331\n",
      "Epoch 5/10\n",
      "13/13 [==============================] - 0s 9ms/step - loss: 645.5867 - root_mean_squared_error: 25.4084 - val_loss: 6972.5718 - val_root_mean_squared_error: 83.5019\n",
      "Epoch 6/10\n",
      "13/13 [==============================] - 0s 9ms/step - loss: 642.3011 - root_mean_squared_error: 25.3437 - val_loss: 6902.3623 - val_root_mean_squared_error: 83.0805\n",
      "Epoch 7/10\n",
      "13/13 [==============================] - 0s 8ms/step - loss: 639.1403 - root_mean_squared_error: 25.2812 - val_loss: 6834.0762 - val_root_mean_squared_error: 82.6685\n",
      "Epoch 8/10\n",
      "13/13 [==============================] - 0s 8ms/step - loss: 636.0981 - root_mean_squared_error: 25.2210 - val_loss: 6767.6577 - val_root_mean_squared_error: 82.2658\n",
      "Epoch 9/10\n",
      "13/13 [==============================] - 0s 9ms/step - loss: 633.1681 - root_mean_squared_error: 25.1628 - val_loss: 6703.0459 - val_root_mean_squared_error: 81.8721\n",
      "Epoch 10/10\n",
      "13/13 [==============================] - 0s 9ms/step - loss: 630.3444 - root_mean_squared_error: 25.1067 - val_loss: 6640.1777 - val_root_mean_squared_error: 81.4873\n"
     ]
    },
    {
     "data": {
      "image/png": "[encoded data removed]",
      "text/plain": [
       "<Figure size 432x288 with 1 Axes>"
      ]
     },
     "metadata": {
      "needs_background": "light"
     },
     "output_type": "display_data"
    }
   ],
   "source": [
    "for iteration in range(num_iteration):\n",
    "    history_1 = model_1.fit(dataset_train,\n",
    "                    epochs=epochs,\n",
    "                    validation_data=dataset_val,\n",
    "                    )\n",
    "    hist_val_1.extend(history_1.history['val_root_mean_squared_error'][:])\n",
    "    hist_train_1.extend(history_1.history['root_mean_squared_error'][:])\n",
    "    \n",
    "    if (iteration + 1) % 5 == 0:\n",
    "        plt.plot(hist_train_1, \n",
    "                 label='RMSE на обучающем наборе')\n",
    "        plt.plot(hist_val_1, \n",
    "                 label='RMSE на проверочном наборе')\n",
    "\n",
    "        plt.ylabel('Средняя ошибка')\n",
    "        plt.legend()\n",
    "        plt.show() "
   ]
  },
  {
   "cell_type": "code",
   "execution_count": 43,
   "id": "469f4492-b64e-42c8-92a3-54053e8e192e",
   "metadata": {
    "colab": {
     "base_uri": "https://localhost:8080/"
    },
    "executionInfo": {
     "elapsed": 1556,
     "status": "ok",
     "timestamp": 1673506044963,
     "user": {
      "displayName": "Alexandr Gusev (alvlagus)",
      "userId": "15492356679823501478"
     },
     "user_tz": -180
    },
    "id": "469f4492-b64e-42c8-92a3-54053e8e192e",
    "outputId": "49a6d3ae-c6aa-4c2c-cd02-1c5488f7a43d"
   },
   "outputs": [
    {
     "name": "stdout",
     "output_type": "stream",
     "text": [
      "13/13 [==============================] - 0s 2ms/step\n",
      "5/5 [==============================] - 0s 3ms/step\n"
     ]
    }
   ],
   "source": [
    "pred_1 = model_1.predict(dataset_train).flatten()\n",
    "pred_val_1 = model_1.predict(dataset_val).flatten()"
   ]
  },
  {
   "cell_type": "code",
   "execution_count": 44,
   "id": "35bc4f3c-f589-4f34-adce-184e6318288a",
   "metadata": {
    "colab": {
     "base_uri": "https://localhost:8080/",
     "height": 334
    },
    "executionInfo": {
     "elapsed": 21,
     "status": "ok",
     "timestamp": 1673506044964,
     "user": {
      "displayName": "Alexandr Gusev (alvlagus)",
      "userId": "15492356679823501478"
     },
     "user_tz": -180
    },
    "id": "35bc4f3c-f589-4f34-adce-184e6318288a",
    "outputId": "965c140e-05ab-48cd-e2d9-09e37feb4e83"
   },
   "outputs": [
    {
     "data": {
      "image/png": "[encoded data removed]",
      "text/plain": [
       "<Figure size 720x360 with 1 Axes>"
      ]
     },
     "metadata": {
      "needs_background": "light"
     },
     "output_type": "display_data"
    }
   ],
   "source": [
    "start = 0\n",
    "step = 50\n",
    "plt.figure(figsize=(10, 5))\n",
    "plt.grid('on')\n",
    "plt.plot(pred_val_1[future + start: future + start + step], \n",
    "         label='Прогноз')\n",
    "plt.plot(y_val.flatten()[start: start+step], \n",
    "         label='Базовый ряд')\n",
    "plt.xlabel('Время')\n",
    "plt.ylabel('Значение ')\n",
    "\n",
    "plt.legend()\n",
    "plt.show()"
   ]
  },
  {
   "cell_type": "code",
   "execution_count": 45,
   "id": "8f97ad9c-ddca-40ae-9491-17b729c31473",
   "metadata": {
    "colab": {
     "base_uri": "https://localhost:8080/",
     "height": 334
    },
    "executionInfo": {
     "elapsed": 20,
     "status": "ok",
     "timestamp": 1673506044965,
     "user": {
      "displayName": "Alexandr Gusev (alvlagus)",
      "userId": "15492356679823501478"
     },
     "user_tz": -180
    },
    "id": "8f97ad9c-ddca-40ae-9491-17b729c31473",
    "outputId": "520a4d2b-803d-4c46-c6b8-30d9a52a74f1"
   },
   "outputs": [
    {
     "data": {
      "image/png": "[encoded data removed]",
      "text/plain": [
       "<Figure size 720x360 with 1 Axes>"
      ]
     },
     "metadata": {
      "needs_background": "light"
     },
     "output_type": "display_data"
    }
   ],
   "source": [
    "start = 0\n",
    "\n",
    "plt.figure(figsize=(10, 5))\n",
    "plt.grid('on')\n",
    "plt.plot(pred_1[future + start: future + train_size], \n",
    "         label='Прогноз')\n",
    "plt.plot(y_train.flatten()[start: train_size], \n",
    "         label='Базовый ряд')\n",
    "plt.xlabel('Время')\n",
    "plt.ylabel('Значение')\n",
    "plt.legend()\n",
    "plt.show()"
   ]
  },
  {
   "cell_type": "code",
   "execution_count": 46,
   "id": "0456f008-7462-42db-a8c3-9d50d29e99ba",
   "metadata": {
    "colab": {
     "base_uri": "https://localhost:8080/"
    },
    "executionInfo": {
     "elapsed": 20,
     "status": "ok",
     "timestamp": 1673506044966,
     "user": {
      "displayName": "Alexandr Gusev (alvlagus)",
      "userId": "15492356679823501478"
     },
     "user_tz": -180
    },
    "id": "0456f008-7462-42db-a8c3-9d50d29e99ba",
    "outputId": "38616df4-2184-4c76-afa7-6db05444f8c5"
   },
   "outputs": [
    {
     "name": "stdout",
     "output_type": "stream",
     "text": [
      "13/13 [==============================] - 0s 2ms/step - loss: 623.8995 - root_mean_squared_error: 24.9780\n",
      "5/5 [==============================] - 0s 6ms/step - loss: 6640.1777 - root_mean_squared_error: 81.4873\n",
      "train_loss: 623.8995361328125, train_m: 24.977981567382812\n",
      "test_loss: 6640.177734375, test_m: 81.48728942871094\n"
     ]
    }
   ],
   "source": [
    "train_loss_1, train_1 = model_1.evaluate(dataset_train)\n",
    "test_loss_1, test_1 = model_1.evaluate(dataset_val)\n",
    "print(f'train_loss: {train_loss_1}, train_m: {train_1}')\n",
    "print(f'test_loss: {test_loss_1}, test_m: {test_1}')\n",
    "\n",
    "model.append('LSTM')\n",
    "train.append(round(train_1,2))\n",
    "test.append(round(test_1,2))"
   ]
  },
  {
   "cell_type": "markdown",
   "id": "e0f967e3-556d-4d50-8d63-499afc22209a",
   "metadata": {
    "id": "e0f967e3-556d-4d50-8d63-499afc22209a"
   },
   "source": [
    "**LSTM_tuned**"
   ]
  },
  {
   "cell_type": "code",
   "execution_count": 47,
   "id": "43477465-2890-4122-864d-6c7ecdbdca28",
   "metadata": {
    "colab": {
     "base_uri": "https://localhost:8080/"
    },
    "executionInfo": {
     "elapsed": 973,
     "status": "ok",
     "timestamp": 1673506045927,
     "user": {
      "displayName": "Alexandr Gusev (alvlagus)",
      "userId": "15492356679823501478"
     },
     "user_tz": -180
    },
    "id": "43477465-2890-4122-864d-6c7ecdbdca28",
    "outputId": "6e599b9f-0558-404f-fb5e-0ae9b8d53df9"
   },
   "outputs": [
    {
     "name": "stdout",
     "output_type": "stream",
     "text": [
      "Model: \"sequential_2\"\n",
      "_________________________________________________________________\n",
      " Layer (type)                Output Shape              Param #   \n",
      "=================================================================\n",
      " lstm_2 (LSTM)               (None, 3, 32)             4480      \n",
      "                                                                 \n",
      " lstm_3 (LSTM)               (None, 3, 32)             8320      \n",
      "                                                                 \n",
      " conv1d_1 (Conv1D)           (None, 1, 64)             6208      \n",
      "                                                                 \n",
      " conv1d_2 (Conv1D)           (None, 1, 64)             4160      \n",
      "                                                                 \n",
      " flatten_1 (Flatten)         (None, 64)                0         \n",
      "                                                                 \n",
      " dense_2 (Dense)             (None, 3)                 195       \n",
      "                                                                 \n",
      " dense_3 (Dense)             (None, 1)                 4         \n",
      "                                                                 \n",
      "=================================================================\n",
      "Total params: 23,367\n",
      "Trainable params: 23,367\n",
      "Non-trainable params: 0\n",
      "_________________________________________________________________\n"
     ]
    }
   ],
   "source": [
    "early_stop = EarlyStopping(monitor='val_root_mean_squared_error', patience=10)\n",
    "\n",
    "model_2 = Sequential()\n",
    "\n",
    "model_2.add(LSTM(32, input_shape=(inputs.shape[1], inputs.shape[2]),\n",
    "                return_sequences=True))\n",
    "model_2.add(LSTM(32, return_sequences=True))\n",
    "model_2.add(Conv1D(64, 3, activation='linear'))\n",
    "model_2.add(Conv1D(64, 1, activation='linear'))\n",
    "model_2.add(Flatten())\n",
    "model_2.add(Dense(3, activation='linear'))\n",
    "model_2.add(Dense(1, activation='linear'))\n",
    "\n",
    "model_2.compile(loss='mse', optimizer='adam', metrics=[tf.keras.metrics.RootMeanSquaredError()])\n",
    "model_2.summary()"
   ]
  },
  {
   "cell_type": "code",
   "execution_count": 48,
   "id": "b272f0ea-f1ce-42bf-9c76-8fa6ffe25336",
   "metadata": {
    "colab": {
     "base_uri": "https://localhost:8080/"
    },
    "executionInfo": {
     "elapsed": 4411,
     "status": "ok",
     "timestamp": 1673506050325,
     "user": {
      "displayName": "Alexandr Gusev (alvlagus)",
      "userId": "15492356679823501478"
     },
     "user_tz": -180
    },
    "id": "b272f0ea-f1ce-42bf-9c76-8fa6ffe25336",
    "outputId": "32d53499-048c-46d2-8c99-7bc0404cbf62",
    "tags": []
   },
   "outputs": [
    {
     "name": "stdout",
     "output_type": "stream",
     "text": [
      "Epoch 1/10\n",
      "13/13 [==============================] - 5s 73ms/step - loss: 56657.3281 - root_mean_squared_error: 238.0280 - val_loss: 193044.8438 - val_root_mean_squared_error: 439.3687\n",
      "Epoch 2/10\n",
      "13/13 [==============================] - 0s 10ms/step - loss: 56405.8789 - root_mean_squared_error: 237.4992 - val_loss: 192187.2500 - val_root_mean_squared_error: 438.3917\n",
      "Epoch 3/10\n",
      "13/13 [==============================] - 0s 11ms/step - loss: 55622.2227 - root_mean_squared_error: 235.8436 - val_loss: 189047.4844 - val_root_mean_squared_error: 434.7959\n",
      "Epoch 4/10\n",
      "13/13 [==============================] - 0s 12ms/step - loss: 52869.9844 - root_mean_squared_error: 229.9347 - val_loss: 177552.1406 - val_root_mean_squared_error: 421.3694\n",
      "Epoch 5/10\n",
      "13/13 [==============================] - 0s 11ms/step - loss: 43900.9492 - root_mean_squared_error: 209.5255 - val_loss: 140014.5312 - val_root_mean_squared_error: 374.1852\n",
      "Epoch 6/10\n",
      "13/13 [==============================] - 0s 10ms/step - loss: 21407.6562 - root_mean_squared_error: 146.3136 - val_loss: 54992.9258 - val_root_mean_squared_error: 234.5057\n",
      "Epoch 7/10\n",
      "13/13 [==============================] - 0s 11ms/step - loss: 2168.0344 - root_mean_squared_error: 46.5622 - val_loss: 5757.2778 - val_root_mean_squared_error: 75.8767\n",
      "Epoch 8/10\n",
      "13/13 [==============================] - 0s 11ms/step - loss: 4250.9517 - root_mean_squared_error: 65.1993 - val_loss: 10190.1123 - val_root_mean_squared_error: 100.9461\n",
      "Epoch 9/10\n",
      "13/13 [==============================] - 0s 11ms/step - loss: 1044.6971 - root_mean_squared_error: 32.3218 - val_loss: 7228.3188 - val_root_mean_squared_error: 85.0195\n",
      "Epoch 10/10\n",
      "13/13 [==============================] - 0s 11ms/step - loss: 813.9302 - root_mean_squared_error: 28.5295 - val_loss: 4753.2026 - val_root_mean_squared_error: 68.9435\n"
     ]
    }
   ],
   "source": [
    "history_2 = model_2.fit(dataset_train,\n",
    "                    epochs=epochs,\n",
    "                    validation_data=dataset_val,\n",
    "                    callbacks=[early_stop])"
   ]
  },
  {
   "cell_type": "code",
   "execution_count": 49,
   "id": "81cc679a-30ba-4f40-a023-236a34a95ae4",
   "metadata": {
    "colab": {
     "base_uri": "https://localhost:8080/",
     "height": 265
    },
    "executionInfo": {
     "elapsed": 508,
     "status": "ok",
     "timestamp": 1673506050816,
     "user": {
      "displayName": "Alexandr Gusev (alvlagus)",
      "userId": "15492356679823501478"
     },
     "user_tz": -180
    },
    "id": "81cc679a-30ba-4f40-a023-236a34a95ae4",
    "outputId": "6b3bd2d6-aed7-44fc-ef40-76b01e93940f"
   },
   "outputs": [
    {
     "data": {
      "image/png": "[encoded data removed]",
      "text/plain": [
       "<Figure size 432x288 with 1 Axes>"
      ]
     },
     "metadata": {
      "needs_background": "light"
     },
     "output_type": "display_data"
    }
   ],
   "source": [
    "plt.plot(history_2.history['root_mean_squared_error'][:], \n",
    "         label='RMSE на обучающем наборе')\n",
    "plt.plot(history_2.history['val_root_mean_squared_error'][:], \n",
    "         label='RMSE на проверочном наборе')\n",
    "\n",
    "plt.ylabel('Средняя ошибка')\n",
    "plt.legend()\n",
    "plt.show()"
   ]
  },
  {
   "cell_type": "code",
   "execution_count": 50,
   "id": "88f52b4d-ad77-4b2b-8c30-fefb3ea04f4d",
   "metadata": {
    "id": "88f52b4d-ad77-4b2b-8c30-fefb3ea04f4d"
   },
   "outputs": [],
   "source": [
    "hist_train_2 = history_2.history['root_mean_squared_error']\n",
    "hist_val_2 = history_2.history['val_root_mean_squared_error']"
   ]
  },
  {
   "cell_type": "code",
   "execution_count": 51,
   "id": "0aa6e43f-d0b8-4730-be14-c5714b8d14c1",
   "metadata": {
    "colab": {
     "base_uri": "https://localhost:8080/",
     "height": 1000
    },
    "executionInfo": {
     "elapsed": 19258,
     "status": "ok",
     "timestamp": 1673506070063,
     "user": {
      "displayName": "Alexandr Gusev (alvlagus)",
      "userId": "15492356679823501478"
     },
     "user_tz": -180
    },
    "id": "0aa6e43f-d0b8-4730-be14-c5714b8d14c1",
    "outputId": "5aa82b57-2401-44df-e12a-6d8aa6bb2fe2"
   },
   "outputs": [
    {
     "name": "stdout",
     "output_type": "stream",
     "text": [
      "Epoch 1/10\n",
      "13/13 [==============================] - 0s 12ms/step - loss: 742.7281 - root_mean_squared_error: 27.2530 - val_loss: 5329.9497 - val_root_mean_squared_error: 73.0065\n",
      "Epoch 2/10\n",
      "13/13 [==============================] - 0s 10ms/step - loss: 741.9700 - root_mean_squared_error: 27.2391 - val_loss: 4946.5225 - val_root_mean_squared_error: 70.3315\n",
      "Epoch 3/10\n",
      "13/13 [==============================] - 0s 11ms/step - loss: 734.6971 - root_mean_squared_error: 27.1053 - val_loss: 4940.5034 - val_root_mean_squared_error: 70.2887\n",
      "Epoch 4/10\n",
      "13/13 [==============================] - 0s 11ms/step - loss: 719.0196 - root_mean_squared_error: 26.8145 - val_loss: 4969.3257 - val_root_mean_squared_error: 70.4934\n",
      "Epoch 5/10\n",
      "13/13 [==============================] - 0s 11ms/step - loss: 712.3680 - root_mean_squared_error: 26.6902 - val_loss: 4830.5972 - val_root_mean_squared_error: 69.5025\n",
      "Epoch 6/10\n",
      "13/13 [==============================] - 0s 10ms/step - loss: 704.0395 - root_mean_squared_error: 26.5337 - val_loss: 4769.8955 - val_root_mean_squared_error: 69.0644\n",
      "Epoch 7/10\n",
      "13/13 [==============================] - 0s 12ms/step - loss: 697.7781 - root_mean_squared_error: 26.4155 - val_loss: 4665.0693 - val_root_mean_squared_error: 68.3013\n",
      "Epoch 8/10\n",
      "13/13 [==============================] - 0s 11ms/step - loss: 691.6060 - root_mean_squared_error: 26.2984 - val_loss: 4589.8984 - val_root_mean_squared_error: 67.7488\n",
      "Epoch 9/10\n",
      "13/13 [==============================] - 0s 10ms/step - loss: 685.7766 - root_mean_squared_error: 26.1873 - val_loss: 4513.3726 - val_root_mean_squared_error: 67.1816\n",
      "Epoch 10/10\n",
      "13/13 [==============================] - 0s 11ms/step - loss: 680.2964 - root_mean_squared_error: 26.0825 - val_loss: 4442.7256 - val_root_mean_squared_error: 66.6538\n",
      "Epoch 1/10\n",
      "13/13 [==============================] - 0s 11ms/step - loss: 675.1284 - root_mean_squared_error: 25.9832 - val_loss: 4374.8359 - val_root_mean_squared_error: 66.1425\n",
      "Epoch 2/10\n",
      "13/13 [==============================] - 0s 11ms/step - loss: 670.3448 - root_mean_squared_error: 25.8910 - val_loss: 4309.9375 - val_root_mean_squared_error: 65.6501\n",
      "Epoch 3/10\n",
      "13/13 [==============================] - 0s 11ms/step - loss: 665.8600 - root_mean_squared_error: 25.8043 - val_loss: 4248.6489 - val_root_mean_squared_error: 65.1817\n",
      "Epoch 4/10\n",
      "13/13 [==============================] - 0s 11ms/step - loss: 661.6945 - root_mean_squared_error: 25.7234 - val_loss: 4190.4141 - val_root_mean_squared_error: 64.7334\n",
      "Epoch 5/10\n",
      "13/13 [==============================] - 0s 10ms/step - loss: 657.7963 - root_mean_squared_error: 25.6475 - val_loss: 4135.4453 - val_root_mean_squared_error: 64.3074\n",
      "Epoch 6/10\n",
      "13/13 [==============================] - 0s 11ms/step - loss: 654.1705 - root_mean_squared_error: 25.5768 - val_loss: 4083.3306 - val_root_mean_squared_error: 63.9009\n",
      "Epoch 7/10\n",
      "13/13 [==============================] - 0s 11ms/step - loss: 650.7819 - root_mean_squared_error: 25.5104 - val_loss: 4034.0938 - val_root_mean_squared_error: 63.5145\n",
      "Epoch 8/10\n",
      "13/13 [==============================] - 0s 11ms/step - loss: 647.6252 - root_mean_squared_error: 25.4485 - val_loss: 3987.4622 - val_root_mean_squared_error: 63.1464\n",
      "Epoch 9/10\n",
      "13/13 [==============================] - 0s 10ms/step - loss: 644.6736 - root_mean_squared_error: 25.3904 - val_loss: 3943.3738 - val_root_mean_squared_error: 62.7963\n",
      "Epoch 10/10\n",
      "13/13 [==============================] - 0s 10ms/step - loss: 641.9180 - root_mean_squared_error: 25.3361 - val_loss: 3901.6140 - val_root_mean_squared_error: 62.4629\n",
      "Epoch 1/10\n",
      "13/13 [==============================] - 0s 11ms/step - loss: 639.3354 - root_mean_squared_error: 25.2851 - val_loss: 3862.0762 - val_root_mean_squared_error: 62.1456\n",
      "Epoch 2/10\n",
      "13/13 [==============================] - 0s 10ms/step - loss: 636.9161 - root_mean_squared_error: 25.2372 - val_loss: 3824.5862 - val_root_mean_squared_error: 61.8432\n",
      "Epoch 3/10\n",
      "13/13 [==============================] - 0s 11ms/step - loss: 634.6411 - root_mean_squared_error: 25.1921 - val_loss: 3789.0156 - val_root_mean_squared_error: 61.5550\n",
      "Epoch 4/10\n",
      "13/13 [==============================] - 0s 11ms/step - loss: 632.4995 - root_mean_squared_error: 25.1495 - val_loss: 3755.2197 - val_root_mean_squared_error: 61.2798\n",
      "Epoch 5/10\n",
      "13/13 [==============================] - 0s 11ms/step - loss: 630.4758 - root_mean_squared_error: 25.1093 - val_loss: 3723.0632 - val_root_mean_squared_error: 61.0169\n",
      "Epoch 6/10\n",
      "13/13 [==============================] - 0s 11ms/step - loss: 628.5604 - root_mean_squared_error: 25.0711 - val_loss: 3692.4243 - val_root_mean_squared_error: 60.7653\n",
      "Epoch 7/10\n",
      "13/13 [==============================] - 0s 10ms/step - loss: 626.7389 - root_mean_squared_error: 25.0348 - val_loss: 3663.1731 - val_root_mean_squared_error: 60.5242\n",
      "Epoch 8/10\n",
      "13/13 [==============================] - 0s 11ms/step - loss: 625.0027 - root_mean_squared_error: 25.0001 - val_loss: 3635.1992 - val_root_mean_squared_error: 60.2926\n",
      "Epoch 9/10\n",
      "13/13 [==============================] - 0s 11ms/step - loss: 623.3403 - root_mean_squared_error: 24.9668 - val_loss: 3608.3857 - val_root_mean_squared_error: 60.0698\n",
      "Epoch 10/10\n",
      "13/13 [==============================] - 0s 11ms/step - loss: 621.7439 - root_mean_squared_error: 24.9348 - val_loss: 3582.6406 - val_root_mean_squared_error: 59.8552\n",
      "Epoch 1/10\n",
      "13/13 [==============================] - 0s 11ms/step - loss: 620.2040 - root_mean_squared_error: 24.9039 - val_loss: 3557.8501 - val_root_mean_squared_error: 59.6477\n",
      "Epoch 2/10\n",
      "13/13 [==============================] - 0s 10ms/step - loss: 618.7128 - root_mean_squared_error: 24.8739 - val_loss: 3533.9370 - val_root_mean_squared_error: 59.4469\n",
      "Epoch 3/10\n",
      "13/13 [==============================] - 0s 11ms/step - loss: 617.2632 - root_mean_squared_error: 24.8448 - val_loss: 3510.8064 - val_root_mean_squared_error: 59.2521\n",
      "Epoch 4/10\n",
      "13/13 [==============================] - 0s 11ms/step - loss: 615.8489 - root_mean_squared_error: 24.8163 - val_loss: 3488.3862 - val_root_mean_squared_error: 59.0626\n",
      "Epoch 5/10\n",
      "13/13 [==============================] - 0s 11ms/step - loss: 614.4631 - root_mean_squared_error: 24.7884 - val_loss: 3466.5933 - val_root_mean_squared_error: 58.8778\n",
      "Epoch 6/10\n",
      "13/13 [==============================] - 0s 11ms/step - loss: 613.1003 - root_mean_squared_error: 24.7609 - val_loss: 3445.3689 - val_root_mean_squared_error: 58.6973\n",
      "Epoch 7/10\n",
      "13/13 [==============================] - 0s 11ms/step - loss: 611.7549 - root_mean_squared_error: 24.7337 - val_loss: 3424.6345 - val_root_mean_squared_error: 58.5204\n",
      "Epoch 8/10\n",
      "13/13 [==============================] - 0s 11ms/step - loss: 610.4227 - root_mean_squared_error: 24.7067 - val_loss: 3404.3499 - val_root_mean_squared_error: 58.3468\n",
      "Epoch 9/10\n",
      "13/13 [==============================] - 0s 11ms/step - loss: 609.0985 - root_mean_squared_error: 24.6799 - val_loss: 3384.4429 - val_root_mean_squared_error: 58.1760\n",
      "Epoch 10/10\n",
      "13/13 [==============================] - 0s 10ms/step - loss: 607.7780 - root_mean_squared_error: 24.6532 - val_loss: 3364.8748 - val_root_mean_squared_error: 58.0075\n",
      "Epoch 1/10\n",
      "13/13 [==============================] - 0s 11ms/step - loss: 606.4573 - root_mean_squared_error: 24.6264 - val_loss: 3345.5884 - val_root_mean_squared_error: 57.8411\n",
      "Epoch 2/10\n",
      "13/13 [==============================] - 0s 10ms/step - loss: 605.1318 - root_mean_squared_error: 24.5994 - val_loss: 3326.5496 - val_root_mean_squared_error: 57.6762\n",
      "Epoch 3/10\n",
      "13/13 [==============================] - 0s 11ms/step - loss: 603.7986 - root_mean_squared_error: 24.5723 - val_loss: 3307.7117 - val_root_mean_squared_error: 57.5127\n",
      "Epoch 4/10\n",
      "13/13 [==============================] - 0s 11ms/step - loss: 602.4534 - root_mean_squared_error: 24.5449 - val_loss: 3289.0408 - val_root_mean_squared_error: 57.3502\n",
      "Epoch 5/10\n",
      "13/13 [==============================] - 0s 12ms/step - loss: 601.0925 - root_mean_squared_error: 24.5172 - val_loss: 3270.4978 - val_root_mean_squared_error: 57.1883\n",
      "Epoch 6/10\n",
      "13/13 [==============================] - 0s 10ms/step - loss: 599.7128 - root_mean_squared_error: 24.4890 - val_loss: 3252.0520 - val_root_mean_squared_error: 57.0268\n",
      "Epoch 7/10\n"
     ]
    },
    {
     "name": "stdout",
     "output_type": "stream",
     "text": [
      "13/13 [==============================] - 0s 11ms/step - loss: 598.3094 - root_mean_squared_error: 24.4604 - val_loss: 3233.6738 - val_root_mean_squared_error: 56.8654\n",
      "Epoch 8/10\n",
      "13/13 [==============================] - 0s 11ms/step - loss: 596.8795 - root_mean_squared_error: 24.4311 - val_loss: 3215.3340 - val_root_mean_squared_error: 56.7039\n",
      "Epoch 9/10\n",
      "13/13 [==============================] - 0s 11ms/step - loss: 595.4193 - root_mean_squared_error: 24.4012 - val_loss: 3197.0005 - val_root_mean_squared_error: 56.5420\n",
      "Epoch 10/10\n",
      "13/13 [==============================] - 0s 11ms/step - loss: 593.9240 - root_mean_squared_error: 24.3706 - val_loss: 3178.6528 - val_root_mean_squared_error: 56.3795\n"
     ]
    },
    {
     "data": {
      "image/png": "[encoded data removed]",
      "text/plain": [
       "<Figure size 432x288 with 1 Axes>"
      ]
     },
     "metadata": {
      "needs_background": "light"
     },
     "output_type": "display_data"
    },
    {
     "name": "stdout",
     "output_type": "stream",
     "text": [
      "Epoch 1/10\n",
      "13/13 [==============================] - 0s 11ms/step - loss: 592.3903 - root_mean_squared_error: 24.3391 - val_loss: 3160.2607 - val_root_mean_squared_error: 56.2162\n",
      "Epoch 2/10\n",
      "13/13 [==============================] - 0s 11ms/step - loss: 590.8129 - root_mean_squared_error: 24.3066 - val_loss: 3141.7986 - val_root_mean_squared_error: 56.0518\n",
      "Epoch 3/10\n",
      "13/13 [==============================] - 0s 10ms/step - loss: 589.1882 - root_mean_squared_error: 24.2732 - val_loss: 3123.2454 - val_root_mean_squared_error: 55.8860\n",
      "Epoch 4/10\n",
      "13/13 [==============================] - 0s 12ms/step - loss: 587.5109 - root_mean_squared_error: 24.2386 - val_loss: 3104.5720 - val_root_mean_squared_error: 55.7187\n",
      "Epoch 5/10\n",
      "13/13 [==============================] - 0s 11ms/step - loss: 585.7760 - root_mean_squared_error: 24.2028 - val_loss: 3085.7542 - val_root_mean_squared_error: 55.5496\n",
      "Epoch 6/10\n",
      "13/13 [==============================] - 0s 10ms/step - loss: 583.9774 - root_mean_squared_error: 24.1656 - val_loss: 3066.7646 - val_root_mean_squared_error: 55.3784\n",
      "Epoch 7/10\n",
      "13/13 [==============================] - 0s 12ms/step - loss: 582.1098 - root_mean_squared_error: 24.1270 - val_loss: 3047.5781 - val_root_mean_squared_error: 55.2049\n",
      "Epoch 8/10\n",
      "13/13 [==============================] - 0s 12ms/step - loss: 580.1664 - root_mean_squared_error: 24.0866 - val_loss: 3028.1655 - val_root_mean_squared_error: 55.0288\n",
      "Epoch 9/10\n",
      "13/13 [==============================] - 0s 11ms/step - loss: 578.1406 - root_mean_squared_error: 24.0446 - val_loss: 3008.4958 - val_root_mean_squared_error: 54.8498\n",
      "Epoch 10/10\n",
      "13/13 [==============================] - 0s 12ms/step - loss: 576.0244 - root_mean_squared_error: 24.0005 - val_loss: 2988.5386 - val_root_mean_squared_error: 54.6675\n",
      "Epoch 1/10\n",
      "13/13 [==============================] - 0s 11ms/step - loss: 573.8104 - root_mean_squared_error: 23.9543 - val_loss: 2968.2593 - val_root_mean_squared_error: 54.4817\n",
      "Epoch 2/10\n",
      "13/13 [==============================] - 0s 12ms/step - loss: 571.4894 - root_mean_squared_error: 23.9058 - val_loss: 2947.6204 - val_root_mean_squared_error: 54.2920\n",
      "Epoch 3/10\n",
      "13/13 [==============================] - 0s 13ms/step - loss: 569.0512 - root_mean_squared_error: 23.8548 - val_loss: 2926.5820 - val_root_mean_squared_error: 54.0979\n",
      "Epoch 4/10\n",
      "13/13 [==============================] - 0s 11ms/step - loss: 566.4856 - root_mean_squared_error: 23.8010 - val_loss: 2905.0991 - val_root_mean_squared_error: 53.8990\n",
      "Epoch 5/10\n",
      "13/13 [==============================] - 0s 11ms/step - loss: 563.7805 - root_mean_squared_error: 23.7441 - val_loss: 2883.1272 - val_root_mean_squared_error: 53.6948\n",
      "Epoch 6/10\n",
      "13/13 [==============================] - 0s 12ms/step - loss: 560.9237 - root_mean_squared_error: 23.6838 - val_loss: 2860.6118 - val_root_mean_squared_error: 53.4847\n",
      "Epoch 7/10\n",
      "13/13 [==============================] - 0s 10ms/step - loss: 557.8998 - root_mean_squared_error: 23.6199 - val_loss: 2837.4939 - val_root_mean_squared_error: 53.2681\n",
      "Epoch 8/10\n",
      "13/13 [==============================] - 0s 11ms/step - loss: 554.6940 - root_mean_squared_error: 23.5519 - val_loss: 2813.7102 - val_root_mean_squared_error: 53.0444\n",
      "Epoch 9/10\n",
      "13/13 [==============================] - 0s 11ms/step - loss: 551.2877 - root_mean_squared_error: 23.4795 - val_loss: 2789.1870 - val_root_mean_squared_error: 52.8128\n",
      "Epoch 10/10\n",
      "13/13 [==============================] - 0s 11ms/step - loss: 547.6617 - root_mean_squared_error: 23.4022 - val_loss: 2763.8457 - val_root_mean_squared_error: 52.5723\n",
      "Epoch 1/10\n",
      "13/13 [==============================] - 0s 10ms/step - loss: 543.7945 - root_mean_squared_error: 23.3194 - val_loss: 2737.6013 - val_root_mean_squared_error: 52.3221\n",
      "Epoch 2/10\n",
      "13/13 [==============================] - 0s 11ms/step - loss: 539.6615 - root_mean_squared_error: 23.2306 - val_loss: 2710.3491 - val_root_mean_squared_error: 52.0610\n",
      "Epoch 3/10\n",
      "13/13 [==============================] - 0s 11ms/step - loss: 535.2351 - root_mean_squared_error: 23.1351 - val_loss: 2681.9866 - val_root_mean_squared_error: 51.7879\n",
      "Epoch 4/10\n",
      "13/13 [==============================] - 0s 13ms/step - loss: 530.4857 - root_mean_squared_error: 23.0323 - val_loss: 2652.3853 - val_root_mean_squared_error: 51.5013\n",
      "Epoch 5/10\n",
      "13/13 [==============================] - 0s 11ms/step - loss: 525.3790 - root_mean_squared_error: 22.9211 - val_loss: 2621.4138 - val_root_mean_squared_error: 51.1997\n",
      "Epoch 6/10\n",
      "13/13 [==============================] - 0s 11ms/step - loss: 519.8773 - root_mean_squared_error: 22.8008 - val_loss: 2588.9229 - val_root_mean_squared_error: 50.8815\n",
      "Epoch 7/10\n",
      "13/13 [==============================] - 0s 10ms/step - loss: 513.9399 - root_mean_squared_error: 22.6702 - val_loss: 2554.7485 - val_root_mean_squared_error: 50.5445\n",
      "Epoch 8/10\n",
      "13/13 [==============================] - 0s 11ms/step - loss: 507.5207 - root_mean_squared_error: 22.5282 - val_loss: 2518.7134 - val_root_mean_squared_error: 50.1868\n",
      "Epoch 9/10\n",
      "13/13 [==============================] - 0s 11ms/step - loss: 500.5703 - root_mean_squared_error: 22.3734 - val_loss: 2480.6289 - val_root_mean_squared_error: 49.8059\n",
      "Epoch 10/10\n",
      "13/13 [==============================] - 0s 11ms/step - loss: 493.0346 - root_mean_squared_error: 22.2044 - val_loss: 2440.2935 - val_root_mean_squared_error: 49.3993\n",
      "Epoch 1/10\n",
      "13/13 [==============================] - 0s 12ms/step - loss: 484.8578 - root_mean_squared_error: 22.0195 - val_loss: 2397.5024 - val_root_mean_squared_error: 48.9643\n",
      "Epoch 2/10\n",
      "13/13 [==============================] - 0s 12ms/step - loss: 475.9810 - root_mean_squared_error: 21.8170 - val_loss: 2352.0542 - val_root_mean_squared_error: 48.4980\n",
      "Epoch 3/10\n",
      "13/13 [==============================] - 0s 12ms/step - loss: 466.3461 - root_mean_squared_error: 21.5950 - val_loss: 2303.7615 - val_root_mean_squared_error: 47.9975\n",
      "Epoch 4/10\n",
      "13/13 [==============================] - 0s 12ms/step - loss: 455.8982 - root_mean_squared_error: 21.3518 - val_loss: 2252.4622 - val_root_mean_squared_error: 47.4601\n",
      "Epoch 5/10\n",
      "13/13 [==============================] - 0s 11ms/step - loss: 444.5880 - root_mean_squared_error: 21.0853 - val_loss: 2198.0435 - val_root_mean_squared_error: 46.8833\n",
      "Epoch 6/10\n",
      "13/13 [==============================] - 0s 11ms/step - loss: 432.3798 - root_mean_squared_error: 20.7937 - val_loss: 2140.4626 - val_root_mean_squared_error: 46.2651\n",
      "Epoch 7/10\n",
      "13/13 [==============================] - 0s 11ms/step - loss: 419.2553 - root_mean_squared_error: 20.4757 - val_loss: 2079.7703 - val_root_mean_squared_error: 45.6045\n",
      "Epoch 8/10\n",
      "13/13 [==============================] - 0s 10ms/step - loss: 405.2219 - root_mean_squared_error: 20.1301 - val_loss: 2016.1385 - val_root_mean_squared_error: 44.9014\n",
      "Epoch 9/10\n",
      "13/13 [==============================] - 0s 12ms/step - loss: 390.3182 - root_mean_squared_error: 19.7565 - val_loss: 1949.8795 - val_root_mean_squared_error: 44.1574\n",
      "Epoch 10/10\n",
      "13/13 [==============================] - 0s 11ms/step - loss: 374.6219 - root_mean_squared_error: 19.3552 - val_loss: 1881.4641 - val_root_mean_squared_error: 43.3758\n",
      "Epoch 1/10\n",
      "13/13 [==============================] - 0s 12ms/step - loss: 358.2545 - root_mean_squared_error: 18.9276 - val_loss: 1811.5222 - val_root_mean_squared_error: 42.5620\n",
      "Epoch 2/10\n",
      "13/13 [==============================] - 0s 12ms/step - loss: 341.3817 - root_mean_squared_error: 18.4765 - val_loss: 1740.8314 - val_root_mean_squared_error: 41.7233\n",
      "Epoch 3/10\n",
      "13/13 [==============================] - 0s 13ms/step - loss: 324.2123 - root_mean_squared_error: 18.0059 - val_loss: 1670.2941 - val_root_mean_squared_error: 40.8692\n",
      "Epoch 4/10\n",
      "13/13 [==============================] - 0s 11ms/step - loss: 306.9908 - root_mean_squared_error: 17.5212 - val_loss: 1600.8846 - val_root_mean_squared_error: 40.0111\n",
      "Epoch 5/10\n",
      "13/13 [==============================] - 0s 12ms/step - loss: 289.9848 - root_mean_squared_error: 17.0289 - val_loss: 1533.5984 - val_root_mean_squared_error: 39.1612\n",
      "Epoch 6/10\n",
      "13/13 [==============================] - 0s 13ms/step - loss: 273.4692 - root_mean_squared_error: 16.5369 - val_loss: 1469.3843 - val_root_mean_squared_error: 38.3326\n",
      "Epoch 7/10\n"
     ]
    },
    {
     "name": "stdout",
     "output_type": "stream",
     "text": [
      "13/13 [==============================] - 0s 12ms/step - loss: 257.7089 - root_mean_squared_error: 16.0533 - val_loss: 1409.0780 - val_root_mean_squared_error: 37.5377\n",
      "Epoch 8/10\n",
      "13/13 [==============================] - 0s 12ms/step - loss: 242.9387 - root_mean_squared_error: 15.5865 - val_loss: 1353.3405 - val_root_mean_squared_error: 36.7878\n",
      "Epoch 9/10\n",
      "13/13 [==============================] - 0s 13ms/step - loss: 229.3475 - root_mean_squared_error: 15.1442 - val_loss: 1302.6301 - val_root_mean_squared_error: 36.0920\n",
      "Epoch 10/10\n",
      "13/13 [==============================] - 0s 11ms/step - loss: 217.0657 - root_mean_squared_error: 14.7331 - val_loss: 1257.1775 - val_root_mean_squared_error: 35.4567\n"
     ]
    },
    {
     "data": {
      "image/png": "[encoded data removed]",
      "text/plain": [
       "<Figure size 432x288 with 1 Axes>"
      ]
     },
     "metadata": {
      "needs_background": "light"
     },
     "output_type": "display_data"
    }
   ],
   "source": [
    "for iteration in range(num_iteration):\n",
    "    history_2 = model_2.fit(dataset_train,\n",
    "                    epochs=epochs,\n",
    "                    validation_data=dataset_val,\n",
    "                    callbacks=[early_stop])\n",
    "    hist_val_2.extend(history_1.history['val_root_mean_squared_error'][:])\n",
    "    hist_train_2.extend(history_1.history['root_mean_squared_error'][:])\n",
    "    \n",
    "    if (iteration + 1) % 5 == 0:\n",
    "        plt.plot(hist_train_2, \n",
    "                 label='RMSE на обучающем наборе')\n",
    "        plt.plot(hist_val_2, \n",
    "                 label='RMSE на проверочном наборе')\n",
    "\n",
    "        plt.ylabel('Средняя ошибка')\n",
    "        plt.legend()\n",
    "        plt.show() "
   ]
  },
  {
   "cell_type": "code",
   "execution_count": 52,
   "id": "ab9f47dd-4f6b-4691-81de-8d21749fba85",
   "metadata": {
    "colab": {
     "base_uri": "https://localhost:8080/"
    },
    "executionInfo": {
     "elapsed": 516,
     "status": "ok",
     "timestamp": 1673506070561,
     "user": {
      "displayName": "Alexandr Gusev (alvlagus)",
      "userId": "15492356679823501478"
     },
     "user_tz": -180
    },
    "id": "ab9f47dd-4f6b-4691-81de-8d21749fba85",
    "outputId": "e6dfba05-32ae-4d5a-8cd9-820b180a881d"
   },
   "outputs": [
    {
     "name": "stdout",
     "output_type": "stream",
     "text": [
      "13/13 [==============================] - 1s 3ms/step\n",
      "5/5 [==============================] - 0s 6ms/step\n"
     ]
    }
   ],
   "source": [
    "pred_2 = model_2.predict(dataset_train).flatten()\n",
    "pred_val_2 = model_2.predict(dataset_val).flatten()"
   ]
  },
  {
   "cell_type": "code",
   "execution_count": 53,
   "id": "2f57f494-ed3a-4a66-94cb-6d751629b345",
   "metadata": {
    "colab": {
     "base_uri": "https://localhost:8080/",
     "height": 334
    },
    "executionInfo": {
     "elapsed": 10,
     "status": "ok",
     "timestamp": 1673506070562,
     "user": {
      "displayName": "Alexandr Gusev (alvlagus)",
      "userId": "15492356679823501478"
     },
     "user_tz": -180
    },
    "id": "2f57f494-ed3a-4a66-94cb-6d751629b345",
    "outputId": "a4d0a281-561c-4cf3-b130-ba9e51301859"
   },
   "outputs": [
    {
     "data": {
      "image/png": "[encoded data removed]",
      "text/plain": [
       "<Figure size 720x360 with 1 Axes>"
      ]
     },
     "metadata": {
      "needs_background": "light"
     },
     "output_type": "display_data"
    }
   ],
   "source": [
    "start = 0\n",
    "step = 50\n",
    "plt.figure(figsize=(10, 5))\n",
    "plt.grid('on')\n",
    "plt.plot(pred_val_2[future + start: future + start + step], \n",
    "         label='Прогноз')\n",
    "plt.plot(y_val.flatten()[start: start+step], \n",
    "         label='Базовый ряд')\n",
    "plt.xlabel('Время')\n",
    "plt.ylabel('Значение ')\n",
    "\n",
    "plt.legend()\n",
    "plt.show()"
   ]
  },
  {
   "cell_type": "code",
   "execution_count": 54,
   "id": "8773bd4b-db21-47c4-828e-2eb5d551cae5",
   "metadata": {
    "colab": {
     "base_uri": "https://localhost:8080/",
     "height": 334
    },
    "executionInfo": {
     "elapsed": 427,
     "status": "ok",
     "timestamp": 1673506070981,
     "user": {
      "displayName": "Alexandr Gusev (alvlagus)",
      "userId": "15492356679823501478"
     },
     "user_tz": -180
    },
    "id": "8773bd4b-db21-47c4-828e-2eb5d551cae5",
    "outputId": "2f9b39f4-afba-428f-d31e-7eeea67eb136"
   },
   "outputs": [
    {
     "data": {
      "image/png": "[encoded data removed]",
      "text/plain": [
       "<Figure size 720x360 with 1 Axes>"
      ]
     },
     "metadata": {
      "needs_background": "light"
     },
     "output_type": "display_data"
    }
   ],
   "source": [
    "start = 0\n",
    "\n",
    "plt.figure(figsize=(10, 5))\n",
    "plt.grid('on')\n",
    "plt.plot(pred_2[future + start: future + train_size], \n",
    "         label='Прогноз')\n",
    "plt.plot(y_train.flatten()[start: train_size], \n",
    "         label='Базовый ряд')\n",
    "plt.xlabel('Время')\n",
    "plt.ylabel('Значение')\n",
    "plt.legend()\n",
    "plt.show()"
   ]
  },
  {
   "cell_type": "code",
   "execution_count": 55,
   "id": "20672273-2360-4297-936e-83571a137b2f",
   "metadata": {
    "colab": {
     "base_uri": "https://localhost:8080/"
    },
    "executionInfo": {
     "elapsed": 16,
     "status": "ok",
     "timestamp": 1673506070981,
     "user": {
      "displayName": "Alexandr Gusev (alvlagus)",
      "userId": "15492356679823501478"
     },
     "user_tz": -180
    },
    "id": "20672273-2360-4297-936e-83571a137b2f",
    "outputId": "deeffd8e-bd2f-44e6-8efb-477ae8ddd3a9"
   },
   "outputs": [
    {
     "name": "stdout",
     "output_type": "stream",
     "text": [
      "13/13 [==============================] - 0s 3ms/step - loss: 189.0155 - root_mean_squared_error: 13.7483\n",
      "5/5 [==============================] - 0s 5ms/step - loss: 1257.1775 - root_mean_squared_error: 35.4567\n",
      "train_loss: 189.0155029296875, train_m: 13.748291015625\n",
      "test_loss: 1257.177490234375, test_m: 35.45669937133789\n"
     ]
    }
   ],
   "source": [
    "train_loss_2, train_2 = model_2.evaluate(dataset_train)\n",
    "test_loss_2, test_2 = model_2.evaluate(dataset_val)\n",
    "print(f'train_loss: {train_loss_2}, train_m: {train_2}')\n",
    "print(f'test_loss: {test_loss_2}, test_m: {test_2}')\n",
    "\n",
    "model.append('LSTM_tuned')\n",
    "train.append(round(train_2,2))\n",
    "test.append(round(test_2,2))"
   ]
  },
  {
   "cell_type": "code",
   "execution_count": 56,
   "id": "01c95773-c635-4460-8ebe-5b645e9e6526",
   "metadata": {
    "id": "01c95773-c635-4460-8ebe-5b645e9e6526"
   },
   "outputs": [],
   "source": [
    "results['model'] = model\n",
    "results['train'] = train\n",
    "results['test'] = test"
   ]
  },
  {
   "cell_type": "code",
   "execution_count": 57,
   "id": "2dcc7356-e7ee-4cf3-aced-89e081e84b0f",
   "metadata": {
    "colab": {
     "base_uri": "https://localhost:8080/",
     "height": 143
    },
    "executionInfo": {
     "elapsed": 10,
     "status": "ok",
     "timestamp": 1673506070982,
     "user": {
      "displayName": "Alexandr Gusev (alvlagus)",
      "userId": "15492356679823501478"
     },
     "user_tz": -180
    },
    "id": "2dcc7356-e7ee-4cf3-aced-89e081e84b0f",
    "outputId": "41d1b987-9bb1-455d-8732-4b6b975e6dda"
   },
   "outputs": [
    {
     "data": {
      "text/html": [
       "<div>\n",
       "<style scoped>\n",
       "    .dataframe tbody tr th:only-of-type {\n",
       "        vertical-align: middle;\n",
       "    }\n",
       "\n",
       "    .dataframe tbody tr th {\n",
       "        vertical-align: top;\n",
       "    }\n",
       "\n",
       "    .dataframe thead th {\n",
       "        text-align: right;\n",
       "    }\n",
       "</style>\n",
       "<table border=\"1\" class=\"dataframe\">\n",
       "  <thead>\n",
       "    <tr style=\"text-align: right;\">\n",
       "      <th></th>\n",
       "      <th>model</th>\n",
       "      <th>train</th>\n",
       "      <th>test</th>\n",
       "    </tr>\n",
       "  </thead>\n",
       "  <tbody>\n",
       "    <tr>\n",
       "      <th>0</th>\n",
       "      <td>Baseline</td>\n",
       "      <td>25.78</td>\n",
       "      <td>59.39</td>\n",
       "    </tr>\n",
       "    <tr>\n",
       "      <th>1</th>\n",
       "      <td>LSTM</td>\n",
       "      <td>24.98</td>\n",
       "      <td>81.49</td>\n",
       "    </tr>\n",
       "    <tr>\n",
       "      <th>2</th>\n",
       "      <td>LSTM_tuned</td>\n",
       "      <td>13.75</td>\n",
       "      <td>35.46</td>\n",
       "    </tr>\n",
       "  </tbody>\n",
       "</table>\n",
       "</div>"
      ],
      "text/plain": [
       "        model  train   test\n",
       "0    Baseline  25.78  59.39\n",
       "1        LSTM  24.98  81.49\n",
       "2  LSTM_tuned  13.75  35.46"
      ]
     },
     "execution_count": 57,
     "metadata": {},
     "output_type": "execute_result"
    }
   ],
   "source": [
    "results"
   ]
  },
  {
   "cell_type": "markdown",
   "id": "05864a6c-002c-4c9c-949e-4d9e41058b8b",
   "metadata": {
    "id": "05864a6c-002c-4c9c-949e-4d9e41058b8b"
   },
   "source": [
    "**Вывод**  \n",
    "Минимальная LSTM показывает результат хуже, чем базовая. При добавлении ещё одного слоя LSTM и добавив конвалюцию, далее растянув всё в один вектор и сделав полносвязанную классификацию, получили лучшый результат."
   ]
  },
  {
   "cell_type": "markdown",
   "id": "03337c98-3abc-4ea3-91b5-d5f2ff53e557",
   "metadata": {
    "id": "03337c98-3abc-4ea3-91b5-d5f2ff53e557"
   },
   "source": [
    "#### 2. Попробуйте изменить параметры нейронной сети, генерирующей текст таким образом, чтобы добиться генерации как можно более осмысленного текста. Пришлите лучший текст из получившихся и опишите предпринятые для его получения действия. Можно использовать текст другого произведения."
   ]
  },
  {
   "cell_type": "code",
   "execution_count": 58,
   "id": "31db3d8f-28da-4f81-9eb5-8e5e17a31196",
   "metadata": {
    "colab": {
     "base_uri": "https://localhost:8080/"
    },
    "executionInfo": {
     "elapsed": 6987827,
     "status": "ok",
     "timestamp": 1673513222743,
     "user": {
      "displayName": "Alexandr Gusev (alvlagus)",
      "userId": "15492356679823501478"
     },
     "user_tz": -180
    },
    "id": "31db3d8f-28da-4f81-9eb5-8e5e17a31196",
    "outputId": "fc56f33b-75a6-40e3-fa49-6f494d19a348"
   },
   "outputs": [
    {
     "name": "stdout",
     "output_type": "stream",
     "text": [
      "==================================================\n",
      "Итерация #: 0\n",
      "Epoch 1/20\n",
      "1240/1240 [==============================] - 157s 110ms/step - loss: 2.3384\n",
      "Epoch 2/20\n",
      "1240/1240 [==============================] - 140s 113ms/step - loss: 1.9681\n",
      "Epoch 3/20\n",
      "1240/1240 [==============================] - 134s 108ms/step - loss: 1.8104\n",
      "Epoch 4/20\n",
      "1240/1240 [==============================] - 134s 108ms/step - loss: 1.6955\n",
      "Epoch 5/20\n",
      "1240/1240 [==============================] - 142s 114ms/step - loss: 1.6086\n",
      "Epoch 6/20\n",
      "1240/1240 [==============================] - 140s 113ms/step - loss: 1.5406\n",
      "Epoch 7/20\n",
      "1240/1240 [==============================] - 141s 113ms/step - loss: 1.4839\n",
      "Epoch 8/20\n",
      "1240/1240 [==============================] - 140s 113ms/step - loss: 1.4366\n",
      "Epoch 9/20\n",
      "1240/1240 [==============================] - 144s 116ms/step - loss: 1.3965\n",
      "Epoch 10/20\n",
      "1240/1240 [==============================] - 145s 117ms/step - loss: 1.3617\n",
      "Epoch 11/20\n",
      "1240/1240 [==============================] - 142s 114ms/step - loss: 1.3311\n",
      "Epoch 12/20\n",
      "1240/1240 [==============================] - 142s 114ms/step - loss: 1.3033\n",
      "Epoch 13/20\n",
      "1240/1240 [==============================] - 141s 114ms/step - loss: 1.2798\n",
      "Epoch 14/20\n",
      "1240/1240 [==============================] - 144s 116ms/step - loss: 1.2573\n",
      "Epoch 15/20\n",
      "1240/1240 [==============================] - 165s 133ms/step - loss: 1.2375\n",
      "Epoch 16/20\n",
      "1240/1240 [==============================] - 162s 131ms/step - loss: 1.2181\n",
      "Epoch 17/20\n",
      "1240/1240 [==============================] - 163s 131ms/step - loss: 1.2021\n",
      "Epoch 18/20\n",
      "1240/1240 [==============================] - 154s 124ms/step - loss: 1.1863\n",
      "Epoch 19/20\n",
      "1240/1240 [==============================] - 155s 125ms/step - loss: 1.1711\n",
      "Epoch 20/20\n",
      "1240/1240 [==============================] - 151s 122ms/step - loss: 1.1579\n",
      "Генерация из посева: ark, and thought it would be as well to introduce some other subject of conversation. while she was \n",
      "ark, and thought it would be as well to introduce some other subject of conversation. while she was a large papers will ==================================================\n",
      "Итерация #: 1\n",
      "Epoch 1/20\n",
      "1240/1240 [==============================] - 165s 133ms/step - loss: 1.1444\n",
      "Epoch 2/20\n",
      "1240/1240 [==============================] - 172s 139ms/step - loss: 1.1332\n",
      "Epoch 3/20\n",
      "1240/1240 [==============================] - 179s 144ms/step - loss: 1.1218\n",
      "Epoch 4/20\n",
      "1240/1240 [==============================] - 166s 134ms/step - loss: 1.1107\n",
      "Epoch 5/20\n",
      "1240/1240 [==============================] - 159s 128ms/step - loss: 1.1004\n",
      "Epoch 6/20\n",
      "1240/1240 [==============================] - 160s 129ms/step - loss: 1.0905\n",
      "Epoch 7/20\n",
      "1240/1240 [==============================] - 160s 129ms/step - loss: 1.0818\n",
      "Epoch 8/20\n",
      "1240/1240 [==============================] - 162s 131ms/step - loss: 1.0734\n",
      "Epoch 9/20\n",
      "1240/1240 [==============================] - 159s 128ms/step - loss: 1.0670\n",
      "Epoch 10/20\n",
      "1240/1240 [==============================] - 161s 130ms/step - loss: 1.0582\n",
      "Epoch 11/20\n",
      "1240/1240 [==============================] - 160s 129ms/step - loss: 1.0515\n",
      "Epoch 12/20\n",
      "1240/1240 [==============================] - 161s 130ms/step - loss: 1.0451\n",
      "Epoch 13/20\n",
      "1240/1240 [==============================] - 161s 130ms/step - loss: 1.0393\n",
      "Epoch 14/20\n",
      "1240/1240 [==============================] - 162s 131ms/step - loss: 1.0330\n",
      "Epoch 15/20\n",
      "1240/1240 [==============================] - 160s 129ms/step - loss: 1.0278\n",
      "Epoch 16/20\n",
      "1240/1240 [==============================] - 161s 130ms/step - loss: 1.0224\n",
      "Epoch 17/20\n",
      "1240/1240 [==============================] - 160s 129ms/step - loss: 1.0177\n",
      "Epoch 18/20\n",
      "1240/1240 [==============================] - 161s 130ms/step - loss: 1.0119\n",
      "Epoch 19/20\n",
      "1240/1240 [==============================] - 160s 129ms/step - loss: 1.0081\n",
      "Epoch 20/20\n",
      "1240/1240 [==============================] - 160s 129ms/step - loss: 1.0040\n",
      "Генерация из посева: t asked. oh, im not particular as to size, alice hastily replied; only one doesnt like changing so o\n",
      "t asked. oh, im not particular as to size, alice hastily replied; only one doesnt like changing so often, of course the ==================================================\n",
      "Итерация #: 2\n",
      "Epoch 1/20\n",
      "1240/1240 [==============================] - 158s 128ms/step - loss: 0.9997\n",
      "Epoch 2/20\n",
      "1240/1240 [==============================] - 157s 127ms/step - loss: 0.9959\n",
      "Epoch 3/20\n",
      "1240/1240 [==============================] - 161s 130ms/step - loss: 0.9918\n",
      "Epoch 4/20\n",
      "1240/1240 [==============================] - 158s 128ms/step - loss: 0.9886\n",
      "Epoch 5/20\n",
      "1240/1240 [==============================] - 158s 127ms/step - loss: 0.9860\n",
      "Epoch 6/20\n",
      "1240/1240 [==============================] - 160s 129ms/step - loss: 0.9824\n",
      "Epoch 7/20\n",
      "1240/1240 [==============================] - 159s 128ms/step - loss: 0.9787\n",
      "Epoch 8/20\n",
      "1240/1240 [==============================] - 156s 126ms/step - loss: 0.9763\n",
      "Epoch 9/20\n",
      "1240/1240 [==============================] - 158s 127ms/step - loss: 0.9748\n",
      "Epoch 10/20\n",
      "1240/1240 [==============================] - 158s 127ms/step - loss: 0.9719\n",
      "Epoch 11/20\n",
      "1240/1240 [==============================] - 157s 126ms/step - loss: 0.9680\n",
      "Epoch 12/20\n",
      "1240/1240 [==============================] - 156s 126ms/step - loss: 0.9658\n",
      "Epoch 13/20\n",
      "1240/1240 [==============================] - 158s 127ms/step - loss: 0.9641\n",
      "Epoch 14/20\n",
      "1240/1240 [==============================] - 158s 128ms/step - loss: 0.9610\n",
      "Epoch 15/20\n",
      "1240/1240 [==============================] - 159s 128ms/step - loss: 0.9586\n",
      "Epoch 16/20\n",
      "1240/1240 [==============================] - 157s 127ms/step - loss: 0.9580\n",
      "Epoch 17/20\n",
      "1240/1240 [==============================] - 156s 126ms/step - loss: 0.9536\n",
      "Epoch 18/20\n",
      "1240/1240 [==============================] - 157s 127ms/step - loss: 0.9527\n",
      "Epoch 19/20\n",
      "1240/1240 [==============================] - 156s 126ms/step - loss: 0.9520\n",
      "Epoch 20/20\n",
      "1240/1240 [==============================] - 157s 127ms/step - loss: 0.9488\n",
      "Генерация из посева: of croquet she was playing against herself, for this curious child was very fond of pretending to be\n",
      "of croquet she was playing against herself, for this curious child was very fond of pretending to be so impatiently. ali==================================================\n",
      "Итерация #: 3\n",
      "Epoch 1/20\n",
      "1240/1240 [==============================] - 148s 119ms/step - loss: 0.9482\n",
      "Epoch 2/20\n",
      "1240/1240 [==============================] - 149s 120ms/step - loss: 0.9470\n",
      "Epoch 3/20\n",
      "1240/1240 [==============================] - 152s 122ms/step - loss: 0.9436\n",
      "Epoch 4/20\n",
      "1240/1240 [==============================] - 150s 121ms/step - loss: 0.9431\n",
      "Epoch 5/20\n",
      "1240/1240 [==============================] - 148s 119ms/step - loss: 0.9414\n",
      "Epoch 6/20\n",
      "1240/1240 [==============================] - 149s 120ms/step - loss: 0.9397\n",
      "Epoch 7/20\n",
      "1240/1240 [==============================] - 151s 122ms/step - loss: 0.9390\n",
      "Epoch 8/20\n",
      "1240/1240 [==============================] - 151s 122ms/step - loss: 0.9363\n",
      "Epoch 9/20\n",
      "1240/1240 [==============================] - 149s 120ms/step - loss: 0.9360\n",
      "Epoch 10/20\n",
      "1240/1240 [==============================] - 149s 120ms/step - loss: 0.9338\n",
      "Epoch 11/20\n",
      "1240/1240 [==============================] - 148s 120ms/step - loss: 0.9329\n",
      "Epoch 12/20\n",
      "1240/1240 [==============================] - 151s 122ms/step - loss: 0.9317\n",
      "Epoch 13/20\n",
      "1240/1240 [==============================] - 148s 120ms/step - loss: 0.9294\n",
      "Epoch 14/20\n",
      "1240/1240 [==============================] - 149s 120ms/step - loss: 0.9279\n",
      "Epoch 15/20\n",
      "1240/1240 [==============================] - 149s 120ms/step - loss: 0.9262\n",
      "Epoch 16/20\n",
      "1240/1240 [==============================] - 150s 121ms/step - loss: 0.9258\n",
      "Epoch 17/20\n",
      "1240/1240 [==============================] - 151s 122ms/step - loss: 0.9252\n",
      "Epoch 18/20\n",
      "1240/1240 [==============================] - 150s 121ms/step - loss: 0.9241\n",
      "Epoch 19/20\n",
      "1240/1240 [==============================] - 149s 121ms/step - loss: 0.9227\n",
      "Epoch 20/20\n",
      "1240/1240 [==============================] - 149s 120ms/step - loss: 0.9202\n",
      "Генерация из посева: ried the roots of trees, and ive tried banks, and ive tried hedges, the pigeon went on, without atte\n",
      "ried the roots of trees, and ive tried banks, and ive tried hedges, the pigeon went on, without attending to alice, and ==================================================\n",
      "Итерация #: 4\n",
      "Epoch 1/20\n",
      "1240/1240 [==============================] - 147s 119ms/step - loss: 0.9207\n",
      "Epoch 2/20\n",
      "1240/1240 [==============================] - 148s 119ms/step - loss: 0.9202\n",
      "Epoch 3/20\n",
      "1240/1240 [==============================] - 147s 119ms/step - loss: 0.9188\n",
      "Epoch 4/20\n",
      "1240/1240 [==============================] - 132s 106ms/step - loss: 0.9182\n",
      "Epoch 5/20\n",
      "1240/1240 [==============================] - 141s 114ms/step - loss: 0.9170\n",
      "Epoch 6/20\n",
      "1240/1240 [==============================] - 147s 119ms/step - loss: 0.9161\n",
      "Epoch 7/20\n",
      "1240/1240 [==============================] - 146s 118ms/step - loss: 0.9143\n",
      "Epoch 8/20\n",
      "1240/1240 [==============================] - 146s 117ms/step - loss: 0.9135\n",
      "Epoch 9/20\n",
      "1240/1240 [==============================] - 147s 118ms/step - loss: 0.9131\n",
      "Epoch 10/20\n",
      "1240/1240 [==============================] - 146s 118ms/step - loss: 0.9127\n",
      "Epoch 11/20\n",
      "1240/1240 [==============================] - 146s 118ms/step - loss: 0.9113\n",
      "Epoch 12/20\n",
      "1240/1240 [==============================] - 146s 117ms/step - loss: 0.9107\n",
      "Epoch 13/20\n",
      "1240/1240 [==============================] - 146s 118ms/step - loss: 0.9093\n",
      "Epoch 14/20\n",
      "1240/1240 [==============================] - 146s 118ms/step - loss: 0.9097\n",
      "Epoch 15/20\n",
      "1240/1240 [==============================] - 146s 118ms/step - loss: 0.9081\n",
      "Epoch 16/20\n",
      "1240/1240 [==============================] - 146s 118ms/step - loss: 0.9074\n",
      "Epoch 17/20\n",
      "1240/1240 [==============================] - 146s 118ms/step - loss: 0.9069\n",
      "Epoch 18/20\n",
      "1240/1240 [==============================] - 146s 118ms/step - loss: 0.9067\n",
      "Epoch 19/20\n",
      "1240/1240 [==============================] - 146s 118ms/step - loss: 0.9054\n",
      "Epoch 20/20\n",
      "1240/1240 [==============================] - 146s 118ms/step - loss: 0.9050\n",
      "Генерация из посева: ing the cheshire cat sitting on a bough of a tree a few yards off. the cat only grinned when it saw \n",
      "ing the cheshire cat sitting on a bough of a tree a few yards off. the cat only grinned when it saw meant to the project\n"
     ]
    }
   ],
   "source": [
    "with open(\"C:/Ангелина/Data Sience/4 четверть/Нейронные сети/5/alice_in_wonderland.txt\", 'rb') as _in:  \n",
    "    lines = []\n",
    "    for line in _in:\n",
    "        line = line.strip().lower().decode(\"ascii\", \"ignore\")\n",
    "        if len(line) == 0:\n",
    "            continue\n",
    "        lines.append(line)\n",
    "text = \" \".join(lines)\n",
    "chars = set([c for c in text])\n",
    "nb_chars = len(chars)\n",
    "\n",
    "char2index = {c: i for i, c in enumerate(chars)}\n",
    "index2char = {i: c for i, c in enumerate(chars)}\n",
    "\n",
    "SEQLEN, STEP = 100, 1\n",
    "input_chars, label_chars = [], []\n",
    "\n",
    "for i in range(0, len(text) - SEQLEN, STEP):\n",
    "    input_chars.append(text[i: i + SEQLEN])\n",
    "    label_chars.append(text[i + SEQLEN])\n",
    "    \n",
    "X = np.zeros((len(input_chars), SEQLEN, nb_chars), dtype=bool)\n",
    "y = np.zeros((len(input_chars), nb_chars), dtype=bool)\n",
    "for i, input_char in enumerate(input_chars):\n",
    "    for j, ch in enumerate(input_char):\n",
    "        X[i, j, char2index[ch]] = 1\n",
    "    y[i, char2index[label_chars[i]]] = 1\n",
    "    \n",
    "BATCH_SIZE, HIDDEN_SIZE = 128, 128\n",
    "NUM_ITERATIONS = 5 \n",
    "NUM_EPOCHS_PER_ITERATION = 20 \n",
    "NUM_PREDS_PER_EPOCH = 20 \n",
    "\n",
    "model = Sequential()\n",
    "model.add(\n",
    "    GRU(  \n",
    "        HIDDEN_SIZE,\n",
    "        return_sequences=False,\n",
    "        input_shape=(SEQLEN, nb_chars),\n",
    "        unroll=True\n",
    "    )\n",
    ")\n",
    "model.add(Dense(nb_chars))\n",
    "model.add(Activation(\"softmax\"))\n",
    "model.compile(loss=\"categorical_crossentropy\", optimizer=\"rmsprop\")\n",
    "\n",
    "# выполнение серий тренировочных и демонстрационных итераций \n",
    "for iteration in range(NUM_ITERATIONS):\n",
    "    \n",
    "    # для каждой итерации запуск передачи данных в модель \n",
    "    print(\"=\" * 50)\n",
    "    print(\"Итерация #: %d\" % (iteration))\n",
    "    model.fit(X, y, batch_size=BATCH_SIZE, epochs=NUM_EPOCHS_PER_ITERATION)\n",
    "    \n",
    "    test_idx = np.random.randint(len(input_chars))\n",
    "    test_chars = input_chars[test_idx]\n",
    "    \n",
    "    print(\"Генерация из посева: %s\" % (test_chars))\n",
    "    print(test_chars, end=\"\")\n",
    "    for i in range(NUM_PREDS_PER_EPOCH):\n",
    "        X_test = np.zeros((1, SEQLEN, nb_chars))\n",
    "        for j, ch in enumerate(test_chars):\n",
    "            X_test[0, j, char2index[ch]] = 1\n",
    "        \n",
    "        # осуществление предсказания с помощью текущей модели.\n",
    "        pred = model.predict(X_test, verbose=0)[0]\n",
    "        y_pred = index2char[np.argmax(pred)]\n",
    "        \n",
    "        # вывод предсказания добавленного к тестовому примеру \n",
    "        print(y_pred, end=\"\")\n",
    "        \n",
    "        # инкрементация тестового примера содержащего предсказание\n",
    "        test_chars = test_chars[1:] + y_pred\n",
    "        \n",
    "print()        "
   ]
  },
  {
   "cell_type": "markdown",
   "id": "alX1CLxrkaEb",
   "metadata": {
    "id": "alX1CLxrkaEb"
   },
   "source": [
    "**Вывод**  \n",
    "Были изменены гиперпараметры модели, такие как количество эпох и количество предсказаний в эпоху. Данные изменения дали положительный результат. Генерируемый моделью текст стал более осмысленным."
   ]
  },
  {
   "cell_type": "code",
   "execution_count": null,
   "id": "dqlYBmlJk2o9",
   "metadata": {
    "id": "dqlYBmlJk2o9"
   },
   "outputs": [],
   "source": []
  },
  {
   "cell_type": "code",
   "execution_count": null,
   "id": "2e8cd493",
   "metadata": {},
   "outputs": [],
   "source": []
  },
  {
   "cell_type": "markdown",
   "id": "77985f83",
   "metadata": {},
   "source": [
    "#### 4. Предложите свои варианты решения проблемы исчезающего градиента в RNN."
   ]
  },
  {
   "cell_type": "markdown",
   "id": "63db6737",
   "metadata": {},
   "source": [
    "Для обучения RNN используется специальный вариант техники обратного распространения ошибки - по времени (Backpropogation Through Time, BPTT). Из-за этого имеется проблема исчезающего градиента в RNN. Во время обратного распространения ошибки обновление веса будет очень маленьким от слоя к слою, и в какой-то момент новый вес, который нужно добавить, станет равным старому весу, поэтому изменений нет, и обучение сети затруднено.\n",
    "\n",
    "LSTM и GRU решают проблему исчезновения градиентов, так как у них есть внутренние механизмы, называемые ворота (gate), которые могут регулировать поток информации.\n",
    "\n",
    "В LTSM:\n",
    "Ворота забывания (forget gate) решают, что следует сохранить от предыдущих шагов.\n",
    "\n",
    "Входные ворота (input gate) решают, какую информацию добавить к текущему шагу.\n",
    "\n",
    "Выходные ворота (output gate) определяют, каким должно быть следующее скрытое состояние.\n",
    "\n",
    "В GRU есть только два типа ворот:\n",
    "Ворота обновления (update gate) действуют аналогично воротам забывания и входным воротам в LSTM, они решают, какую информацию сохранить, а какую выбросить, и какую новую информацию добавить.\n",
    "\n",
    "Ворота сброса (reset gate) используются, чтобы решить, какую часть прошлой информации следует забыть.\n",
    "\n",
    "С помощью вышеуказанных механизмов информация сохраняется для последующего использования, тем самым предотвращая постепенное затухание старых сигналов во время обработки."
   ]
  },
  {
   "cell_type": "code",
   "execution_count": null,
   "id": "d482d989",
   "metadata": {},
   "outputs": [],
   "source": []
  }
 ],
 "metadata": {
  "accelerator": "GPU",
  "colab": {
   "provenance": [
    {
     "file_id": "1nvk5siOMkOKoKlc-6sbB0lwrKWKA4xUb",
     "timestamp": 1673553746178
    }
   ]
  },
  "gpuClass": "standard",
  "kernelspec": {
   "display_name": "Python 3 (ipykernel)",
   "language": "python",
   "name": "python3"
  },
  "language_info": {
   "codemirror_mode": {
    "name": "ipython",
    "version": 3
   },
   "file_extension": ".py",
   "mimetype": "text/x-python",
   "name": "python",
   "nbconvert_exporter": "python",
   "pygments_lexer": "ipython3",
   "version": "3.9.7"
  }
 },
 "nbformat": 4,
 "nbformat_minor": 5
}
